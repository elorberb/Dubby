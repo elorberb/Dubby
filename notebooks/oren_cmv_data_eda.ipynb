{
 "nbformat": 4,
 "nbformat_minor": 0,
 "metadata": {
  "colab": {
   "provenance": []
  },
  "kernelspec": {
   "name": "deltapredictor",
   "language": "python",
   "display_name": "Python (dubby)"
  },
  "language_info": {
   "name": "python"
  }
 },
 "cells": [
  {
   "cell_type": "code",
   "execution_count": 1,
   "metadata": {
    "id": "UlSLemBe4oC8",
    "ExecuteTime": {
     "end_time": "2024-02-08T16:22:46.411093400Z",
     "start_time": "2024-02-08T16:22:43.869298200Z"
    }
   },
   "outputs": [
    {
     "name": "stderr",
     "output_type": "stream",
     "text": [
      "C:\\Users\\elorberb\\AppData\\Local\\Temp\\ipykernel_15684\\2421629014.py:1: DeprecationWarning: \n",
      "Pyarrow will become a required dependency of pandas in the next major release of pandas (pandas 3.0),\n",
      "(to allow more performant data types, such as the Arrow string type, and better interoperability with other libraries)\n",
      "but was not found to be installed on your system.\n",
      "If this would cause problems for you,\n",
      "please provide us feedback at https://github.com/pandas-dev/pandas/issues/54466\n",
      "        \n",
      "  import pandas as pd\n"
     ]
    }
   ],
   "source": [
    "import pandas as pd\n",
    "import matplotlib.pyplot as plt\n",
    "import numpy as np\n",
    "from collections import Counter"
   ]
  },
  {
   "cell_type": "code",
   "source": [
    "csv_data_path = \"../data/cdp_data_bundle.tar/cdp_data_bundle/annotated_trees_101.csv\"\n",
    "df = pd.read_csv(csv_data_path)\n",
    "df.head()"
   ],
   "metadata": {
    "colab": {
     "base_uri": "https://localhost:8080/",
     "height": 964
    },
    "id": "tjwxtVnN45ma",
    "outputId": "1ed4f915-7792-41c4-f221-f8498570f2d7",
    "ExecuteTime": {
     "end_time": "2024-02-08T16:23:29.945322100Z",
     "start_time": "2024-02-08T16:23:29.651237700Z"
    }
   },
   "execution_count": 4,
   "outputs": [
    {
     "data": {
      "text/plain": "       Unnamed: 0  node_id tree_id   timestamp          author  \\\n0               0   4r2a4d  4r2a4d  1467557303  sickoftheshell   \n1               1  d4xp1q6  4r2a4d  1467557821    MSPaintClock   \n2               2  d4xpbiw  4r2a4d  1467558355  sickoftheshell   \n3               3  d4y4nt7  4r2a4d  1467584235    lovelosttoss   \n4               4  d4xpumw  4r2a4d  1467559384    ZerexTheCool   \n...           ...      ...     ...         ...             ...   \n10554       10554  duib2w9  7yf2le  1519073471       MutinyGMV   \n10555       10555  duibhx7  7yf2le  1519073875          _busch   \n10556       10556  duibnz1  7yf2le  1519074041       MutinyGMV   \n10557       10557  dui4q3s  7yf2le  1519067247        Mdcastle   \n10558       10558  dui57q4  7yf2le  1519067730        donaldsw   \n\n                                                    text  parent  Aggressive  \\\n0      I posted this on other subreddit but I figure ...      -1           0   \n1      Are you talking about relationships starting a...       0           0   \n2      I was focusing more on the first (relationship...       1           0   \n3      I've been in a LDR for the past 2 1/2 years. W...       2           0   \n4      It depends on what people want. If you persona...       0           0   \n...                                                  ...     ...         ...   \n10554  <quote>Also, there is no secret sauce teaching...   10553           0   \n10555                                  you should teach!   10554           0   \n10556  Nope there is even less money in that than the...   10555           0   \n10557  Ted Bundy had an IQ of 136. Would more educati...   10508           0   \n10558  There will always be outliers. I don’t think h...   10557           0   \n\n       AgreeBut  AgreeToDisagree  ...  Positive  Repetition  RephraseAttack  \\\n0             0                0  ...         0           0               0   \n1             0                0  ...         0           0               0   \n2             0                0  ...         0           0               0   \n3             0                0  ...         0           0               0   \n4             0                0  ...         0           0               0   \n...         ...              ...  ...       ...         ...             ...   \n10554         0                0  ...         0           0               0   \n10555         0                0  ...         0           0               0   \n10556         0                0  ...         1           0               0   \n10557         0                0  ...         0           0               0   \n10558         0                0  ...         0           0               0   \n\n       RequestClarification  Ridicule  Sarcasm  Softening  Sources  \\\n0                         0         0        0          0        0   \n1                         1         0        0          0        0   \n2                         0         0        0          0        0   \n3                         0         0        0          0        1   \n4                         0         0        0          0        0   \n...                     ...       ...      ...        ...      ...   \n10554                     0         0        0          0        0   \n10555                     0         0        1          0        0   \n10556                     0         0        0          0        0   \n10557                     0         1        0          0        0   \n10558                     0         0        0          0        0   \n\n       ViableTransformation  WQualifiers  \n0                         0            0  \n1                         0            0  \n2                         0            0  \n3                         0            0  \n4                         0            0  \n...                     ...          ...  \n10554                     0            0  \n10555                     0            0  \n10556                     0            0  \n10557                     0            0  \n10558                     0            0  \n\n[10559 rows x 38 columns]",
      "text/html": "<div>\n<style scoped>\n    .dataframe tbody tr th:only-of-type {\n        vertical-align: middle;\n    }\n\n    .dataframe tbody tr th {\n        vertical-align: top;\n    }\n\n    .dataframe thead th {\n        text-align: right;\n    }\n</style>\n<table border=\"1\" class=\"dataframe\">\n  <thead>\n    <tr style=\"text-align: right;\">\n      <th></th>\n      <th>Unnamed: 0</th>\n      <th>node_id</th>\n      <th>tree_id</th>\n      <th>timestamp</th>\n      <th>author</th>\n      <th>text</th>\n      <th>parent</th>\n      <th>Aggressive</th>\n      <th>AgreeBut</th>\n      <th>AgreeToDisagree</th>\n      <th>...</th>\n      <th>Positive</th>\n      <th>Repetition</th>\n      <th>RephraseAttack</th>\n      <th>RequestClarification</th>\n      <th>Ridicule</th>\n      <th>Sarcasm</th>\n      <th>Softening</th>\n      <th>Sources</th>\n      <th>ViableTransformation</th>\n      <th>WQualifiers</th>\n    </tr>\n  </thead>\n  <tbody>\n    <tr>\n      <th>0</th>\n      <td>0</td>\n      <td>4r2a4d</td>\n      <td>4r2a4d</td>\n      <td>1467557303</td>\n      <td>sickoftheshell</td>\n      <td>I posted this on other subreddit but I figure ...</td>\n      <td>-1</td>\n      <td>0</td>\n      <td>0</td>\n      <td>0</td>\n      <td>...</td>\n      <td>0</td>\n      <td>0</td>\n      <td>0</td>\n      <td>0</td>\n      <td>0</td>\n      <td>0</td>\n      <td>0</td>\n      <td>0</td>\n      <td>0</td>\n      <td>0</td>\n    </tr>\n    <tr>\n      <th>1</th>\n      <td>1</td>\n      <td>d4xp1q6</td>\n      <td>4r2a4d</td>\n      <td>1467557821</td>\n      <td>MSPaintClock</td>\n      <td>Are you talking about relationships starting a...</td>\n      <td>0</td>\n      <td>0</td>\n      <td>0</td>\n      <td>0</td>\n      <td>...</td>\n      <td>0</td>\n      <td>0</td>\n      <td>0</td>\n      <td>1</td>\n      <td>0</td>\n      <td>0</td>\n      <td>0</td>\n      <td>0</td>\n      <td>0</td>\n      <td>0</td>\n    </tr>\n    <tr>\n      <th>2</th>\n      <td>2</td>\n      <td>d4xpbiw</td>\n      <td>4r2a4d</td>\n      <td>1467558355</td>\n      <td>sickoftheshell</td>\n      <td>I was focusing more on the first (relationship...</td>\n      <td>1</td>\n      <td>0</td>\n      <td>0</td>\n      <td>0</td>\n      <td>...</td>\n      <td>0</td>\n      <td>0</td>\n      <td>0</td>\n      <td>0</td>\n      <td>0</td>\n      <td>0</td>\n      <td>0</td>\n      <td>0</td>\n      <td>0</td>\n      <td>0</td>\n    </tr>\n    <tr>\n      <th>3</th>\n      <td>3</td>\n      <td>d4y4nt7</td>\n      <td>4r2a4d</td>\n      <td>1467584235</td>\n      <td>lovelosttoss</td>\n      <td>I've been in a LDR for the past 2 1/2 years. W...</td>\n      <td>2</td>\n      <td>0</td>\n      <td>0</td>\n      <td>0</td>\n      <td>...</td>\n      <td>0</td>\n      <td>0</td>\n      <td>0</td>\n      <td>0</td>\n      <td>0</td>\n      <td>0</td>\n      <td>0</td>\n      <td>1</td>\n      <td>0</td>\n      <td>0</td>\n    </tr>\n    <tr>\n      <th>4</th>\n      <td>4</td>\n      <td>d4xpumw</td>\n      <td>4r2a4d</td>\n      <td>1467559384</td>\n      <td>ZerexTheCool</td>\n      <td>It depends on what people want. If you persona...</td>\n      <td>0</td>\n      <td>0</td>\n      <td>0</td>\n      <td>0</td>\n      <td>...</td>\n      <td>0</td>\n      <td>0</td>\n      <td>0</td>\n      <td>0</td>\n      <td>0</td>\n      <td>0</td>\n      <td>0</td>\n      <td>0</td>\n      <td>0</td>\n      <td>0</td>\n    </tr>\n    <tr>\n      <th>...</th>\n      <td>...</td>\n      <td>...</td>\n      <td>...</td>\n      <td>...</td>\n      <td>...</td>\n      <td>...</td>\n      <td>...</td>\n      <td>...</td>\n      <td>...</td>\n      <td>...</td>\n      <td>...</td>\n      <td>...</td>\n      <td>...</td>\n      <td>...</td>\n      <td>...</td>\n      <td>...</td>\n      <td>...</td>\n      <td>...</td>\n      <td>...</td>\n      <td>...</td>\n      <td>...</td>\n    </tr>\n    <tr>\n      <th>10554</th>\n      <td>10554</td>\n      <td>duib2w9</td>\n      <td>7yf2le</td>\n      <td>1519073471</td>\n      <td>MutinyGMV</td>\n      <td>&lt;quote&gt;Also, there is no secret sauce teaching...</td>\n      <td>10553</td>\n      <td>0</td>\n      <td>0</td>\n      <td>0</td>\n      <td>...</td>\n      <td>0</td>\n      <td>0</td>\n      <td>0</td>\n      <td>0</td>\n      <td>0</td>\n      <td>0</td>\n      <td>0</td>\n      <td>0</td>\n      <td>0</td>\n      <td>0</td>\n    </tr>\n    <tr>\n      <th>10555</th>\n      <td>10555</td>\n      <td>duibhx7</td>\n      <td>7yf2le</td>\n      <td>1519073875</td>\n      <td>_busch</td>\n      <td>you should teach!</td>\n      <td>10554</td>\n      <td>0</td>\n      <td>0</td>\n      <td>0</td>\n      <td>...</td>\n      <td>0</td>\n      <td>0</td>\n      <td>0</td>\n      <td>0</td>\n      <td>0</td>\n      <td>1</td>\n      <td>0</td>\n      <td>0</td>\n      <td>0</td>\n      <td>0</td>\n    </tr>\n    <tr>\n      <th>10556</th>\n      <td>10556</td>\n      <td>duibnz1</td>\n      <td>7yf2le</td>\n      <td>1519074041</td>\n      <td>MutinyGMV</td>\n      <td>Nope there is even less money in that than the...</td>\n      <td>10555</td>\n      <td>0</td>\n      <td>0</td>\n      <td>0</td>\n      <td>...</td>\n      <td>1</td>\n      <td>0</td>\n      <td>0</td>\n      <td>0</td>\n      <td>0</td>\n      <td>0</td>\n      <td>0</td>\n      <td>0</td>\n      <td>0</td>\n      <td>0</td>\n    </tr>\n    <tr>\n      <th>10557</th>\n      <td>10557</td>\n      <td>dui4q3s</td>\n      <td>7yf2le</td>\n      <td>1519067247</td>\n      <td>Mdcastle</td>\n      <td>Ted Bundy had an IQ of 136. Would more educati...</td>\n      <td>10508</td>\n      <td>0</td>\n      <td>0</td>\n      <td>0</td>\n      <td>...</td>\n      <td>0</td>\n      <td>0</td>\n      <td>0</td>\n      <td>0</td>\n      <td>1</td>\n      <td>0</td>\n      <td>0</td>\n      <td>0</td>\n      <td>0</td>\n      <td>0</td>\n    </tr>\n    <tr>\n      <th>10558</th>\n      <td>10558</td>\n      <td>dui57q4</td>\n      <td>7yf2le</td>\n      <td>1519067730</td>\n      <td>donaldsw</td>\n      <td>There will always be outliers. I don’t think h...</td>\n      <td>10557</td>\n      <td>0</td>\n      <td>0</td>\n      <td>0</td>\n      <td>...</td>\n      <td>0</td>\n      <td>0</td>\n      <td>0</td>\n      <td>0</td>\n      <td>0</td>\n      <td>0</td>\n      <td>0</td>\n      <td>0</td>\n      <td>0</td>\n      <td>0</td>\n    </tr>\n  </tbody>\n</table>\n<p>10559 rows × 38 columns</p>\n</div>"
     },
     "execution_count": 4,
     "metadata": {},
     "output_type": "execute_result"
    }
   ]
  },
  {
   "cell_type": "code",
   "source": [
    "df.columns"
   ],
   "metadata": {
    "colab": {
     "base_uri": "https://localhost:8080/"
    },
    "id": "kP4I2ANU5CLx",
    "outputId": "48bafcc9-ef6d-4191-a4e1-f8f0b1808434",
    "ExecuteTime": {
     "end_time": "2024-02-08T16:23:41.424875100Z",
     "start_time": "2024-02-08T16:23:41.400757100Z"
    }
   },
   "execution_count": 5,
   "outputs": [
    {
     "data": {
      "text/plain": "Index(['Unnamed: 0', 'node_id', 'tree_id', 'timestamp', 'author', 'text',\n       'parent', 'Aggressive', 'AgreeBut', 'AgreeToDisagree', 'Alternative',\n       'Answer', 'AttackValidity', 'BAD', 'Clarification', 'Complaint',\n       'Convergence', 'CounterArgument', 'CriticalQuestion', 'DirectNo',\n       'DoubleVoicing', 'Extension', 'Irrelevance', 'Moderation',\n       'NegTransformation', 'Nitpicking', 'NoReasonDisagreement', 'Personal',\n       'Positive', 'Repetition', 'RephraseAttack', 'RequestClarification',\n       'Ridicule', 'Sarcasm', 'Softening', 'Sources', 'ViableTransformation',\n       'WQualifiers'],\n      dtype='object')"
     },
     "execution_count": 5,
     "metadata": {},
     "output_type": "execute_result"
    }
   ]
  },
  {
   "cell_type": "code",
   "source": [
    "c = Counter(df['author'])\n",
    "sorted_c = c.most_common()"
   ],
   "metadata": {
    "id": "xcX8MagO5Odo",
    "ExecuteTime": {
     "end_time": "2024-02-08T16:23:43.073054300Z",
     "start_time": "2024-02-08T16:23:43.046317800Z"
    }
   },
   "execution_count": 6,
   "outputs": []
  },
  {
   "cell_type": "code",
   "source": [
    "sorted_c"
   ],
   "metadata": {
    "id": "zvSvUdLT5ckr",
    "ExecuteTime": {
     "end_time": "2024-02-08T16:23:44.145455700Z",
     "start_time": "2024-02-08T16:23:44.076773Z"
    }
   },
   "execution_count": 7,
   "outputs": [
    {
     "data": {
      "text/plain": "[('[deleted]', 192),\n ('-6-6-', 149),\n ('Ansuz07', 111),\n ('fedorcallahan', 109),\n ('fox-mcleod', 96),\n ('DeltaBot', 85),\n ('PreacherJudge', 84),\n ('ClusterChuk', 82),\n ('throwawayA0K', 82),\n ('Mitoza', 81),\n ('thikthird', 78),\n ('skepticetoh', 74),\n ('jzpenny', 72),\n ('GalacticCow', 72),\n ('warped655', 69),\n ('Personage1', 68),\n ('TS1307', 64),\n ('polysyndetonic', 63),\n ('Hq3473', 62),\n ('Trumpologist', 59),\n ('Tullyswimmer', 59),\n ('Huntingmoa', 57),\n ('Sweddy', 56),\n ('Sheexthro', 55),\n ('robbyslaughter', 55),\n ('zardeh', 55),\n ('wobblyweasel', 54),\n ('CoyotePatronus', 52),\n ('Ardonpitt', 51),\n ('z3r0shade', 51),\n ('BainCapitalist', 47),\n ('Holophonist', 46),\n ('KanoDoMario', 46),\n ('chip_0', 45),\n ('in_cavediver', 45),\n ('hamletandskull', 44),\n ('Theo93', 42),\n ('hacksoncode', 41),\n ('sevenkindsofgender', 41),\n ('smoketillisleep', 41),\n ('PotHead96', 41),\n ('Flumberbug', 41),\n ('YabuSama2k', 40),\n ('psychonautwarrior', 40),\n ('C21H27Cl3N2O3', 40),\n ('Petrus_', 40),\n ('AlexWuzHere', 39),\n ('Chazzyphant', 39),\n ('heelspider', 38),\n ('moonflower', 38),\n ('notasqlstar', 36),\n ('GnosticGnome', 36),\n ('Slurrpin', 36),\n ('Literally_Herodotus', 36),\n ('TheTyke', 36),\n ('ILikeNiceDiscussions', 36),\n ('Slagernicus', 35),\n ('Havenkeld', 35),\n ('helloitslouis', 35),\n ('muyamable', 34),\n ('Brodoof', 34),\n ('snozzberrypatch', 34),\n ('cdb03b', 33),\n ('50pointdownvote', 33),\n ('ArticSun', 33),\n ('ZeusThunder369', 32),\n ('puffyshirtpirate', 31),\n ('prettyinpinkpanther1', 31),\n ('itgotmethrowedaway', 31),\n ('laozi111', 31),\n ('MasterGrok', 30),\n ('BenIncognito', 30),\n ('slytherin-by-night', 30),\n ('OFGhost', 30),\n ('FliedenRailway', 29),\n ('l2ddit', 29),\n ('cupcakesarethedevil', 28),\n ('jm0112358', 28),\n ('Burflax', 28),\n ('kublahkoala', 28),\n ('Slenderpman', 28),\n ('allsfair86', 27),\n ('super-commenting', 27),\n ('OnMyWhey113', 27),\n ('RightForever', 27),\n ('wastagaswe', 26),\n ('dickposner', 26),\n ('AggressiveSloth', 26),\n ('Sawses', 25),\n ('Qwerty_Resident', 25),\n ('darwin2500', 25),\n ('vialtrisuit', 25),\n ('cacheflow', 24),\n ('Squiddlydiddly56', 24),\n ('ThomasEdmund84', 24),\n ('Bluezephr', 24),\n ('tomgabriele', 23),\n ('Nessunolosa', 23),\n ('test_subject6', 23),\n ('radialomens', 23),\n ('SchruteAsaurusRex', 23),\n ('SodaPalooza', 22),\n ('testrail', 22),\n ('hunterglenn', 22),\n ('mcgrathc09', 22),\n ('burnte', 22),\n ('Nepene', 21),\n ('awolz', 21),\n ('huadpe', 21),\n ('yyzjertl', 21),\n ('Reality_Facade', 21),\n ('_Hopped_', 21),\n ('jweezy2045', 21),\n ('HypnotizedPlatypus', 20),\n ('on_my_lunch_break', 20),\n ('TN05', 20),\n ('Iswallowedafly', 20),\n ('OGHuggles', 20),\n ('cloudys', 20),\n ('Sawyerlegsoff', 20),\n ('weirds3xstuff', 20),\n ('Dembara', 19),\n ('TheSausageGuy', 19),\n ('tchaffee', 19),\n ('No311', 19),\n ('MMountain_', 19),\n ('Madplato', 18),\n ('Pinewood74', 18),\n ('AlexaWikipediaSmegma', 18),\n ('urlong55', 18),\n ('electronics12345', 18),\n ('MrGraeme', 18),\n ('Loyalt', 18),\n ('inkwat', 18),\n ('Sayakai', 18),\n ('neonflex', 18),\n ('Earl_Harbinger', 18),\n ('TheOldEskimo', 17),\n ('Cadfan17', 17),\n ('abutthole', 17),\n ('aRabidGerbil', 17),\n ('FrostbiteOrange', 17),\n ('jstevewhite', 17),\n ('badabinglove', 17),\n ('FSFlyingSnail', 17),\n ('PrimeLegionnaire', 17),\n ('minerva_qw', 16),\n ('ralph-j', 16),\n ('DCarrier', 16),\n ('ACrusaderA', 16),\n ('renoops', 16),\n ('bisonburgers', 16),\n ('deathnate4', 16),\n ('Austin_RC246', 16),\n ('evil_rabbit', 16),\n ('incruente', 16),\n ('raanne', 15),\n ('scottevil110', 15),\n ('jchoyt', 15),\n ('Matty-McC', 15),\n ('antisocialmedic', 15),\n ('the_irvingtonian', 15),\n ('ellipses1', 15),\n ('kd131313', 15),\n ('ThatSpencerGuy', 15),\n ('sittinginabaralone', 15),\n ('-s1Lence', 15),\n ('agoddamnlegend', 15),\n ('Milskidasith', 15),\n ('chris2315', 15),\n ('ThatBelligerentSloth', 14),\n ('stratys3', 14),\n ('mattholomew', 14),\n ('Celda', 14),\n ('THETEH', 14),\n ('ShiningConcepts', 14),\n ('bguy74', 14),\n ('-AragornElessar-', 14),\n ('Salanmander', 14),\n ('Geralt_of_Rivia1', 14),\n ('neofederalist', 14),\n ('The_Josh_Of_Clubs', 14),\n ('waldrop02', 14),\n ('I_am_the_night', 14),\n ('goatforpope', 14),\n ('rmhildebrandt', 14),\n ('MMAchica', 13),\n ('One_Winged_Rook', 13),\n ('expresidentmasks', 13),\n ('VertigoOne', 13),\n ('Terex80', 13),\n ('EverlastingInferno', 13),\n ('StringerBell9', 13),\n ('Wierd_Carissa', 13),\n ('reimagining_life', 13),\n ('Big_Pete_', 13),\n ('qezler', 12),\n ('metamatic', 12),\n ('Piercing_Serenity', 12),\n ('Sportsguru34', 12),\n ('HarpyBane', 12),\n ('benjotron', 12),\n ('cheertina', 12),\n ('hiptobecubic', 12),\n ('TezzMuffins', 12),\n ('Rushed_username1726', 12),\n ('bgbba1', 12),\n ('Grunt08', 12),\n ('cu4tro', 12),\n ('AntimonyPidgey', 12),\n ('SaveToTheADrive', 12),\n ('stink3rbelle', 12),\n ('arden13', 12),\n ('silverdevilboy', 12),\n ('anddrewwiles', 12),\n ('DawgDatsAGreatPost', 12),\n ('donaldsw', 12),\n ('kingpatzer', 11),\n ('gremy0', 11),\n ('championofobscurity', 11),\n ('elliptibang', 11),\n ('AdminsAreComplicit', 11),\n ('aynrandomness', 11),\n ('DBDude', 11),\n ('Emijah1', 11),\n ('DangerouslyUnstable', 11),\n ('shark_to_water', 11),\n ('DHCKris', 11),\n ('zolartan', 11),\n ('capitancheap', 11),\n ('poltroon_pomegranate', 11),\n ('ricksc-137', 11),\n ('timmytissue', 10),\n ('Pie0nHead', 10),\n ('thedylanackerman', 10),\n ('AurelianoTampa', 10),\n ('MuaddibMcFly', 10),\n ('TBFProgrammer', 10),\n ('NotGuyFawkes', 10),\n ('Ndvorsky', 10),\n ('Kirkaine', 10),\n ('aggsalad', 10),\n ('anonoman925', 10),\n ('natha105', 10),\n ('SparkySywer', 10),\n ('shad0w-fax', 10),\n ('tammy-hell', 10),\n ('veggiesama', 10),\n ('OpQuality', 10),\n ('Potat_Potat', 10),\n ('SmellGestapo', 10),\n ('Zurlly', 10),\n ('Quint-V', 10),\n ('BeansforHomerclese', 10),\n ('M3rcaptan', 10),\n ('fezferdinand', 10),\n ('PennyLisa', 10),\n ('TinyOosik', 10),\n ('Sine_Habitus', 10),\n ('sickoftheshell', 9),\n ('Gladix', 9),\n ('Kman17', 9),\n ('Ramza_Claus', 9),\n ('Vasquerade', 9),\n ('walrussingsatmidnite', 9),\n ('theween_queen', 9),\n ('Roflcaust', 9),\n ('kinectking', 9),\n ('rustinchole', 9),\n ('eroticas', 9),\n ('goldsalt132', 9),\n ('buffalo_slim', 9),\n ('Freevoulous', 9),\n ('IlluminatusUIUC', 9),\n ('alfredo094', 9),\n ('Godskook', 9),\n ('JudgeBastiat', 9),\n ('Morphie12121', 9),\n ('DeathSlyce', 9),\n ('FaZeZs', 9),\n ('Letshavemorefun', 8),\n ('Positron311', 8),\n ('kebababab', 8),\n ('BlitzBasic', 8),\n ('PM_ME_UR_RACOON', 8),\n ('thenoorys', 8),\n ('VortexMagus', 8),\n ('barrycl', 8),\n ('grass_type', 8),\n ('rab42701', 8),\n ('Ralkir', 8),\n ('AngryWelshSheepshag', 8),\n ('Klarkson1273', 8),\n ('poloport', 8),\n ('youonlylive2wice', 8),\n ('LilYonsan', 8),\n ('Genoscythe_', 8),\n ('clopclop_til_u_drop', 8),\n ('Waphlez', 8),\n ('mudra311', 8),\n ('LoveTrumpedHate', 8),\n ('Itisforsexy', 8),\n ('brock_lee', 8),\n ('Omnizoa', 8),\n ('Agnos', 8),\n ('Longboarding-Is-Life', 8),\n ('GlyphGryph', 8),\n ('sarahmgray', 8),\n ('MoralSatire', 8),\n ('Gilleah', 8),\n ('Archliewhite', 8),\n ('SanityInAnarchy', 8),\n ('BolivianNostril', 8),\n ('westatwork', 8),\n ('PortablePawnShop', 8),\n ('Linuxmoose5000', 8),\n ('EighthScofflaw', 8),\n ('LilSebs_MrsF', 8),\n ('CoSh', 8),\n ('Amablue', 7),\n ('badoosh123', 7),\n ('selfdownvoterguy', 7),\n ('thewoodendesk', 7),\n ('ShouldersofGiants100', 7),\n ('grandoz039', 7),\n ('groman28', 7),\n ('Zerewa', 7),\n ('jhkjhlhk', 7),\n ('AlveolarFricatives', 7),\n ('sillybonobo', 7),\n ('infinitepaths', 7),\n ('caw81', 7),\n ('Fizzy_T', 7),\n ('thatoneguy54', 7),\n ('CRGRO', 7),\n ('Anki_gamer', 7),\n ('techiemikey', 7),\n ('PhillipMignon', 7),\n ('Junioroo', 7),\n ('parentheticalobject', 7),\n ('CreativeGPX', 7),\n ('zharth', 7),\n ('redesckey', 7),\n ('djiron', 7),\n ('Andthentomorrow', 7),\n ('Blindweaponsfumbler', 7),\n ('tbdabbholm', 7),\n ('cheshirecatsmiley', 7),\n ('EttenCO', 7),\n ('Anontifa', 7),\n ('figsbar', 7),\n ('bweazel', 7),\n ('MenShouldntHaveCats', 7),\n ('weepycreepy', 7),\n ('POSVT', 7),\n ('UncomfortablePrawn', 7),\n ('jesus_mary_joe', 7),\n ('_SONNEILLON', 7),\n ('demonsquidgod', 7),\n ('morflegober', 7),\n ('AloysiusC', 7),\n ('SaintBio', 7),\n ('DreadnaughtZero', 6),\n ('roussell131', 6),\n ('exosequitur', 6),\n ('Anarchy_is_Order', 6),\n ('Gnoccistic', 6),\n ('discerning_taco', 6),\n ('PolishRobinHood', 6),\n ('e36', 6),\n ('andyk123pony', 6),\n ('arkonum', 6),\n ('RYouNotEntertained', 6),\n ('uyoos2uyoos2', 6),\n ('law-talkin-guy', 6),\n ('demeteloaf', 6),\n ('mnmgod', 6),\n ('elementop', 6),\n ('ImNotAPersonAnymore', 6),\n ('davidildo', 6),\n ('FacingTehMusic', 6),\n ('PizzaPTY', 6),\n ('SocialJusticeWizard_', 6),\n ('Sand_Trout', 6),\n ('jadedsabre', 6),\n ('5iMbA', 6),\n ('Dd_8630', 6),\n ('poop_face_monster', 6),\n ('conventionistG', 6),\n ('paul_aka_paul', 6),\n ('Thomystic', 6),\n ('CommanderSheffield', 6),\n ('Deutschbag_', 6),\n ('serphz', 6),\n ('moe_overdose', 6),\n ('pillbinge', 6),\n ('picassotriggerfish', 6),\n ('qazgir', 6),\n ('Derpese_Simplex', 6),\n ('Rockmar1', 6),\n ('jcooli09', 6),\n ('scientificplants', 6),\n ('PaulSharke', 6),\n ('Pleberal', 6),\n ('pfabs', 6),\n ('PhilliesJawn', 6),\n ('ColdNotion', 6),\n ('TheFifthSquare', 6),\n ('chronus_poo', 6),\n ('CatRelatedUsername', 6),\n ('Ashmodai20', 6),\n ('Apokolyptyk', 6),\n ('badmonkingpin', 6),\n ('ElfmanLV', 6),\n ('lurkerhasnoname', 6),\n ('SciFiPaine0', 6),\n ('BreeCC', 6),\n ('DOCisaPOG', 6),\n ('UNRThrowAway', 6),\n ('getfuckingreal', 5),\n ('yaxamie', 5),\n ('forestfly1234', 5),\n ('swearrengen', 5),\n ('EconomistMagazine', 5),\n ('philotrow', 5),\n ('DerWasserspeier', 5),\n ('UnaffiliatedOpinion', 5),\n ('IthinkkIBelongHere', 5),\n ('qwertx0815', 5),\n ('im_not_afraid', 5),\n ('KuulGryphun', 5),\n ('Neveezy', 5),\n ('dtodvm5', 5),\n ('Jdm5544', 5),\n ('Crayshack', 5),\n ('Raunchy_Potato', 5),\n ('FlexPlexico12', 5),\n ('BrennanDobak', 5),\n ('faustandpissed', 5),\n ('Pablo_expat', 5),\n ('AlphaGoGoDancer', 5),\n ('jawrsh21', 5),\n ('RetiredGaymerEsq', 5),\n ('stevegcook', 5),\n ('DRU-ZOD1980', 5),\n ('Mysteriousdeer', 5),\n ('FaerieStories', 5),\n ('omid_', 5),\n ('tedfitzy', 5),\n ('ShreddingRoses', 5),\n ('Znyper', 5),\n ('draculabakula', 5),\n ('maverikv', 5),\n ('almightySapling', 5),\n ('feraxil', 5),\n ('alaskafish', 5),\n ('IceWaves', 5),\n ('DjangoUBlackBastard', 5),\n ('fizixgeek', 5),\n ('MerrieLee', 5),\n ('jm0112358_work', 5),\n ('hab33b', 5),\n ('saltmarquis', 5),\n ('PuleaSpataru69', 5),\n ('as-well', 5),\n ('TJHug', 5),\n ('James_McNulty', 5),\n ('drpussycookermd', 5),\n ('insufferabletoolbag', 5),\n ('nooneshsh', 5),\n ('Liolios23', 5),\n ('4trezz', 5),\n ('garnteller', 5),\n ('WmPitcher', 5),\n ('Brimjobtime', 5),\n ('lnfinity', 5),\n ('supergodsuperfuck', 5),\n ('YahwehTheDevil', 5),\n ('MarqueeSmyth', 5),\n ('Justine772', 5),\n ('mooi_verhaal', 5),\n ('NovelTie', 5),\n ('ahshitwhatthefuck', 5),\n ('ghostlonefight', 5),\n ('Humble_Person', 5),\n ('AnythingApplied', 5),\n ('Siiimo', 5),\n ('annoinferno', 5),\n ('Valnar', 5),\n ('ohNOginger', 5),\n ('Jaysank', 5),\n ('-pom', 5),\n ('icecoldbath', 5),\n ('RelatedIndianFact', 5),\n ('therinnovator', 5),\n ('Morpheus3121', 5),\n ('ViewedFromTheOutside', 5),\n ('GreasyPorkGoodness', 5),\n ('Mohamedhijazi22', 5),\n ('kingbane2', 5),\n ('rtechie1', 5),\n ('Doppleganger07', 5),\n ('Oediphus', 5),\n ('ericoahu', 5),\n ('allhailbrodin', 5),\n ('birdbirdbirdbird', 5),\n ('Lurking_Chronicler', 5),\n ('zarmesan', 5),\n ('Feathring', 5),\n ('JamesDevitt', 5),\n ('TheManWhoWasNotShort', 5),\n ('EmperorDanul', 5),\n ('KrissKross6u', 5),\n ('down42roads', 5),\n ('Jack126Guy', 5),\n ('Weisse_Rose', 5),\n ('sdmitch16', 5),\n ('TotlaBullfish', 5),\n ('cmv_lawyer', 5),\n ('iaskwhy2', 5),\n ('chadonsunday', 5),\n ('sharkbait76', 4),\n ('Mintnose', 4),\n ('MyPenisIsaWMD', 4),\n ('meur123', 4),\n ('kabukistar', 4),\n ('Wrestlingisgood', 4),\n ('gyroda', 4),\n ('theluminarian', 4),\n ('PaladinXT', 4),\n ('The_DongLover', 4),\n ('princekadakithis', 4),\n ('teerre', 4),\n ('DickieDawkins', 4),\n ('bad_jew', 4),\n ('Minigirl17', 4),\n ('palacesofparagraphs', 4),\n ('Cloudhwk', 4),\n ('cuteman', 4),\n ('lemmelickurcucumber', 4),\n ('maxout2142', 4),\n ('SoseloPoet', 4),\n ('nn123654', 4),\n ('tunaonrye', 4),\n ('blueelffishy', 4),\n ('rainbows5ever', 4),\n ('The_Real_Mongoose', 4),\n ('saltedfish', 4),\n ('Super_Duper_Mann', 4),\n ('marojelly', 4),\n ('cigarusa', 4),\n ('K0stroun', 4),\n ('plexluthor', 4),\n ('PM_For_Soros_Money', 4),\n ('kcbh711', 4),\n ('Kutbil-ik', 4),\n ('DashingLeech', 4),\n ('lackingsaint', 4),\n ('Helpfulcloning', 4),\n ('MrMercurial', 4),\n ('mr_indigo', 4),\n ('crackills', 4),\n ('DaraelDraconis', 4),\n ('carlos_the_dwarf_', 4),\n ('342017', 4),\n ('Matthew100001', 4),\n ('Sadsharks', 4),\n ('GaslightProphet', 4),\n ('Dont____Panic', 4),\n ('KerbalFactorioLeague', 4),\n ('CliffordFranklin', 4),\n ('A_Soporific', 4),\n ('TopekaScienceGirl', 4),\n ('LoneWolfe2', 4),\n ('ItsSnowingOutside', 4),\n ('McGrinch27', 4),\n ('tikforest00', 4),\n ('IslayThePeaty', 4),\n ('ElysiX', 4),\n ('nashvortex', 4),\n ('soitcause', 4),\n ('Identitypolitik', 4),\n ('BlockNotDo', 4),\n ('dogywigglebuts', 4),\n ('blackheartblackmask', 4),\n ('elmley', 4),\n ('Artificial_Cinnamon', 4),\n ('Herdnerfer', 4),\n ('pfundie', 4),\n ('GoldenMarauder', 4),\n ('moduspol', 4),\n ('elcuban27', 4),\n ('rednax1206', 4),\n ('wugglesthemule', 4),\n ('Snorrrlax', 4),\n ('wfaulk', 4),\n ('Floppuh', 4),\n ('nekozoshi', 4),\n ('chasingstatues', 4),\n ('DeleteriousEuphuism', 4),\n ('BurpFarter3000', 4),\n ('Miguelinileugim', 4),\n ('Vund3rkind', 4),\n ('fuckujoffery', 4),\n ('HairyPouter', 4),\n ('Arctus9819', 4),\n ('MutinyGMV', 4),\n ('ZerexTheCool', 3),\n ('YoungSerious', 3),\n ('Munxip', 3),\n ('fadadapple', 3),\n ('Namemedickles', 3),\n ('KevinWester', 3),\n ('MoviesTickleMyFancy', 3),\n ('mylifeisprettyplain', 3),\n ('Iustinianus_I', 3),\n ('Ragdoll_Proletariat', 3),\n ('Alacritous', 3),\n ('Tynach', 3),\n ('sonofaresiii', 3),\n ('Zeiramsy', 3),\n ('mr_fallacy', 3),\n ('Lying_Dutchman', 3),\n ('very_old_guy', 3),\n ('RustyRook', 3),\n ('domino_stars', 3),\n ('BurnTheGlitch', 3),\n ('StormySands', 3),\n ('masterFurgison', 3),\n ('FOR_PRUSSIA', 3),\n ('kogus', 3),\n ('MrNotSoBright', 3),\n ('ondrap', 3),\n ('e1m1', 3),\n ('PattycakeMills', 3),\n ('eloel-', 3),\n ('pixlepix', 3),\n ('john_gee', 3),\n ('develop-mental', 3),\n ('Lonelythrowawaysnug', 3),\n ('curien', 3),\n ('DjTj81', 3),\n ('Government_Slavery', 3),\n ('undiscoveredlama', 3),\n ('colormegray', 3),\n ('ubbergoat', 3),\n ('ChargeTheCharger', 3),\n ('502000', 3),\n ('Tallblondebimbo', 3),\n ('anonymous3182', 3),\n ('Leumashy', 3),\n ('PenisMcScrotumFace', 3),\n ('potato1', 3),\n ('BlckJck103', 3),\n ('Ed__', 3),\n ('XXX69694206969XXX', 3),\n ('Chel_of_the_sea', 3),\n ('yunyun333', 3),\n ('My3CentsWorth', 3),\n ('1000ancestors', 3),\n ('Mathewdm423', 3),\n ('kaijyuu', 3),\n ('flamedragon822', 3),\n ('UncleMeat11', 3),\n ('FetusFondler', 3),\n ('howdoireachthese', 3),\n ('theLaugher', 3),\n ('RiPont', 3),\n ('GivenToFly164', 3),\n ('Danibelle903', 3),\n ('Graendal', 3),\n ('ubernerd83', 3),\n ('InASeaOfShells', 3),\n ('MagentaHawk', 3),\n ('Cyber_Toon', 3),\n ('DarwinZDF42', 3),\n ('exotics', 3),\n ('barefootnpublic', 3),\n ('jark831', 3),\n ('Nkklllll', 3),\n ('sonsofaureus', 3),\n ('Aim_2_misbehave', 3),\n ('Speckles', 3),\n ('not_homestuck', 3),\n ('richardboucher', 3),\n ('Tsiaaw', 3),\n ('kerouacrimbaud', 3),\n ('Redbrick29', 3),\n ('WhiteCrake', 3),\n ('Kallipolan', 3),\n ('hyperforce', 3),\n ('ThisIceAintNice', 3),\n ('sguntun', 3),\n ('epicazeroth', 3),\n ('zacker150', 3),\n ('f1_stig', 3),\n ('ImagineQ', 3),\n ('smartest_kobold', 3),\n ('trejdeksnis', 3),\n ('darkforcedisco', 3),\n ('Bengom', 3),\n ('Leard', 3),\n ('ThisIsReLLiK', 3),\n ('milk____steak', 3),\n ('besse', 3),\n ('ProfessorHeartcraft', 3),\n ('hubeyy', 3),\n ('cutty2k', 3),\n ('LongenWhatNot', 3),\n ('Jstuyfzand', 3),\n ('GinsbergsPeacock', 3),\n ('descuidadojose', 3),\n ('Thin-White-Duke', 3),\n ('jbt2003', 3),\n ('basement_crusader', 3),\n ('Zncon', 3),\n ('thebeerlover', 3),\n ('Dr_Scientist_', 3),\n ('John_ygg', 3),\n ('fortfive', 3),\n ('ShowerGrapes', 3),\n ('Ace4929', 3),\n ('RealFactorRagePolice', 3),\n ('ARealBlueFalcon', 3),\n ('Feroc', 3),\n ('Status_Flux', 3),\n ('NewbombTurk', 3),\n ('FigBits', 3),\n ('firelock_ny', 3),\n ('whizzo76', 3),\n ('connstar97', 3),\n ('killcat', 3),\n ('Seratio', 3),\n ('PolemicDysentery', 3),\n ('-modusPonens', 3),\n ('cstar1996', 3),\n ('organicjello', 3),\n ('bracs279', 3),\n ('Frogmarsh', 3),\n ('CJGibson', 3),\n ('Jabbam', 3),\n ('wahtisthisidonteven', 3),\n ('Ipostcontrarian', 3),\n ('UGotSchlonged', 3),\n ('PimpNinjaMan', 3),\n ('unpopularpotterhead', 3),\n ('TaneCorbin', 3),\n ('PinkyBlinky', 3),\n ('americanenglishh', 3),\n ('Michaelis_Maus', 3),\n ('mergerr', 3),\n ('MrsBoxxy', 3),\n ('RhynoD', 3),\n ('Zeknichov', 3),\n ('darkadvenger', 3),\n ('KittysOwner', 3),\n ('Cepitore', 3),\n ('samthegliderpilot', 3),\n ('aFunnyWorldWeLiveIn', 3),\n ('asdf2602', 3),\n ('GoyBeorge', 3),\n ('noodledense', 3),\n ('StaySkepticYT', 3),\n ('Lindsiria', 3),\n ('techgirlthrowaway9', 3),\n ('beend1p', 3),\n ('logic_card', 3),\n ('tew13til', 3),\n ('BKachur', 3),\n ('will592', 3),\n ('DrunkFishBreatheAir', 3),\n ('keeklesandwich', 3),\n ('YourFairyGodmother', 3),\n ('SharkAttack2', 3),\n ('Scribbles_', 3),\n ('northkorealina', 3),\n ('Honokeman', 3),\n ('Upvoteswag', 3),\n ('Shilkanni', 3),\n ('relevant_password', 3),\n ('ajarndaniel', 3),\n ('neurilax', 3),\n ('GuavaOfAxe', 3),\n ('penny_lane67', 3),\n ('Bratmon', 3),\n ('Aeternalis_', 3),\n ('fenderkruse', 3),\n ('No_212', 3),\n ('GoIdfinch', 3),\n ('Jasader', 3),\n ('Gourok', 3),\n ('tit_wrangler', 3),\n ('Love_Shaq_Baby', 3),\n ('IJerkOffToSlutwalks', 3),\n ('HuntforMusic', 3),\n ('Meesh_ca', 3),\n ('KirkwallDay', 3),\n ('plupperina', 3),\n ('Brontosplachna', 3),\n ('broccolicat', 3),\n ('_busch', 3),\n ('Lambeaux', 2),\n ('Octobers_second_one', 2),\n ('AgentEv2', 2),\n ('devlsadvocate', 2),\n ('ColaGoat', 2),\n ('suuupreddit', 2),\n ('Grahammophone', 2),\n ('Raresandrei', 2),\n ('premium_mud', 2),\n ('YenTheFirst', 2),\n ('lerdnord', 2),\n ('swebsies', 2),\n ('SearingEnigma', 2),\n ('SuperUncoolGuy', 2),\n ('inkman', 2),\n ('lindygrey', 2),\n ('notduddeman', 2),\n ('Space__Ghost', 2),\n ('Deansdale', 2),\n ('bubblegumpandabear', 2),\n ('GenderNeutralLanguag', 2),\n ('allweknowisD', 2),\n ('EmpRupus', 2),\n ('disposablehead001', 2),\n ('thegrape-gatsby', 2),\n ('thetasigma4', 2),\n ('otakuman', 2),\n ('Transkar', 2),\n ('onelasttimeoh', 2),\n ('kjdtkd', 2),\n ('AntiFa_TerrorCell', 2),\n ('WhenSnowDies', 2),\n ('thebedshow', 2),\n ('Kalcipher', 2),\n ('yertles', 2),\n ('math2ndperiod', 2),\n ('McKoijion', 2),\n ('notadamnthrowaway', 2),\n ('smeshsle', 2),\n ('I_Argue_On_Reddit', 2),\n ('Heh_Disguised_Toast', 2),\n ('Consilio_et_Animis', 2),\n ('Ajreil', 2),\n ('Winterbliss2000', 2),\n ('Molash1', 2),\n ('bad__hombres', 2),\n ('nestorrobespierre', 2),\n ('AllOfEverythingEver', 2),\n ('ozewe', 2),\n ('BasilFronsac', 2),\n ('matt2000224', 2),\n ('PineappleSlices', 2),\n ('IIIBlackhartIII', 2),\n ('iyzie', 2),\n ('nickburgess', 2),\n ('VBassmeister', 2),\n ('Reason-and-rhyme', 2),\n ('hijh', 2),\n ('KestrelLowing', 2),\n ('ChocPineapple', 2),\n ('firesword24', 2),\n ('sportsballexpert', 2),\n ('IrishCreamPied', 2),\n ('sysiphean', 2),\n ('TheLegumeTroubadour', 2),\n ('Cultist_O', 2),\n ('LukeBabbitt', 2),\n ('Larkyo', 2),\n ('foolishle', 2),\n ('loudnoises461', 2),\n ('LithiumEnergy', 2),\n ('newPhoenixz', 2),\n ('TheHatOnTheCat', 2),\n ('himyredditnameis', 2),\n ('Bryek', 2),\n ('acidwestern', 2),\n ('JmmiP', 2),\n ('Asatania_GM', 2),\n ('Smudge777', 2),\n ('Bayside308', 2),\n ('zodlex', 2),\n ('MdlR_1986', 2),\n ('beer_demon', 2),\n ('adesme', 2),\n ('Childshc03', 2),\n ('DamiensLust', 2),\n ('Goleeb', 2),\n ('thoselusciouslips', 2),\n ('BobbyBobRoberts', 2),\n ('Snipe812', 2),\n ('opek', 2),\n ('Akitten', 2),\n ('Promotheos', 2),\n ('all_thetime', 2),\n ('totallynotliamneeson', 2),\n ('irishking44', 2),\n ('PrettySneaky71', 2),\n ('JNelson_', 2),\n ('NoRealsOnlyFeels', 2),\n ('jt4', 2),\n ('RisingTideLiftsAll', 2),\n ('bryry', 2),\n ('stegateratops', 2),\n ('forerunner398', 2),\n ('thesmokingpants', 2),\n ('SupriseGinger', 2),\n ('TheConstipatedPepsi', 2),\n ('punromantic', 2),\n ('getintheVandell', 2),\n ('supamario132', 2),\n ('Alphabetagencies', 2),\n ('Highlord_Jangles', 2),\n ('Jasontheperson', 2),\n ('lammchops15', 2),\n ('cookietrixxx', 2),\n ('joalr0', 2),\n ('RarelyNecessary', 2),\n ('kingboz', 2),\n ('Iphotoshopincats', 2),\n ('mischiffmaker', 2),\n ('ForsakenSon', 2),\n ('MiguelKoch', 2),\n ('doctorpremiere', 2),\n ('whattodo-whattodo', 2),\n ('OhNoHesZooming', 2),\n ('hykue37', 2),\n ('Gumpler', 2),\n ('SegoliaFlak', 2),\n ('whitef530', 2),\n ('ParentheticalClaws', 2),\n ('PL_TOC', 2),\n ('PolkaDottedFuck', 2),\n ('Fuckn_hipsters', 2),\n ('llamagoelz', 2),\n ('RedErin', 2),\n ('FlamingSwaggot', 2),\n ('guyawesome1', 2),\n ('Evil_Thresh', 2),\n ('Cheesus250', 2),\n ('carbenz', 2),\n ('RAGING_VEGETARIAN', 2),\n ('eraproxy', 2),\n ('Ankheg2016', 2),\n ('Made_in_Murica', 2),\n ('ihadtripsss', 2),\n ('CaffeinatedStudents', 2),\n ('Altitudinous-Ozark', 2),\n ('GlebZheglov', 2),\n ('tophatnbowtie', 2),\n ('Glory2Hypnotoad', 2),\n ('galacticsuperkelp', 2),\n ('suddenly_ponies', 2),\n ('themattydor', 2),\n ('theprof739', 2),\n ('eydryan', 2),\n ('OrbitingTpot', 2),\n ('Awildbadusername', 2),\n ('trainwithlino', 2),\n ('madwill', 2),\n ('spacejellyandjam', 2),\n ('___OccamsChainsaw___', 2),\n ('errhhbrerrh', 2),\n ('AnAntichrist', 2),\n ('ArcticMindbath', 2),\n ('timoth3y', 2),\n ('littlebubulle', 2),\n ('ursuslimbs', 2),\n ('DoodleVnTaintschtain', 2),\n ('blatantspeculation', 2),\n ('TanithArmoured', 2),\n ('lowry4president', 2),\n ('Eulerslist', 2),\n ('MTorkelson', 2),\n ('someWalkingShadow', 2),\n ('Ader_anhilator', 2),\n ('persolb', 2),\n ('ClosetDoorEnthusiast', 2),\n ('ASK_ME_WHY_IM_EVIL', 2),\n ('notagirlscout', 2),\n ('ogld', 2),\n ('FuzzerPupper', 2),\n ('Miyamori_Senpai', 2),\n ('DeusExMockinYa', 2),\n ('Swiss_Army_Cheese', 2),\n ('KreKreMan', 2),\n ('goldistastey', 2),\n ('JimmyDeSanta420', 2),\n ('vacuousaptitude', 2),\n ('Chizomsk', 2),\n ('InsOmNomNomnia', 2),\n ('WF187', 2),\n ('TheVioletBarry', 2),\n ('EternalPropagation', 2),\n ('yuzirnayme', 2),\n ('TheFlatlander', 2),\n ('JohnnyBlack22', 2),\n ('visarga', 2),\n ('uncledrewkrew', 2),\n ('Ieatbabies154', 2),\n ...]"
     },
     "execution_count": 7,
     "metadata": {},
     "output_type": "execute_result"
    }
   ]
  },
  {
   "cell_type": "code",
   "source": [
    "relevant_cols = df.iloc[:, 8:]\n",
    "\n",
    "# Sum across rows for the selected columns and filter rows where the sum is greater than 1\n",
    "filtered_df = df[relevant_cols.sum(axis=1) > 1]"
   ],
   "metadata": {
    "id": "fgAix9Fv7HSI",
    "ExecuteTime": {
     "end_time": "2024-02-08T16:23:44.497128500Z",
     "start_time": "2024-02-08T16:23:44.468459Z"
    }
   },
   "execution_count": 8,
   "outputs": []
  },
  {
   "cell_type": "code",
   "source": [
    "filtered_df"
   ],
   "metadata": {
    "colab": {
     "base_uri": "https://localhost:8080/",
     "height": 929
    },
    "id": "e0IQXpuxjx1n",
    "outputId": "6b468d25-6507-4872-d490-541b6ea3ac35",
    "ExecuteTime": {
     "end_time": "2024-02-08T16:23:45.211211300Z",
     "start_time": "2024-02-08T16:23:45.078565400Z"
    }
   },
   "execution_count": 9,
   "outputs": [
    {
     "data": {
      "text/plain": "       Unnamed: 0  node_id tree_id   timestamp          author  \\\n3               3  d4y4nt7  4r2a4d  1467584235    lovelosttoss   \n5               5  d4xr1oe  4r2a4d  1467561555  sickoftheshell   \n6               6  d4xrgn5  4r2a4d  1467562285    ZerexTheCool   \n7               7  d4xsesj  4r2a4d  1467563921  sickoftheshell   \n8               8  d4xsp65  4r2a4d  1467564412    YoungSerious   \n...           ...      ...     ...         ...             ...   \n10553       10553  duiahd8  7yf2le  1519072900          _busch   \n10554       10554  duib2w9  7yf2le  1519073471       MutinyGMV   \n10555       10555  duibhx7  7yf2le  1519073875          _busch   \n10556       10556  duibnz1  7yf2le  1519074041       MutinyGMV   \n10557       10557  dui4q3s  7yf2le  1519067247        Mdcastle   \n\n                                                    text  parent  Aggressive  \\\n3      I've been in a LDR for the past 2 1/2 years. W...       2           0   \n5      Agreed. But isn't companionship different in r...       4           0   \n6      Why does it *have* to be in 'real life?' For m...       5           0   \n7      I guess I agree with you. But I think in long ...       6           0   \n8      You seem to be basing a lot of this on the abi...       7           0   \n...                                                  ...     ...         ...   \n10553  There is no gold standard to education. Also, ...   10552           0   \n10554  <quote>Also, there is no secret sauce teaching...   10553           0   \n10555                                  you should teach!   10554           0   \n10556  Nope there is even less money in that than the...   10555           0   \n10557  Ted Bundy had an IQ of 136. Would more educati...   10508           0   \n\n       AgreeBut  AgreeToDisagree  ...  Positive  Repetition  RephraseAttack  \\\n3             0                0  ...         0           0               0   \n5             1                0  ...         0           0               0   \n6             0                0  ...         0           0               0   \n7             1                0  ...         0           0               0   \n8             0                0  ...         0           0               0   \n...         ...              ...  ...       ...         ...             ...   \n10553         0                0  ...         0           0               0   \n10554         0                0  ...         0           0               0   \n10555         0                0  ...         0           0               0   \n10556         0                0  ...         1           0               0   \n10557         0                0  ...         0           0               0   \n\n       RequestClarification  Ridicule  Sarcasm  Softening  Sources  \\\n3                         0         0        0          0        1   \n5                         0         0        0          0        0   \n6                         0         0        0          0        1   \n7                         0         0        0          0        0   \n8                         0         0        0          0        0   \n...                     ...       ...      ...        ...      ...   \n10553                     0         0        0          0        1   \n10554                     0         0        0          0        0   \n10555                     0         0        1          0        0   \n10556                     0         0        0          0        0   \n10557                     0         1        0          0        0   \n\n       ViableTransformation  WQualifiers  \n3                         0            0  \n5                         0            0  \n6                         0            0  \n7                         0            0  \n8                         0            0  \n...                     ...          ...  \n10553                     0            0  \n10554                     0            0  \n10555                     0            0  \n10556                     0            0  \n10557                     0            0  \n\n[5501 rows x 38 columns]",
      "text/html": "<div>\n<style scoped>\n    .dataframe tbody tr th:only-of-type {\n        vertical-align: middle;\n    }\n\n    .dataframe tbody tr th {\n        vertical-align: top;\n    }\n\n    .dataframe thead th {\n        text-align: right;\n    }\n</style>\n<table border=\"1\" class=\"dataframe\">\n  <thead>\n    <tr style=\"text-align: right;\">\n      <th></th>\n      <th>Unnamed: 0</th>\n      <th>node_id</th>\n      <th>tree_id</th>\n      <th>timestamp</th>\n      <th>author</th>\n      <th>text</th>\n      <th>parent</th>\n      <th>Aggressive</th>\n      <th>AgreeBut</th>\n      <th>AgreeToDisagree</th>\n      <th>...</th>\n      <th>Positive</th>\n      <th>Repetition</th>\n      <th>RephraseAttack</th>\n      <th>RequestClarification</th>\n      <th>Ridicule</th>\n      <th>Sarcasm</th>\n      <th>Softening</th>\n      <th>Sources</th>\n      <th>ViableTransformation</th>\n      <th>WQualifiers</th>\n    </tr>\n  </thead>\n  <tbody>\n    <tr>\n      <th>3</th>\n      <td>3</td>\n      <td>d4y4nt7</td>\n      <td>4r2a4d</td>\n      <td>1467584235</td>\n      <td>lovelosttoss</td>\n      <td>I've been in a LDR for the past 2 1/2 years. W...</td>\n      <td>2</td>\n      <td>0</td>\n      <td>0</td>\n      <td>0</td>\n      <td>...</td>\n      <td>0</td>\n      <td>0</td>\n      <td>0</td>\n      <td>0</td>\n      <td>0</td>\n      <td>0</td>\n      <td>0</td>\n      <td>1</td>\n      <td>0</td>\n      <td>0</td>\n    </tr>\n    <tr>\n      <th>5</th>\n      <td>5</td>\n      <td>d4xr1oe</td>\n      <td>4r2a4d</td>\n      <td>1467561555</td>\n      <td>sickoftheshell</td>\n      <td>Agreed. But isn't companionship different in r...</td>\n      <td>4</td>\n      <td>0</td>\n      <td>1</td>\n      <td>0</td>\n      <td>...</td>\n      <td>0</td>\n      <td>0</td>\n      <td>0</td>\n      <td>0</td>\n      <td>0</td>\n      <td>0</td>\n      <td>0</td>\n      <td>0</td>\n      <td>0</td>\n      <td>0</td>\n    </tr>\n    <tr>\n      <th>6</th>\n      <td>6</td>\n      <td>d4xrgn5</td>\n      <td>4r2a4d</td>\n      <td>1467562285</td>\n      <td>ZerexTheCool</td>\n      <td>Why does it *have* to be in 'real life?' For m...</td>\n      <td>5</td>\n      <td>0</td>\n      <td>0</td>\n      <td>0</td>\n      <td>...</td>\n      <td>0</td>\n      <td>0</td>\n      <td>0</td>\n      <td>0</td>\n      <td>0</td>\n      <td>0</td>\n      <td>0</td>\n      <td>1</td>\n      <td>0</td>\n      <td>0</td>\n    </tr>\n    <tr>\n      <th>7</th>\n      <td>7</td>\n      <td>d4xsesj</td>\n      <td>4r2a4d</td>\n      <td>1467563921</td>\n      <td>sickoftheshell</td>\n      <td>I guess I agree with you. But I think in long ...</td>\n      <td>6</td>\n      <td>0</td>\n      <td>1</td>\n      <td>0</td>\n      <td>...</td>\n      <td>0</td>\n      <td>0</td>\n      <td>0</td>\n      <td>0</td>\n      <td>0</td>\n      <td>0</td>\n      <td>0</td>\n      <td>0</td>\n      <td>0</td>\n      <td>0</td>\n    </tr>\n    <tr>\n      <th>8</th>\n      <td>8</td>\n      <td>d4xsp65</td>\n      <td>4r2a4d</td>\n      <td>1467564412</td>\n      <td>YoungSerious</td>\n      <td>You seem to be basing a lot of this on the abi...</td>\n      <td>7</td>\n      <td>0</td>\n      <td>0</td>\n      <td>0</td>\n      <td>...</td>\n      <td>0</td>\n      <td>0</td>\n      <td>0</td>\n      <td>0</td>\n      <td>0</td>\n      <td>0</td>\n      <td>0</td>\n      <td>0</td>\n      <td>0</td>\n      <td>0</td>\n    </tr>\n    <tr>\n      <th>...</th>\n      <td>...</td>\n      <td>...</td>\n      <td>...</td>\n      <td>...</td>\n      <td>...</td>\n      <td>...</td>\n      <td>...</td>\n      <td>...</td>\n      <td>...</td>\n      <td>...</td>\n      <td>...</td>\n      <td>...</td>\n      <td>...</td>\n      <td>...</td>\n      <td>...</td>\n      <td>...</td>\n      <td>...</td>\n      <td>...</td>\n      <td>...</td>\n      <td>...</td>\n      <td>...</td>\n    </tr>\n    <tr>\n      <th>10553</th>\n      <td>10553</td>\n      <td>duiahd8</td>\n      <td>7yf2le</td>\n      <td>1519072900</td>\n      <td>_busch</td>\n      <td>There is no gold standard to education. Also, ...</td>\n      <td>10552</td>\n      <td>0</td>\n      <td>0</td>\n      <td>0</td>\n      <td>...</td>\n      <td>0</td>\n      <td>0</td>\n      <td>0</td>\n      <td>0</td>\n      <td>0</td>\n      <td>0</td>\n      <td>0</td>\n      <td>1</td>\n      <td>0</td>\n      <td>0</td>\n    </tr>\n    <tr>\n      <th>10554</th>\n      <td>10554</td>\n      <td>duib2w9</td>\n      <td>7yf2le</td>\n      <td>1519073471</td>\n      <td>MutinyGMV</td>\n      <td>&lt;quote&gt;Also, there is no secret sauce teaching...</td>\n      <td>10553</td>\n      <td>0</td>\n      <td>0</td>\n      <td>0</td>\n      <td>...</td>\n      <td>0</td>\n      <td>0</td>\n      <td>0</td>\n      <td>0</td>\n      <td>0</td>\n      <td>0</td>\n      <td>0</td>\n      <td>0</td>\n      <td>0</td>\n      <td>0</td>\n    </tr>\n    <tr>\n      <th>10555</th>\n      <td>10555</td>\n      <td>duibhx7</td>\n      <td>7yf2le</td>\n      <td>1519073875</td>\n      <td>_busch</td>\n      <td>you should teach!</td>\n      <td>10554</td>\n      <td>0</td>\n      <td>0</td>\n      <td>0</td>\n      <td>...</td>\n      <td>0</td>\n      <td>0</td>\n      <td>0</td>\n      <td>0</td>\n      <td>0</td>\n      <td>1</td>\n      <td>0</td>\n      <td>0</td>\n      <td>0</td>\n      <td>0</td>\n    </tr>\n    <tr>\n      <th>10556</th>\n      <td>10556</td>\n      <td>duibnz1</td>\n      <td>7yf2le</td>\n      <td>1519074041</td>\n      <td>MutinyGMV</td>\n      <td>Nope there is even less money in that than the...</td>\n      <td>10555</td>\n      <td>0</td>\n      <td>0</td>\n      <td>0</td>\n      <td>...</td>\n      <td>1</td>\n      <td>0</td>\n      <td>0</td>\n      <td>0</td>\n      <td>0</td>\n      <td>0</td>\n      <td>0</td>\n      <td>0</td>\n      <td>0</td>\n      <td>0</td>\n    </tr>\n    <tr>\n      <th>10557</th>\n      <td>10557</td>\n      <td>dui4q3s</td>\n      <td>7yf2le</td>\n      <td>1519067247</td>\n      <td>Mdcastle</td>\n      <td>Ted Bundy had an IQ of 136. Would more educati...</td>\n      <td>10508</td>\n      <td>0</td>\n      <td>0</td>\n      <td>0</td>\n      <td>...</td>\n      <td>0</td>\n      <td>0</td>\n      <td>0</td>\n      <td>0</td>\n      <td>1</td>\n      <td>0</td>\n      <td>0</td>\n      <td>0</td>\n      <td>0</td>\n      <td>0</td>\n    </tr>\n  </tbody>\n</table>\n<p>5501 rows × 38 columns</p>\n</div>"
     },
     "execution_count": 9,
     "metadata": {},
     "output_type": "execute_result"
    }
   ]
  },
  {
   "cell_type": "code",
   "source": [
    " filtered_df.iloc[0]"
   ],
   "metadata": {
    "colab": {
     "base_uri": "https://localhost:8080/"
    },
    "id": "WQ3xo9q_jyIV",
    "outputId": "ae85ac85-f167-41c6-8c39-0cfee4174ed0",
    "ExecuteTime": {
     "end_time": "2024-02-08T16:23:46.914791900Z",
     "start_time": "2024-02-08T16:23:46.858188400Z"
    }
   },
   "execution_count": 10,
   "outputs": [
    {
     "data": {
      "text/plain": "Unnamed: 0                                                              3\nnode_id                                                           d4y4nt7\ntree_id                                                            4r2a4d\ntimestamp                                                      1467584235\nauthor                                                       lovelosttoss\ntext                    I've been in a LDR for the past 2 1/2 years. W...\nparent                                                                  2\nAggressive                                                              0\nAgreeBut                                                                0\nAgreeToDisagree                                                         0\nAlternative                                                             0\nAnswer                                                                  0\nAttackValidity                                                          0\nBAD                                                                     0\nClarification                                                           0\nComplaint                                                               0\nConvergence                                                             0\nCounterArgument                                                         1\nCriticalQuestion                                                        0\nDirectNo                                                                0\nDoubleVoicing                                                           0\nExtension                                                               0\nIrrelevance                                                             0\nModeration                                                              0\nNegTransformation                                                       0\nNitpicking                                                              0\nNoReasonDisagreement                                                    0\nPersonal                                                                1\nPositive                                                                0\nRepetition                                                              0\nRephraseAttack                                                          0\nRequestClarification                                                    0\nRidicule                                                                0\nSarcasm                                                                 0\nSoftening                                                               0\nSources                                                                 1\nViableTransformation                                                    0\nWQualifiers                                                             0\nName: 3, dtype: object"
     },
     "execution_count": 10,
     "metadata": {},
     "output_type": "execute_result"
    }
   ]
  },
  {
   "cell_type": "code",
   "source": [
    "# Select columns starting from 'Aggressive'\n",
    "cols_to_count = df.loc[:, 'Aggressive':]\n",
    "\n",
    "# Group by the 4th column (author) and count occurrences in each group\n",
    "grouped_counts = cols_to_count.groupby(df.iloc[:, 4]).sum()\n",
    "\n",
    "grouped_counts.head()"
   ],
   "metadata": {
    "colab": {
     "base_uri": "https://localhost:8080/",
     "height": 304
    },
    "id": "HWJAE3lvkNBm",
    "outputId": "ed1a4cbd-aa22-4853-8032-427578bff524",
    "ExecuteTime": {
     "end_time": "2024-02-08T16:23:57.303037600Z",
     "start_time": "2024-02-08T16:23:57.241531200Z"
    }
   },
   "execution_count": 11,
   "outputs": [
    {
     "data": {
      "text/plain": "                     Aggressive  AgreeBut  AgreeToDisagree  Alternative  \\\nauthor                                                                    \n-6-6-                         3         3                1            3   \n-AragornElessar-              0         1                0            0   \n-Galvana                      0         0                0            0   \n-justanothernobody-           0         0                0            0   \n-modusPonens                  0         0                0            0   \n\n                     Answer  AttackValidity  BAD  Clarification  Complaint  \\\nauthor                                                                       \n-6-6-                     5              12    4             13         10   \n-AragornElessar-          0               0    0              1          0   \n-Galvana                  0               0    0              0          0   \n-justanothernobody-       0               0    0              0          0   \n-modusPonens              0               0    0              0          1   \n\n                     Convergence  ...  Positive  Repetition  RephraseAttack  \\\nauthor                            ...                                         \n-6-6-                          0  ...         5           8               2   \n-AragornElessar-               0  ...         0           0               0   \n-Galvana                       0  ...         0           0               0   \n-justanothernobody-            0  ...         0           0               0   \n-modusPonens                   0  ...         0           0               0   \n\n                     RequestClarification  Ridicule  Sarcasm  Softening  \\\nauthor                                                                    \n-6-6-                                  13         7        8          0   \n-AragornElessar-                        0         0        1          0   \n-Galvana                                0         0        0          0   \n-justanothernobody-                     0         0        0          0   \n-modusPonens                            0         0        0          0   \n\n                     Sources  ViableTransformation  WQualifiers  \nauthor                                                           \n-6-6-                     13                     1            2  \n-AragornElessar-           0                     0            0  \n-Galvana                   0                     0            0  \n-justanothernobody-        0                     0            0  \n-modusPonens               0                     0            0  \n\n[5 rows x 31 columns]",
      "text/html": "<div>\n<style scoped>\n    .dataframe tbody tr th:only-of-type {\n        vertical-align: middle;\n    }\n\n    .dataframe tbody tr th {\n        vertical-align: top;\n    }\n\n    .dataframe thead th {\n        text-align: right;\n    }\n</style>\n<table border=\"1\" class=\"dataframe\">\n  <thead>\n    <tr style=\"text-align: right;\">\n      <th></th>\n      <th>Aggressive</th>\n      <th>AgreeBut</th>\n      <th>AgreeToDisagree</th>\n      <th>Alternative</th>\n      <th>Answer</th>\n      <th>AttackValidity</th>\n      <th>BAD</th>\n      <th>Clarification</th>\n      <th>Complaint</th>\n      <th>Convergence</th>\n      <th>...</th>\n      <th>Positive</th>\n      <th>Repetition</th>\n      <th>RephraseAttack</th>\n      <th>RequestClarification</th>\n      <th>Ridicule</th>\n      <th>Sarcasm</th>\n      <th>Softening</th>\n      <th>Sources</th>\n      <th>ViableTransformation</th>\n      <th>WQualifiers</th>\n    </tr>\n    <tr>\n      <th>author</th>\n      <th></th>\n      <th></th>\n      <th></th>\n      <th></th>\n      <th></th>\n      <th></th>\n      <th></th>\n      <th></th>\n      <th></th>\n      <th></th>\n      <th></th>\n      <th></th>\n      <th></th>\n      <th></th>\n      <th></th>\n      <th></th>\n      <th></th>\n      <th></th>\n      <th></th>\n      <th></th>\n      <th></th>\n    </tr>\n  </thead>\n  <tbody>\n    <tr>\n      <th>-6-6-</th>\n      <td>3</td>\n      <td>3</td>\n      <td>1</td>\n      <td>3</td>\n      <td>5</td>\n      <td>12</td>\n      <td>4</td>\n      <td>13</td>\n      <td>10</td>\n      <td>0</td>\n      <td>...</td>\n      <td>5</td>\n      <td>8</td>\n      <td>2</td>\n      <td>13</td>\n      <td>7</td>\n      <td>8</td>\n      <td>0</td>\n      <td>13</td>\n      <td>1</td>\n      <td>2</td>\n    </tr>\n    <tr>\n      <th>-AragornElessar-</th>\n      <td>0</td>\n      <td>1</td>\n      <td>0</td>\n      <td>0</td>\n      <td>0</td>\n      <td>0</td>\n      <td>0</td>\n      <td>1</td>\n      <td>0</td>\n      <td>0</td>\n      <td>...</td>\n      <td>0</td>\n      <td>0</td>\n      <td>0</td>\n      <td>0</td>\n      <td>0</td>\n      <td>1</td>\n      <td>0</td>\n      <td>0</td>\n      <td>0</td>\n      <td>0</td>\n    </tr>\n    <tr>\n      <th>-Galvana</th>\n      <td>0</td>\n      <td>0</td>\n      <td>0</td>\n      <td>0</td>\n      <td>0</td>\n      <td>0</td>\n      <td>0</td>\n      <td>0</td>\n      <td>0</td>\n      <td>0</td>\n      <td>...</td>\n      <td>0</td>\n      <td>0</td>\n      <td>0</td>\n      <td>0</td>\n      <td>0</td>\n      <td>0</td>\n      <td>0</td>\n      <td>0</td>\n      <td>0</td>\n      <td>0</td>\n    </tr>\n    <tr>\n      <th>-justanothernobody-</th>\n      <td>0</td>\n      <td>0</td>\n      <td>0</td>\n      <td>0</td>\n      <td>0</td>\n      <td>0</td>\n      <td>0</td>\n      <td>0</td>\n      <td>0</td>\n      <td>0</td>\n      <td>...</td>\n      <td>0</td>\n      <td>0</td>\n      <td>0</td>\n      <td>0</td>\n      <td>0</td>\n      <td>0</td>\n      <td>0</td>\n      <td>0</td>\n      <td>0</td>\n      <td>0</td>\n    </tr>\n    <tr>\n      <th>-modusPonens</th>\n      <td>0</td>\n      <td>0</td>\n      <td>0</td>\n      <td>0</td>\n      <td>0</td>\n      <td>0</td>\n      <td>0</td>\n      <td>0</td>\n      <td>1</td>\n      <td>0</td>\n      <td>...</td>\n      <td>0</td>\n      <td>0</td>\n      <td>0</td>\n      <td>0</td>\n      <td>0</td>\n      <td>0</td>\n      <td>0</td>\n      <td>0</td>\n      <td>0</td>\n      <td>0</td>\n    </tr>\n  </tbody>\n</table>\n<p>5 rows × 31 columns</p>\n</div>"
     },
     "execution_count": 11,
     "metadata": {},
     "output_type": "execute_result"
    }
   ]
  },
  {
   "cell_type": "markdown",
   "source": [
    "### Searching for deltas"
   ],
   "metadata": {
    "collapsed": false
   }
  },
  {
   "cell_type": "code",
   "execution_count": 12,
   "outputs": [
    {
     "data": {
      "text/plain": "43"
     },
     "execution_count": 12,
     "metadata": {},
     "output_type": "execute_result"
    }
   ],
   "source": [
    "# Define the patterns to search for\n",
    "delta_symbol = \"Δ\"\n",
    "delta_phrase = \"!delta\"\n",
    "\n",
    "# Check if any comments contain these indicators\n",
    "contains_delta_symbol = df['text'].str.contains(delta_symbol, case=False, na=False)\n",
    "contains_delta_phrase = df['text'].str.contains(delta_phrase, case=False, na=False)\n",
    "\n",
    "# Create a new column to indicate if a comment received or mentions a delta\n",
    "df['delta_mentioned'] = contains_delta_symbol | contains_delta_phrase\n",
    "\n",
    "# Summarize how many comments mention a delta\n",
    "delta_mentions_count = df['delta_mentioned'].sum()\n",
    "\n",
    "# Show the summary of delta mentions\n",
    "delta_mentions_count"
   ],
   "metadata": {
    "collapsed": false,
    "ExecuteTime": {
     "end_time": "2024-02-08T16:24:42.762831700Z",
     "start_time": "2024-02-08T16:24:42.637441Z"
    }
   }
  },
  {
   "cell_type": "markdown",
   "source": [
    "Here's a sample of comments from the dataset that mention a delta, providing a variety of contexts in which the delta is referenced:\n",
    "\n",
    "Comment: \"!delta for baguette\"\n",
    "\n",
    "Delta Mentioned: Yes\n",
    "Context: Direct award of a delta, likely for changing the commenter's view in a specific discussion.\n",
    "Comment: \"Alright, I accept an alteration to the definition...\"\n",
    "\n",
    "Delta Mentioned: Yes\n",
    "Context: This comment seems to indicate a change in viewpoint, possibly related to a delta award, but lacks a direct mention.\n",
    "Comment: \"That's a great way of looking at it, I never thought...\"\n",
    "\n",
    "Delta Mentioned: Yes\n",
    "Context: Appreciation for a new perspective, suggesting a delta could have been awarded, though not explicitly stated.\n",
    "Comment: \"I think what I'm saying is only contradicting...\"\n",
    "\n",
    "Delta Mentioned: Yes\n",
    "Context: Discussion, potentially related to a viewpoint change but without explicit mention of a delta award.\n",
    "Comment: \"!Delta I understand the Thor one since majority...\"\n",
    "\n",
    "Delta Mentioned: Yes\n",
    "Context: Direct mention of a delta award with rationale provided, indicating a successful viewpoint change.\n",
    "Comment: \"Oh well, right The powerful people really would...\"\n",
    "\n",
    "Delta Mentioned: Yes\n",
    "Context: Discussion without an explicit delta award mention.\n",
    "Comment: \"!delta Not because my original point doesn't stand...\"\n",
    "\n",
    "Delta Mentioned: Yes\n",
    "Context: Explicit delta award, with reasoning that suggests reconsideration of an initial stance.\n",
    "Comment: \"<quote>They also do a lot of immature and childish...\"\n",
    "\n",
    "Delta Mentioned: Yes\n",
    "Context: Quoted discussion, unclear relation to a delta award without further context.\n",
    "Comment: \"!delta The point about the failed takeover in...\"\n",
    "\n",
    "Delta Mentioned: Yes\n",
    "Context: Direct delta award with explanation, indicating a change in viewpoint.\n",
    "Comment: \"Thank you for your reply and understanding. Th...\"\n",
    "\n",
    "Delta Mentioned: Yes\n",
    "Context: Appreciation expressed, potentially following a viewpoint change, but lacks direct delta mention."
   ],
   "metadata": {
    "collapsed": false
   }
  },
  {
   "cell_type": "code",
   "execution_count": 13,
   "outputs": [
    {
     "data": {
      "text/plain": "                                                   text  delta_mentioned\n45    <quote>&gt;Because of bodily autonomy</quote> ...             True\n245   Thank you for your reply and understanding. Th...             True\n909   Arguably, a single parent has the right to put...             True\n1019  <quote>G2 would have all the money and would h...             True\n1036  !delta The point about the failed takeover in ...             True",
      "text/html": "<div>\n<style scoped>\n    .dataframe tbody tr th:only-of-type {\n        vertical-align: middle;\n    }\n\n    .dataframe tbody tr th {\n        vertical-align: top;\n    }\n\n    .dataframe thead th {\n        text-align: right;\n    }\n</style>\n<table border=\"1\" class=\"dataframe\">\n  <thead>\n    <tr style=\"text-align: right;\">\n      <th></th>\n      <th>text</th>\n      <th>delta_mentioned</th>\n    </tr>\n  </thead>\n  <tbody>\n    <tr>\n      <th>45</th>\n      <td>&lt;quote&gt;&amp;gt;Because of bodily autonomy&lt;/quote&gt; ...</td>\n      <td>True</td>\n    </tr>\n    <tr>\n      <th>245</th>\n      <td>Thank you for your reply and understanding. Th...</td>\n      <td>True</td>\n    </tr>\n    <tr>\n      <th>909</th>\n      <td>Arguably, a single parent has the right to put...</td>\n      <td>True</td>\n    </tr>\n    <tr>\n      <th>1019</th>\n      <td>&lt;quote&gt;G2 would have all the money and would h...</td>\n      <td>True</td>\n    </tr>\n    <tr>\n      <th>1036</th>\n      <td>!delta The point about the failed takeover in ...</td>\n      <td>True</td>\n    </tr>\n  </tbody>\n</table>\n</div>"
     },
     "execution_count": 13,
     "metadata": {},
     "output_type": "execute_result"
    }
   ],
   "source": [
    "# Extract comments that mention a delta\n",
    "delta_comments = df[df['delta_mentioned']]\n",
    "\n",
    "# Display the first few comments that mention a delta to understand the context\n",
    "delta_comments[['text', 'delta_mentioned']].head()"
   ],
   "metadata": {
    "collapsed": false,
    "ExecuteTime": {
     "end_time": "2024-02-08T16:24:54.338125900Z",
     "start_time": "2024-02-08T16:24:54.280491900Z"
    }
   }
  },
  {
   "cell_type": "code",
   "execution_count": 14,
   "outputs": [
    {
     "data": {
      "text/plain": "                                                   text  delta_mentioned\n5803  !delta Not because my original point doesn't s...             True\n5869  Ohhhh... I forgot that. I just woke up so I gu...             True\n245   Thank you for your reply and understanding. Th...             True\n7456  Δ haha there you go only because you asked nic...             True\n6429  <quote>Then you are making happiness as someth...             True\n7819  You can copy and paste it from the sidebar or ...             True\n8261  Alright, I accept an alteration to the definit...             True\n9281  I totally agree with this, I am an atheist as ...             True\n2477  I doubt any type of technology will ever exist...             True\n3241  <quote>And inherently more towards the side th...             True",
      "text/html": "<div>\n<style scoped>\n    .dataframe tbody tr th:only-of-type {\n        vertical-align: middle;\n    }\n\n    .dataframe tbody tr th {\n        vertical-align: top;\n    }\n\n    .dataframe thead th {\n        text-align: right;\n    }\n</style>\n<table border=\"1\" class=\"dataframe\">\n  <thead>\n    <tr style=\"text-align: right;\">\n      <th></th>\n      <th>text</th>\n      <th>delta_mentioned</th>\n    </tr>\n  </thead>\n  <tbody>\n    <tr>\n      <th>5803</th>\n      <td>!delta Not because my original point doesn't s...</td>\n      <td>True</td>\n    </tr>\n    <tr>\n      <th>5869</th>\n      <td>Ohhhh... I forgot that. I just woke up so I gu...</td>\n      <td>True</td>\n    </tr>\n    <tr>\n      <th>245</th>\n      <td>Thank you for your reply and understanding. Th...</td>\n      <td>True</td>\n    </tr>\n    <tr>\n      <th>7456</th>\n      <td>Δ haha there you go only because you asked nic...</td>\n      <td>True</td>\n    </tr>\n    <tr>\n      <th>6429</th>\n      <td>&lt;quote&gt;Then you are making happiness as someth...</td>\n      <td>True</td>\n    </tr>\n    <tr>\n      <th>7819</th>\n      <td>You can copy and paste it from the sidebar or ...</td>\n      <td>True</td>\n    </tr>\n    <tr>\n      <th>8261</th>\n      <td>Alright, I accept an alteration to the definit...</td>\n      <td>True</td>\n    </tr>\n    <tr>\n      <th>9281</th>\n      <td>I totally agree with this, I am an atheist as ...</td>\n      <td>True</td>\n    </tr>\n    <tr>\n      <th>2477</th>\n      <td>I doubt any type of technology will ever exist...</td>\n      <td>True</td>\n    </tr>\n    <tr>\n      <th>3241</th>\n      <td>&lt;quote&gt;And inherently more towards the side th...</td>\n      <td>True</td>\n    </tr>\n  </tbody>\n</table>\n</div>"
     },
     "execution_count": 14,
     "metadata": {},
     "output_type": "execute_result"
    }
   ],
   "source": [
    "# Increase the number of comments to review for a better understanding\n",
    "delta_comments_sample = delta_comments[['text', 'delta_mentioned']].sample(min(len(delta_comments), 10))  # Sample up to 10 comments\n",
    "\n",
    "delta_comments_sample"
   ],
   "metadata": {
    "collapsed": false,
    "ExecuteTime": {
     "end_time": "2024-02-08T16:25:25.194546Z",
     "start_time": "2024-02-08T16:25:25.145562100Z"
    }
   }
  },
  {
   "cell_type": "code",
   "execution_count": 15,
   "outputs": [
    {
     "data": {
      "text/plain": "28"
     },
     "execution_count": 15,
     "metadata": {},
     "output_type": "execute_result"
    }
   ],
   "source": [
    "# Define a more refined search for \"!delta\" with additional text, indicating a rationale or acknowledgment\n",
    "import re\n",
    "\n",
    "# Function to check if a comment likely represents a delta award based on the heuristic\n",
    "def likely_delta_award(text):\n",
    "    # Look for \"!delta\" possibly followed by some explanatory text\n",
    "    if \"!delta\" in text.lower():\n",
    "        # Check if there's some text following the \"!delta\" mention that could indicate reasoning\n",
    "        post_delta_text = text.lower().split(\"!delta\", 1)[1]  # Get text after \"!delta\"\n",
    "        if len(post_delta_text) > 20:  # Arbitrary threshold: if there's significant text after \"!delta\"\n",
    "            return True\n",
    "    return False\n",
    "\n",
    "# Apply the function to each comment to create a more refined indicator of delta awards\n",
    "df['likely_delta_award'] = df['text'].apply(likely_delta_award)\n",
    "\n",
    "# Summarize how many comments are now identified as likely representing an actual delta award\n",
    "likely_delta_awards_count = df['likely_delta_award'].sum()\n",
    "\n",
    "# Show the refined summary of likely delta awards\n",
    "likely_delta_awards_count"
   ],
   "metadata": {
    "collapsed": false,
    "ExecuteTime": {
     "end_time": "2024-02-08T16:25:50.756020200Z",
     "start_time": "2024-02-08T16:25:50.709499300Z"
    }
   }
  }
 ]
}
