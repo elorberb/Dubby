{
 "cells": [
  {
   "cell_type": "code",
   "execution_count": 1,
   "metadata": {},
   "outputs": [],
   "source": [
    "import pandas as pd\n",
    "train_df = pd.read_csv('/home/etaylor/code_projects/dubby/data/inbar_train_df.csv')\n",
    "test_df = pd.read_csv('/home/etaylor/code_projects/dubby/data/inbar_test_df.csv')"
   ]
  },
  {
   "cell_type": "code",
   "execution_count": 2,
   "metadata": {},
   "outputs": [],
   "source": [
    "import sys\n",
    "# The path you want to add  \n",
    "path_to_add = r'/home/etaylor/code_projects/dubby'  \n",
    "# Add the directory to sys.path  \n",
    "sys.path.insert(0, path_to_add)"
   ]
  },
  {
   "cell_type": "code",
   "execution_count": 3,
   "metadata": {},
   "outputs": [
    {
     "name": "stdout",
     "output_type": "stream",
     "text": [
      "3933\n",
      "3847\n"
     ]
    }
   ],
   "source": [
    "print(len(f\"len train_df = {train_df}\"))\n",
    "print(len(f\"len test_df = {test_df}\"))"
   ]
  },
  {
   "cell_type": "code",
   "execution_count": 4,
   "metadata": {},
   "outputs": [
    {
     "data": {
      "text/html": [
       "<div>\n",
       "<style scoped>\n",
       "    .dataframe tbody tr th:only-of-type {\n",
       "        vertical-align: middle;\n",
       "    }\n",
       "\n",
       "    .dataframe tbody tr th {\n",
       "        vertical-align: top;\n",
       "    }\n",
       "\n",
       "    .dataframe thead th {\n",
       "        text-align: right;\n",
       "    }\n",
       "</style>\n",
       "<table border=\"1\" class=\"dataframe\">\n",
       "  <thead>\n",
       "    <tr style=\"text-align: right;\">\n",
       "      <th></th>\n",
       "      <th>Unnamed: 0</th>\n",
       "      <th>id</th>\n",
       "      <th>title</th>\n",
       "      <th>post</th>\n",
       "      <th>comment</th>\n",
       "      <th>father_comment</th>\n",
       "      <th>conversation_id</th>\n",
       "      <th>timestamp</th>\n",
       "      <th>meta.success</th>\n",
       "    </tr>\n",
       "  </thead>\n",
       "  <tbody>\n",
       "    <tr>\n",
       "      <th>0</th>\n",
       "      <td>4</td>\n",
       "      <td>t1_cnhuxye</td>\n",
       "      <td>CMV:Essential Oils are bullshit</td>\n",
       "      <td>My wife has recently gotten deeply involved/ob...</td>\n",
       "      <td>[This answer in /r/askscience does a pretty go...</td>\n",
       "      <td>33    My wife has recently gotten deeply invol...</td>\n",
       "      <td>t3_2ro0ti</td>\n",
       "      <td>1.420706e+09</td>\n",
       "      <td>1.0</td>\n",
       "    </tr>\n",
       "    <tr>\n",
       "      <th>1</th>\n",
       "      <td>5</td>\n",
       "      <td>t1_cni1m79</td>\n",
       "      <td>CMV:Essential Oils are bullshit</td>\n",
       "      <td>My wife has recently gotten deeply involved/ob...</td>\n",
       "      <td>&amp;amp;#8710; While my view may not have shifted...</td>\n",
       "      <td>36    [This answer in /r/askscience does a pre...</td>\n",
       "      <td>t3_2ro0ti</td>\n",
       "      <td>1.420719e+09</td>\n",
       "      <td>1.0</td>\n",
       "    </tr>\n",
       "    <tr>\n",
       "      <th>2</th>\n",
       "      <td>6</td>\n",
       "      <td>t1_cnhowj2</td>\n",
       "      <td>CMV:Essential Oils are bullshit</td>\n",
       "      <td>My wife has recently gotten deeply involved/ob...</td>\n",
       "      <td>Found a nice little [article](http://pediatric...</td>\n",
       "      <td>33    My wife has recently gotten deeply invol...</td>\n",
       "      <td>t3_2ro0ti</td>\n",
       "      <td>1.420696e+09</td>\n",
       "      <td>0.0</td>\n",
       "    </tr>\n",
       "    <tr>\n",
       "      <th>3</th>\n",
       "      <td>7</td>\n",
       "      <td>t1_cniedbg</td>\n",
       "      <td>CMV:Essential Oils are bullshit</td>\n",
       "      <td>My wife has recently gotten deeply involved/ob...</td>\n",
       "      <td>Debunking articles typically aren't peer-revie...</td>\n",
       "      <td>61    This article would not be accepted by an...</td>\n",
       "      <td>t3_2ro0ti</td>\n",
       "      <td>1.420758e+09</td>\n",
       "      <td>0.0</td>\n",
       "    </tr>\n",
       "    <tr>\n",
       "      <th>4</th>\n",
       "      <td>8</td>\n",
       "      <td>t1_cnhlmdo</td>\n",
       "      <td>CMV: I think the Paris shooting makes a good c...</td>\n",
       "      <td>Thinking about today's news: [BBC](http://www....</td>\n",
       "      <td>&amp;gt;PS: I am not here to talk about USA and it...</td>\n",
       "      <td>64    Thinking about today's news: [BBC](http:...</td>\n",
       "      <td>t3_2rnr30</td>\n",
       "      <td>1.420691e+09</td>\n",
       "      <td>0.0</td>\n",
       "    </tr>\n",
       "  </tbody>\n",
       "</table>\n",
       "</div>"
      ],
      "text/plain": [
       "  Unnamed: 0          id                                              title  \\\n",
       "0          4  t1_cnhuxye                    CMV:Essential Oils are bullshit   \n",
       "1          5  t1_cni1m79                    CMV:Essential Oils are bullshit   \n",
       "2          6  t1_cnhowj2                    CMV:Essential Oils are bullshit   \n",
       "3          7  t1_cniedbg                    CMV:Essential Oils are bullshit   \n",
       "4          8  t1_cnhlmdo  CMV: I think the Paris shooting makes a good c...   \n",
       "\n",
       "                                                post  \\\n",
       "0  My wife has recently gotten deeply involved/ob...   \n",
       "1  My wife has recently gotten deeply involved/ob...   \n",
       "2  My wife has recently gotten deeply involved/ob...   \n",
       "3  My wife has recently gotten deeply involved/ob...   \n",
       "4  Thinking about today's news: [BBC](http://www....   \n",
       "\n",
       "                                             comment  \\\n",
       "0  [This answer in /r/askscience does a pretty go...   \n",
       "1  &amp;#8710; While my view may not have shifted...   \n",
       "2  Found a nice little [article](http://pediatric...   \n",
       "3  Debunking articles typically aren't peer-revie...   \n",
       "4  &gt;PS: I am not here to talk about USA and it...   \n",
       "\n",
       "                                      father_comment conversation_id  \\\n",
       "0  33    My wife has recently gotten deeply invol...       t3_2ro0ti   \n",
       "1  36    [This answer in /r/askscience does a pre...       t3_2ro0ti   \n",
       "2  33    My wife has recently gotten deeply invol...       t3_2ro0ti   \n",
       "3  61    This article would not be accepted by an...       t3_2ro0ti   \n",
       "4  64    Thinking about today's news: [BBC](http:...       t3_2rnr30   \n",
       "\n",
       "      timestamp  meta.success  \n",
       "0  1.420706e+09           1.0  \n",
       "1  1.420719e+09           1.0  \n",
       "2  1.420696e+09           0.0  \n",
       "3  1.420758e+09           0.0  \n",
       "4  1.420691e+09           0.0  "
      ]
     },
     "execution_count": 4,
     "metadata": {},
     "output_type": "execute_result"
    }
   ],
   "source": [
    "train_df.head()"
   ]
  },
  {
   "cell_type": "code",
   "execution_count": 6,
   "metadata": {},
   "outputs": [],
   "source": [
    "import pandas as pd\n",
    "from src import classification_prompts\n",
    "\n",
    "\n",
    "combinations = [\n",
    "    ['title', 'comment'],\n",
    "    ['title', 'post', 'comment'],\n",
    "    ['title', 'post', 'comment', 'father_comment']\n",
    "]\n",
    "\n",
    "def process_data_for_classification(df, features):\n",
    "    df = df.dropna(subset=features + ['meta.success'])  # Drop rows with NaN in any of the specified features or 'meta.success'\n",
    "    processed_df = pd.DataFrame()\n",
    "\n",
    "    def format_text(row):\n",
    "        parts = [f\"{feature}: {row[feature]}\" for feature in features]\n",
    "        return ' [SEP] '.join(parts)\n",
    "\n",
    "    processed_df['text'] = df.apply(lambda x: format_text(x), axis=1)\n",
    "    processed_df['label'] = df['meta.success'].astype(int)\n",
    "    return processed_df"
   ]
  },
  {
   "cell_type": "code",
   "execution_count": 50,
   "metadata": {},
   "outputs": [],
   "source": [
    "processed_train_df = process_data_for_classification(train_df, combinations[0])"
   ]
  },
  {
   "cell_type": "code",
   "execution_count": 7,
   "metadata": {},
   "outputs": [
    {
     "data": {
      "text/plain": [
       "['train_title_comment.csv',\n",
       " 'test_title_comment.csv',\n",
       " 'train_title_post_comment.csv',\n",
       " 'test_title_post_comment.csv',\n",
       " 'train_title_post_comment_father_comment.csv',\n",
       " 'test_title_post_comment_father_comment.csv']"
      ]
     },
     "execution_count": 7,
     "metadata": {},
     "output_type": "execute_result"
    }
   ],
   "source": [
    "import os \n",
    "\n",
    "folder_path = \"/home/etaylor/code_projects/dubby/data/updated_data\"\n",
    "\n",
    "# Process and save for each combination\n",
    "for combo in combinations:\n",
    "    processed_train_df = process_data_for_classification(train_df, combo)\n",
    "    processed_test_df = process_data_for_classification(test_df, combo)\n",
    "    \n",
    "    train_filename = f\"train_{'_'.join(combo)}.csv\"\n",
    "    test_filename = f\"test_{'_'.join(combo)}.csv\"\n",
    "    \n",
    "    processed_train_df.to_csv(os.path.join(folder_path, train_filename), index=False)\n",
    "    processed_test_df.to_csv(os.path.join(folder_path, test_filename), index=False)\n",
    "\n",
    "# List the files saved\n",
    "os.listdir(folder_path)"
   ]
  },
  {
   "cell_type": "code",
   "execution_count": 14,
   "metadata": {},
   "outputs": [],
   "source": [
    "combo = ['comment']\n",
    "\n",
    "processed_train_df = process_data_for_classification(train_df, combo)\n",
    "processed_test_df = process_data_for_classification(test_df, combo)\n",
    "\n",
    "train_filename = f\"train_{'_'.join(combo)}.csv\"\n",
    "test_filename = f\"test_{'_'.join(combo)}.csv\"\n",
    "\n",
    "processed_train_df.to_csv(os.path.join(folder_path, train_filename), index=False)\n",
    "processed_test_df.to_csv(os.path.join(folder_path, test_filename), index=False)"
   ]
  },
  {
   "cell_type": "code",
   "execution_count": 12,
   "metadata": {},
   "outputs": [
    {
     "data": {
      "text/html": [
       "<div>\n",
       "<style scoped>\n",
       "    .dataframe tbody tr th:only-of-type {\n",
       "        vertical-align: middle;\n",
       "    }\n",
       "\n",
       "    .dataframe tbody tr th {\n",
       "        vertical-align: top;\n",
       "    }\n",
       "\n",
       "    .dataframe thead th {\n",
       "        text-align: right;\n",
       "    }\n",
       "</style>\n",
       "<table border=\"1\" class=\"dataframe\">\n",
       "  <thead>\n",
       "    <tr style=\"text-align: right;\">\n",
       "      <th></th>\n",
       "      <th>text</th>\n",
       "      <th>label</th>\n",
       "    </tr>\n",
       "  </thead>\n",
       "  <tbody>\n",
       "    <tr>\n",
       "      <th>0</th>\n",
       "      <td>title: CMV: Anything that is man-made is natur...</td>\n",
       "      <td>1</td>\n",
       "    </tr>\n",
       "    <tr>\n",
       "      <th>1</th>\n",
       "      <td>title: CMV: Anything that is man-made is natur...</td>\n",
       "      <td>1</td>\n",
       "    </tr>\n",
       "    <tr>\n",
       "      <th>2</th>\n",
       "      <td>title: CMV: Anything that is man-made is natur...</td>\n",
       "      <td>1</td>\n",
       "    </tr>\n",
       "    <tr>\n",
       "      <th>3</th>\n",
       "      <td>title: CMV: Anything that is man-made is natur...</td>\n",
       "      <td>0</td>\n",
       "    </tr>\n",
       "    <tr>\n",
       "      <th>4</th>\n",
       "      <td>title: CMV: Veganism and vegetarianism are not...</td>\n",
       "      <td>1</td>\n",
       "    </tr>\n",
       "  </tbody>\n",
       "</table>\n",
       "</div>"
      ],
      "text/plain": [
       "                                                text  label\n",
       "0  title: CMV: Anything that is man-made is natur...      1\n",
       "1  title: CMV: Anything that is man-made is natur...      1\n",
       "2  title: CMV: Anything that is man-made is natur...      1\n",
       "3  title: CMV: Anything that is man-made is natur...      0\n",
       "4  title: CMV: Veganism and vegetarianism are not...      1"
      ]
     },
     "execution_count": 12,
     "metadata": {},
     "output_type": "execute_result"
    }
   ],
   "source": [
    "train_title_comment_df = pd.read_csv(os.path.join(folder_path, 'test_title_post_comment_father_comment.csv'))\n",
    "train_title_comment_df.head()"
   ]
  },
  {
   "cell_type": "code",
   "execution_count": 13,
   "metadata": {},
   "outputs": [
    {
     "name": "stdout",
     "output_type": "stream",
     "text": [
      "(\"title: CMV: Anything that is man-made is natural. [SEP] post: I can't \"\n",
      " 'remember the topic that spurred this discussion, but a friend and I were '\n",
      " 'debating whether man-made things were natural. He took the position that '\n",
      " 'they are unnatural. \\n'\n",
      " '\\n'\n",
      " 'He cited this definition by Merriam-Webster:  existing in nature and not '\n",
      " 'made or caused by people : coming from nature '\n",
      " '(http://www.merriam-webster.com/dictionary/natural) as his basis for the '\n",
      " 'distinction for natural vs. unnatural.\\n'\n",
      " '\\n'\n",
      " 'However, I respectfully disagree with his position and furthermore that '\n",
      " \"definition of natural. People arise from nature. Humankind's capacity to \"\n",
      " 'create, problem-solve, analyze, rationalize, and build also come from '\n",
      " 'natural processes. How are the things we create unnatural? It is only '\n",
      " 'through natural occurrences that we have this ability, why is it that we '\n",
      " 'would give the credit of these things solely to man, as opposed to nature? '\n",
      " 'We are not separate from nature, thus, how can any of our actions or '\n",
      " 'creations be unnatural? If we were somehow separate from nature, I would '\n",
      " 'understand the distinction between natural and man-made. However, I think '\n",
      " 'unnatural and man-made are not synonyms by any means. It seems to me that '\n",
      " 'man-made things MUST be natural due to our being part of nature. \\n'\n",
      " '\\n'\n",
      " 'I would love to hear your arguments and to have my view changed if I am '\n",
      " 'mistaken in my logic somewhere along the line.\\n'\n",
      " '\\n'\n",
      " 'EDIT: Thanks for your responses lads. As many of you pointed out, our '\n",
      " 'argument depends more on the context of the use of the word and I think that '\n",
      " 'my friend and I were arguing about the semantics and definition more than '\n",
      " 'our intended meaning behind use of the word \"natural\". [SEP] comment: ∆.  '\n",
      " 'Yours was the first comment I read to make me understand how changing the '\n",
      " 'definition would render the word useless. I see how depending on context '\n",
      " 'there are multiple uses of the word natural and it would appear my friend '\n",
      " 'and I were arguing over the definition rather than what we meant each time '\n",
      " \"we used the word natural. That's why you've changed my view, also went to \"\n",
      " 'bed so sorry for the delay haha. Cheers [SEP] father_comment: 1    Look at '\n",
      " 'the definition you provided, if we rem...\\n'\n",
      " 'Name: text, dtype: object')\n"
     ]
    }
   ],
   "source": [
    "from pprint import pprint\n",
    "pprint(train_title_comment_df['text'][1])"
   ]
  },
  {
   "cell_type": "code",
   "execution_count": null,
   "metadata": {},
   "outputs": [],
   "source": []
  }
 ],
 "metadata": {
  "kernelspec": {
   "display_name": "dubby",
   "language": "python",
   "name": "python3"
  },
  "language_info": {
   "codemirror_mode": {
    "name": "ipython",
    "version": 3
   },
   "file_extension": ".py",
   "mimetype": "text/x-python",
   "name": "python",
   "nbconvert_exporter": "python",
   "pygments_lexer": "ipython3",
   "version": "3.12.2"
  }
 },
 "nbformat": 4,
 "nbformat_minor": 2
}
