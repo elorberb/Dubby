{
 "cells": [
  {
   "cell_type": "code",
   "execution_count": 14,
   "metadata": {},
   "outputs": [],
   "source": [
    "import pandas as pd\n",
    "train_df = pd.read_csv('/home/etaylor/code_projects/dubby/data/inbar_train_df.csv')\n",
    "test_df = pd.read_csv('/home/etaylor/code_projects/dubby/data/inbar_test_df.csv')"
   ]
  },
  {
   "cell_type": "code",
   "execution_count": 35,
   "metadata": {},
   "outputs": [],
   "source": [
    "import sys\n",
    "# The path you want to add  \n",
    "path_to_add = r'/home/etaylor/code_projects/dubby'  \n",
    "# Add the directory to sys.path  \n",
    "sys.path.insert(0, path_to_add)"
   ]
  },
  {
   "cell_type": "code",
   "execution_count": 15,
   "metadata": {},
   "outputs": [
    {
     "name": "stdout",
     "output_type": "stream",
     "text": [
      "3933\n",
      "3847\n"
     ]
    }
   ],
   "source": [
    "print(len(f\"len train_df = {train_df}\"))\n",
    "print(len(f\"len test_df = {test_df}\"))"
   ]
  },
  {
   "cell_type": "code",
   "execution_count": 4,
   "metadata": {},
   "outputs": [
    {
     "data": {
      "text/html": [
       "<div>\n",
       "<style scoped>\n",
       "    .dataframe tbody tr th:only-of-type {\n",
       "        vertical-align: middle;\n",
       "    }\n",
       "\n",
       "    .dataframe tbody tr th {\n",
       "        vertical-align: top;\n",
       "    }\n",
       "\n",
       "    .dataframe thead th {\n",
       "        text-align: right;\n",
       "    }\n",
       "</style>\n",
       "<table border=\"1\" class=\"dataframe\">\n",
       "  <thead>\n",
       "    <tr style=\"text-align: right;\">\n",
       "      <th></th>\n",
       "      <th>Unnamed: 0</th>\n",
       "      <th>id</th>\n",
       "      <th>title</th>\n",
       "      <th>post</th>\n",
       "      <th>comment</th>\n",
       "      <th>father_comment</th>\n",
       "      <th>conversation_id</th>\n",
       "      <th>timestamp</th>\n",
       "      <th>meta.success</th>\n",
       "    </tr>\n",
       "  </thead>\n",
       "  <tbody>\n",
       "    <tr>\n",
       "      <th>0</th>\n",
       "      <td>4</td>\n",
       "      <td>t1_cnhuxye</td>\n",
       "      <td>CMV:Essential Oils are bullshit</td>\n",
       "      <td>My wife has recently gotten deeply involved/ob...</td>\n",
       "      <td>[This answer in /r/askscience does a pretty go...</td>\n",
       "      <td>33    My wife has recently gotten deeply invol...</td>\n",
       "      <td>t3_2ro0ti</td>\n",
       "      <td>1.420706e+09</td>\n",
       "      <td>1.0</td>\n",
       "    </tr>\n",
       "    <tr>\n",
       "      <th>1</th>\n",
       "      <td>5</td>\n",
       "      <td>t1_cni1m79</td>\n",
       "      <td>CMV:Essential Oils are bullshit</td>\n",
       "      <td>My wife has recently gotten deeply involved/ob...</td>\n",
       "      <td>&amp;amp;#8710; While my view may not have shifted...</td>\n",
       "      <td>36    [This answer in /r/askscience does a pre...</td>\n",
       "      <td>t3_2ro0ti</td>\n",
       "      <td>1.420719e+09</td>\n",
       "      <td>1.0</td>\n",
       "    </tr>\n",
       "    <tr>\n",
       "      <th>2</th>\n",
       "      <td>6</td>\n",
       "      <td>t1_cnhowj2</td>\n",
       "      <td>CMV:Essential Oils are bullshit</td>\n",
       "      <td>My wife has recently gotten deeply involved/ob...</td>\n",
       "      <td>Found a nice little [article](http://pediatric...</td>\n",
       "      <td>33    My wife has recently gotten deeply invol...</td>\n",
       "      <td>t3_2ro0ti</td>\n",
       "      <td>1.420696e+09</td>\n",
       "      <td>0.0</td>\n",
       "    </tr>\n",
       "    <tr>\n",
       "      <th>3</th>\n",
       "      <td>7</td>\n",
       "      <td>t1_cniedbg</td>\n",
       "      <td>CMV:Essential Oils are bullshit</td>\n",
       "      <td>My wife has recently gotten deeply involved/ob...</td>\n",
       "      <td>Debunking articles typically aren't peer-revie...</td>\n",
       "      <td>61    This article would not be accepted by an...</td>\n",
       "      <td>t3_2ro0ti</td>\n",
       "      <td>1.420758e+09</td>\n",
       "      <td>0.0</td>\n",
       "    </tr>\n",
       "    <tr>\n",
       "      <th>4</th>\n",
       "      <td>8</td>\n",
       "      <td>t1_cnhlmdo</td>\n",
       "      <td>CMV: I think the Paris shooting makes a good c...</td>\n",
       "      <td>Thinking about today's news: [BBC](http://www....</td>\n",
       "      <td>&amp;gt;PS: I am not here to talk about USA and it...</td>\n",
       "      <td>64    Thinking about today's news: [BBC](http:...</td>\n",
       "      <td>t3_2rnr30</td>\n",
       "      <td>1.420691e+09</td>\n",
       "      <td>0.0</td>\n",
       "    </tr>\n",
       "  </tbody>\n",
       "</table>\n",
       "</div>"
      ],
      "text/plain": [
       "  Unnamed: 0          id                                              title  \\\n",
       "0          4  t1_cnhuxye                    CMV:Essential Oils are bullshit   \n",
       "1          5  t1_cni1m79                    CMV:Essential Oils are bullshit   \n",
       "2          6  t1_cnhowj2                    CMV:Essential Oils are bullshit   \n",
       "3          7  t1_cniedbg                    CMV:Essential Oils are bullshit   \n",
       "4          8  t1_cnhlmdo  CMV: I think the Paris shooting makes a good c...   \n",
       "\n",
       "                                                post  \\\n",
       "0  My wife has recently gotten deeply involved/ob...   \n",
       "1  My wife has recently gotten deeply involved/ob...   \n",
       "2  My wife has recently gotten deeply involved/ob...   \n",
       "3  My wife has recently gotten deeply involved/ob...   \n",
       "4  Thinking about today's news: [BBC](http://www....   \n",
       "\n",
       "                                             comment  \\\n",
       "0  [This answer in /r/askscience does a pretty go...   \n",
       "1  &amp;#8710; While my view may not have shifted...   \n",
       "2  Found a nice little [article](http://pediatric...   \n",
       "3  Debunking articles typically aren't peer-revie...   \n",
       "4  &gt;PS: I am not here to talk about USA and it...   \n",
       "\n",
       "                                      father_comment conversation_id  \\\n",
       "0  33    My wife has recently gotten deeply invol...       t3_2ro0ti   \n",
       "1  36    [This answer in /r/askscience does a pre...       t3_2ro0ti   \n",
       "2  33    My wife has recently gotten deeply invol...       t3_2ro0ti   \n",
       "3  61    This article would not be accepted by an...       t3_2ro0ti   \n",
       "4  64    Thinking about today's news: [BBC](http:...       t3_2rnr30   \n",
       "\n",
       "      timestamp  meta.success  \n",
       "0  1.420706e+09           1.0  \n",
       "1  1.420719e+09           1.0  \n",
       "2  1.420696e+09           0.0  \n",
       "3  1.420758e+09           0.0  \n",
       "4  1.420691e+09           0.0  "
      ]
     },
     "execution_count": 4,
     "metadata": {},
     "output_type": "execute_result"
    }
   ],
   "source": [
    "train_df.head()"
   ]
  },
  {
   "cell_type": "code",
   "execution_count": 5,
   "metadata": {},
   "outputs": [
    {
     "data": {
      "text/plain": [
       "Index(['Unnamed: 0', 'id', 'title', 'post', 'comment', 'father_comment',\n",
       "       'conversation_id', 'timestamp', 'meta.success'],\n",
       "      dtype='object')"
      ]
     },
     "execution_count": 5,
     "metadata": {},
     "output_type": "execute_result"
    }
   ],
   "source": [
    "train_df.columns"
   ]
  },
  {
   "cell_type": "code",
   "execution_count": 36,
   "metadata": {},
   "outputs": [],
   "source": [
    "import pandas as pd\n",
    "from src import prompts\n",
    "\n",
    "\n",
    "combinations = [\n",
    "    ['title', 'comment'],\n",
    "    ['title', 'post', 'comment'],\n",
    "    ['title', 'post', 'comment', 'father_comment']\n",
    "]\n",
    "\n",
    "def process_data_for_classification(df, features):\n",
    "    \n",
    "    # Drop rows where 'meta.success' is NaN\n",
    "    df = df.dropna(subset=['meta.success'])\n",
    "    \n",
    "    # Helper function to format the text with labels\n",
    "    def format_text(row, features):\n",
    "        formatted_text = prompts.start_task_context_prompt\n",
    "        formatted_text += ' [SEP] '.join([f\"{feature}: {row[feature]}\" for feature in features])\n",
    "        return formatted_text\n",
    "\n",
    "\n",
    "    result_df = pd.DataFrame()\n",
    "    result_df['text'] = df.apply(lambda x: format_text(x, features), axis=1)\n",
    "    result_df['label'] = df['meta.success'].astype(int)\n",
    "\n",
    "    return result_df"
   ]
  },
  {
   "cell_type": "code",
   "execution_count": 27,
   "metadata": {},
   "outputs": [
    {
     "data": {
      "text/html": [
       "<div>\n",
       "<style scoped>\n",
       "    .dataframe tbody tr th:only-of-type {\n",
       "        vertical-align: middle;\n",
       "    }\n",
       "\n",
       "    .dataframe tbody tr th {\n",
       "        vertical-align: top;\n",
       "    }\n",
       "\n",
       "    .dataframe thead th {\n",
       "        text-align: right;\n",
       "    }\n",
       "</style>\n",
       "<table border=\"1\" class=\"dataframe\">\n",
       "  <thead>\n",
       "    <tr style=\"text-align: right;\">\n",
       "      <th></th>\n",
       "      <th>Unnamed: 0</th>\n",
       "      <th>id</th>\n",
       "      <th>title</th>\n",
       "      <th>post</th>\n",
       "      <th>comment</th>\n",
       "      <th>father_comment</th>\n",
       "      <th>conversation_id</th>\n",
       "      <th>timestamp</th>\n",
       "      <th>meta.success</th>\n",
       "    </tr>\n",
       "  </thead>\n",
       "  <tbody>\n",
       "    <tr>\n",
       "      <th>7881</th>\n",
       "      <td>9784</td>\n",
       "      <td>t1_ccqhlkh</td>\n",
       "      <td>I believe the term \"rape survivor\" doesn't mak...</td>\n",
       "      <td>**Disclaimer: I am not trying to offend victim...</td>\n",
       "      <td>Δ</td>\n",
       "      <td>NaN</td>\n",
       "      <td>NaN</td>\n",
       "      <td>NaN</td>\n",
       "      <td>NaN</td>\n",
       "    </tr>\n",
       "    <tr>\n",
       "      <th>7882</th>\n",
       "      <td>I liked that you said victim and survivor both...</td>\n",
       "      <td>147309    I am a male, I was raped once by a t...</td>\n",
       "      <td>t3_1o7aa8</td>\n",
       "      <td>1381624616</td>\n",
       "      <td>1</td>\n",
       "      <td>NaN</td>\n",
       "      <td>NaN</td>\n",
       "      <td>NaN</td>\n",
       "      <td>NaN</td>\n",
       "    </tr>\n",
       "  </tbody>\n",
       "</table>\n",
       "</div>"
      ],
      "text/plain": [
       "                                             Unnamed: 0  \\\n",
       "7881                                               9784   \n",
       "7882  I liked that you said victim and survivor both...   \n",
       "\n",
       "                                                     id  \\\n",
       "7881                                         t1_ccqhlkh   \n",
       "7882  147309    I am a male, I was raped once by a t...   \n",
       "\n",
       "                                                  title  \\\n",
       "7881  I believe the term \"rape survivor\" doesn't mak...   \n",
       "7882                                          t3_1o7aa8   \n",
       "\n",
       "                                                   post comment  \\\n",
       "7881  **Disclaimer: I am not trying to offend victim...       Δ   \n",
       "7882                                         1381624616       1   \n",
       "\n",
       "     father_comment conversation_id  timestamp  meta.success  \n",
       "7881            NaN             NaN        NaN           NaN  \n",
       "7882            NaN             NaN        NaN           NaN  "
      ]
     },
     "execution_count": 27,
     "metadata": {},
     "output_type": "execute_result"
    }
   ],
   "source": [
    "nan_rows = train_df[train_df['meta.success'].isna()]\n",
    "nan_rows"
   ]
  },
  {
   "cell_type": "code",
   "execution_count": 37,
   "metadata": {},
   "outputs": [],
   "source": [
    "processed_train_df = process_data_for_classification(train_df, combinations[0])"
   ]
  },
  {
   "cell_type": "code",
   "execution_count": 39,
   "metadata": {},
   "outputs": [
    {
     "data": {
      "text/html": [
       "<div>\n",
       "<style scoped>\n",
       "    .dataframe tbody tr th:only-of-type {\n",
       "        vertical-align: middle;\n",
       "    }\n",
       "\n",
       "    .dataframe tbody tr th {\n",
       "        vertical-align: top;\n",
       "    }\n",
       "\n",
       "    .dataframe thead th {\n",
       "        text-align: right;\n",
       "    }\n",
       "</style>\n",
       "<table border=\"1\" class=\"dataframe\">\n",
       "  <thead>\n",
       "    <tr style=\"text-align: right;\">\n",
       "      <th></th>\n",
       "      <th>text</th>\n",
       "      <th>label</th>\n",
       "    </tr>\n",
       "  </thead>\n",
       "  <tbody>\n",
       "    <tr>\n",
       "      <th>0</th>\n",
       "      <td>\\nAs the Delta Classifier (DC), your role is...</td>\n",
       "      <td>1</td>\n",
       "    </tr>\n",
       "    <tr>\n",
       "      <th>1</th>\n",
       "      <td>\\nAs the Delta Classifier (DC), your role is...</td>\n",
       "      <td>1</td>\n",
       "    </tr>\n",
       "    <tr>\n",
       "      <th>2</th>\n",
       "      <td>\\nAs the Delta Classifier (DC), your role is...</td>\n",
       "      <td>0</td>\n",
       "    </tr>\n",
       "    <tr>\n",
       "      <th>3</th>\n",
       "      <td>\\nAs the Delta Classifier (DC), your role is...</td>\n",
       "      <td>0</td>\n",
       "    </tr>\n",
       "    <tr>\n",
       "      <th>4</th>\n",
       "      <td>\\nAs the Delta Classifier (DC), your role is...</td>\n",
       "      <td>0</td>\n",
       "    </tr>\n",
       "  </tbody>\n",
       "</table>\n",
       "</div>"
      ],
      "text/plain": [
       "                                                text  label\n",
       "0    \\nAs the Delta Classifier (DC), your role is...      1\n",
       "1    \\nAs the Delta Classifier (DC), your role is...      1\n",
       "2    \\nAs the Delta Classifier (DC), your role is...      0\n",
       "3    \\nAs the Delta Classifier (DC), your role is...      0\n",
       "4    \\nAs the Delta Classifier (DC), your role is...      0"
      ]
     },
     "execution_count": 39,
     "metadata": {},
     "output_type": "execute_result"
    }
   ],
   "source": [
    "processed_train_df.head()"
   ]
  },
  {
   "cell_type": "code",
   "execution_count": 44,
   "metadata": {},
   "outputs": [
    {
     "data": {
      "text/plain": [
       "1526"
      ]
     },
     "execution_count": 44,
     "metadata": {},
     "output_type": "execute_result"
    }
   ],
   "source": []
  },
  {
   "cell_type": "code",
   "execution_count": null,
   "metadata": {},
   "outputs": [],
   "source": []
  }
 ],
 "metadata": {
  "kernelspec": {
   "display_name": "dubby",
   "language": "python",
   "name": "python3"
  },
  "language_info": {
   "codemirror_mode": {
    "name": "ipython",
    "version": 3
   },
   "file_extension": ".py",
   "mimetype": "text/x-python",
   "name": "python",
   "nbconvert_exporter": "python",
   "pygments_lexer": "ipython3",
   "version": "3.12.2"
  }
 },
 "nbformat": 4,
 "nbformat_minor": 2
}
