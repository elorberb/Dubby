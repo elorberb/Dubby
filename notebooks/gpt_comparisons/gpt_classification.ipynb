{
 "cells": [
  {
   "cell_type": "code",
   "execution_count": 1,
   "id": "initial_id",
   "metadata": {
    "ExecuteTime": {
     "end_time": "2024-02-20T14:49:59.794672600Z",
     "start_time": "2024-02-20T14:49:57.961575200Z"
    },
    "collapsed": true
   },
   "outputs": [
    {
     "name": "stderr",
     "output_type": "stream",
     "text": [
      "C:\\Users\\elorberb\\AppData\\Local\\Temp\\ipykernel_13456\\123696342.py:1: DeprecationWarning: \n",
      "Pyarrow will become a required dependency of pandas in the next major release of pandas (pandas 3.0),\n",
      "(to allow more performant data types, such as the Arrow string type, and better interoperability with other libraries)\n",
      "but was not found to be installed on your system.\n",
      "If this would cause problems for you,\n",
      "please provide us feedback at https://github.com/pandas-dev/pandas/issues/54466\n",
      "        \n",
      "  import pandas as pd\n"
     ]
    }
   ],
   "source": [
    "import pandas as pd\n",
    "import numpy as np\n",
    "import matplotlib.pyplot as plt\n",
    "import warnings\n",
    "warnings.filterwarnings(\"ignore\")\n",
    "%matplotlib inline\n",
    "import sys  \n",
    "  \n",
    "# The path you want to add  \n",
    "path_to_add = r'C:\\Users\\elorberb\\PycharmProjects\\BGU projects\\Advanced_NLP\\DeltaPredictor'  \n",
    "  \n",
    "# Add the directory to sys.path  \n",
    "sys.path.insert(0, path_to_add)\n"
   ]
  },
  {
   "cell_type": "code",
   "execution_count": 2,
   "id": "d02aa0bd00c7c13e",
   "metadata": {
    "ExecuteTime": {
     "end_time": "2024-02-20T14:49:59.868940400Z",
     "start_time": "2024-02-20T14:49:59.797842700Z"
    },
    "collapsed": false
   },
   "outputs": [],
   "source": [
    "df = pd.read_csv(\"../data/test.csv\")\n",
    "df.drop('meta.success', axis=1, inplace=True)\n",
    "# Iterate over the DataFrame and print the text of each record  \n",
    "# for index, row in df.head(15).iterrows():  \n",
    "#     print(f\"Record {index}:\\n{row['text']}, \\nlabel: {row['label']}\")  "
   ]
  },
  {
   "cell_type": "code",
   "execution_count": 3,
   "id": "877b2003a5ba04b3",
   "metadata": {
    "ExecuteTime": {
     "end_time": "2024-02-20T14:49:59.882389800Z",
     "start_time": "2024-02-20T14:49:59.860411600Z"
    },
    "collapsed": false
   },
   "outputs": [
    {
     "name": "stdout",
     "output_type": "stream",
     "text": [
      "<class 'pandas.core.frame.DataFrame'>\n",
      "RangeIndex: 1972 entries, 0 to 1971\n",
      "Data columns (total 2 columns):\n",
      " #   Column  Non-Null Count  Dtype \n",
      "---  ------  --------------  ----- \n",
      " 0   text    1972 non-null   object\n",
      " 1   label   1972 non-null   int64 \n",
      "dtypes: int64(1), object(1)\n",
      "memory usage: 30.9+ KB\n"
     ]
    }
   ],
   "source": [
    "df.info()"
   ]
  },
  {
   "cell_type": "code",
   "execution_count": 24,
   "id": "e0a737026f51bc00",
   "metadata": {
    "ExecuteTime": {
     "end_time": "2024-02-20T15:28:16.599005Z",
     "start_time": "2024-02-20T15:28:16.495353600Z"
    },
    "collapsed": false
   },
   "outputs": [],
   "source": [
    "import os  \n",
    "from src import prompts\n",
    "from src.langchain_utils import run_chain  \n",
    "from langchain_openai import AzureChatOpenAI  \n",
    "from langchain.prompts import PromptTemplate  \n",
    "from langchain.chains import LLMChain  \n",
    "from dotenv import load_dotenv  \n",
    "import pandas as pd  \n",
    "from sklearn.metrics import accuracy_score, precision_score, recall_score  \n",
    "from tqdm import tqdm\n",
    "import matplotlib.pyplot as plt  \n",
    "from sklearn.metrics import confusion_matrix, classification_report  \n",
    "from sklearn.metrics import roc_curve, auc  \n",
    "import numpy as np  \n",
    "import itertools\n",
    "from src import comments \n",
    "import re  \n",
    "\n",
    "\n",
    "# Load environment variables  \n",
    "load_dotenv() \n",
    "  \n",
    "  \n",
    "def initialize_model(azure_deployment, template, input_vars):  \n",
    "    llm = AzureChatOpenAI(azure_deployment=azure_deployment)  \n",
    "    prompt_template = PromptTemplate(input_variables=input_vars, template=template)  \n",
    "    chain = LLMChain(llm=llm, prompt=prompt_template)  \n",
    "    return chain\n",
    "\n",
    "\n",
    "def clean_text(text, default=None):  \n",
    "    # Use regular expression to find integers in the text  \n",
    "    matches = re.findall(r'\\d+', text)  \n",
    "    if matches:  \n",
    "        # Return the first integer found  \n",
    "        return int(matches[0])  \n",
    "    else:  \n",
    "        # Return the default value if no integer is found  \n",
    "        return default  \n",
    "  \n",
    "def predict_labels(chain, df, n, input_vars_values):  \n",
    "    df_copy = df.copy()  \n",
    "    df_copy['predicted_label'] = None  \n",
    "  \n",
    "    for i, row in tqdm(df.head(n).iterrows()):  \n",
    "        comment = row['text']  \n",
    "        input_vars_values['comment'] = comment  \n",
    "        resp = chain(input_vars_values)  \n",
    "        try:  \n",
    "            # Clean the response text to extract integer  \n",
    "            pred = clean_text(resp['text'], default=-1)  # Using -1 as the default value  \n",
    "            df_copy.at[i, 'predicted_label'] = pred  \n",
    "        except ValueError as e:  \n",
    "            print(f\"Error converting prediction to int for row {i}: {e}\")  \n",
    "            df_copy.at[i, 'predicted_label'] = None  # or some default value  \n",
    "  \n",
    "    return df_copy \n",
    "  \n",
    "def calculate_metrics(df_copy, n):  \n",
    "    true_labels = df_copy['label'].head(n).tolist()  \n",
    "    predicted_labels = df_copy['predicted_label'].head(n).tolist()  \n",
    "  \n",
    "    accuracy = accuracy_score(true_labels, predicted_labels)  \n",
    "    precision = precision_score(true_labels, predicted_labels, average='weighted', zero_division=0)  \n",
    "    recall = recall_score(true_labels, predicted_labels, average='weighted', zero_division=0)  \n",
    "  \n",
    "    return accuracy, precision, recall  \n",
    "  \n",
    "def print_metrics(accuracy, precision, recall):  \n",
    "    print(f\"Accuracy: {accuracy}\")  \n",
    "    print(f\"Precision: {precision}\")  \n",
    "    print(f\"Recall: {recall}\")  \n",
    "  \n",
    "  \n",
    "def run_evaluation(df, azure_deployment_name, num_records, template_dict, input_vars, input_vars_values, verbose=False):  \n",
    "    \"\"\"\n",
    "    Runs the evaluation for a given dataframe and input variables.\n",
    "    :param df: The dataframe to evaluate.\n",
    "    :param azure_deployment_name: The name of the Azure deployment.\n",
    "    :param template_dict: The template dictionary.\n",
    "    :param input_vars: The input variables.\n",
    "    :param input_vars_values: The input variables values.\n",
    "    :param num_records: The number of records to evaluate.\n",
    "    :param verbose: Whether to print the metrics.\n",
    "    :return: results: The results of the evaluation.\n",
    "    \"\"\"\n",
    "    \n",
    "    results = {'model': azure_deployment_name,\n",
    "               'template_type': template_dict['template_type']}  # Dictionary to store all outputs  \n",
    "  \n",
    "    # Initialize the model with the specified parameters  \n",
    "    chain = initialize_model(azure_deployment_name, template_dict['template_text'], input_vars)  \n",
    "    if verbose:  \n",
    "        print(\"Model initialized.\")  \n",
    "  \n",
    "    # Predict labels for the specified number of records  \n",
    "    df_copy = predict_labels(chain, df, num_records, input_vars_values)  \n",
    "    true_labels = df_copy['label'].head(num_records).tolist()  \n",
    "    predicted_labels = df_copy['predicted_label'].head(num_records).tolist()  \n",
    "    results['true_labels'] = true_labels  \n",
    "    results['predicted_labels'] = predicted_labels  \n",
    "  \n",
    "    if verbose:  \n",
    "        print(\"Predictions made.\")  \n",
    "  \n",
    "    # Calculate the evaluation metrics  \n",
    "    accuracy, precision, recall = calculate_metrics(df_copy, num_records)  \n",
    "    results['metrics'] = {  \n",
    "        'accuracy': accuracy,  \n",
    "        'precision': precision,  \n",
    "        'recall': recall  \n",
    "    }  \n",
    "      \n",
    "    if verbose:  \n",
    "        print_metrics(accuracy, precision, recall)  \n",
    "  \n",
    "    return results   "
   ]
  },
  {
   "cell_type": "code",
   "execution_count": 25,
   "id": "a0afcb9e9c3d0a2f",
   "metadata": {
    "ExecuteTime": {
     "end_time": "2024-02-20T15:28:17.786890400Z",
     "start_time": "2024-02-20T15:28:17.752343200Z"
    },
    "collapsed": false
   },
   "outputs": [],
   "source": [
    "def evaluate_each_results(true_labels, predicted_labels):  \n",
    "    # Assuming your classes are string or integer  \n",
    "    unique_classes = np.unique(true_labels)  \n",
    "    n_classes = len(unique_classes)  \n",
    "  \n",
    "    # Convert unique_classes to an array of strings for plotting  \n",
    "    class_names = unique_classes.astype(str)  \n",
    "  \n",
    "    # Calculate confusion matrix  \n",
    "    conf_matrix = confusion_matrix(true_labels, predicted_labels, labels=unique_classes)  \n",
    "  \n",
    "    # Classification report using the converted class names  \n",
    "    class_report = classification_report(true_labels, predicted_labels, target_names=class_names)  \n",
    "  \n",
    "    # Plot confusion matrix  \n",
    "    plt.figure(figsize=(6, 4))  \n",
    "    plt.imshow(conf_matrix, interpolation='nearest', cmap=plt.cm.Blues)  \n",
    "    plt.title('Confusion Matrix')  \n",
    "    plt.colorbar()  \n",
    "    tick_marks = np.arange(n_classes)  \n",
    "    plt.xticks(tick_marks, class_names, rotation=45)  \n",
    "    plt.yticks(tick_marks, class_names)  \n",
    "  \n",
    "    # Adding numbers to the confusion matrix  \n",
    "    thresh = conf_matrix.max() / 2.  \n",
    "    for i, j in itertools.product(range(conf_matrix.shape[0]), range(conf_matrix.shape[1])):  \n",
    "        plt.text(j, i, conf_matrix[i, j],  \n",
    "                 horizontalalignment=\"center\",  \n",
    "                 color=\"white\" if conf_matrix[i, j] > thresh else \"black\")  \n",
    "  \n",
    "    plt.tight_layout()  \n",
    "    plt.ylabel('True label')  \n",
    "    plt.xlabel('Predicted label')  \n",
    "    plt.show()  \n",
    "  \n",
    "    # Print classification report  \n",
    "    print(class_report)  \n",
    "  \n",
    "    # Binary classification ROC curve  \n",
    "    if n_classes == 2:  \n",
    "        fpr, tpr, thresholds = roc_curve(true_labels, predicted_labels, pos_label=unique_classes[1])  \n",
    "        roc_auc = auc(fpr, tpr)  \n",
    "  \n",
    "        # Plot ROC curve  \n",
    "        plt.figure()  \n",
    "        plt.plot(fpr, tpr, label='ROC curve (area = %0.2f)' % roc_auc)  \n",
    "        plt.plot([0, 1], [0, 1], 'k--')  \n",
    "        plt.xlim([0.0, 1.0])  \n",
    "        plt.ylim([0.0, 1.05])  \n",
    "        plt.xlabel('False Positive Rate')  \n",
    "        plt.ylabel('True Positive Rate')  \n",
    "        plt.title('Receiver Operating Characteristic')  \n",
    "        plt.legend(loc=\"lower right\")  \n",
    "        plt.show()  \n",
    "    else:  \n",
    "        print(\"ROC curve is not plotted for multi-class classification.\") \n"
   ]
  },
  {
   "cell_type": "code",
   "execution_count": 15,
   "id": "a023043d36a9b8bb",
   "metadata": {
    "ExecuteTime": {
     "end_time": "2024-02-20T12:33:23.802123200Z",
     "start_time": "2024-02-20T12:32:21.982411800Z"
    },
    "collapsed": false
   },
   "outputs": [
    {
     "name": "stdout",
     "output_type": "stream",
     "text": [
      "Model initialized.\n"
     ]
    },
    {
     "name": "stderr",
     "output_type": "stream",
     "text": [
      "100it [00:59,  1.68it/s]"
     ]
    },
    {
     "name": "stdout",
     "output_type": "stream",
     "text": [
      "Predictions made.\n",
      "Accuracy: 0.64\n",
      "Precision: 0.6295238095238095\n",
      "Recall: 0.64\n"
     ]
    },
    {
     "name": "stderr",
     "output_type": "stream",
     "text": [
      "\n"
     ]
    }
   ],
   "source": [
    "# Define the deployment name, template, and input variables  \n",
    "azure_deployment_name = 'gpt-4-32k'  # Replace with your specific deployment name  \n",
    "input_vars = [\"comment\", \"start_task_context_prompt\"]  # Replace with the input variables required by your prompt template  \n",
    "  \n",
    "# Assuming 'df' is the DataFrame with the data to evaluate  \n",
    "num_records = 100  # Number of records to evaluate \n",
    "input_vars_values = {\"start_task_context_prompt\": prompts.start_task_context_prompt}\n",
    "template_dict = {'template_type': 'zero_shot', 'template_text': prompts.template_zero_shot_only_comment}\n",
    "# Call the function with the specified parameters  \n",
    "results = run_evaluation(df, azure_deployment_name, \n",
    "                         template_dict, \n",
    "                         input_vars, \n",
    "                         input_vars_values,\n",
    "                         num_records, \n",
    "                         verbose=True)"
   ]
  },
  {
   "cell_type": "code",
   "execution_count": 5,
   "id": "574fdcc26101da65",
   "metadata": {
    "ExecuteTime": {
     "end_time": "2024-02-20T12:54:17.194143400Z",
     "start_time": "2024-02-20T12:53:22.951758400Z"
    },
    "collapsed": false
   },
   "outputs": [
    {
     "name": "stdout",
     "output_type": "stream",
     "text": [
      "Model initialized.\n"
     ]
    },
    {
     "name": "stderr",
     "output_type": "stream",
     "text": [
      "0it [00:00, ?it/s]C:\\Users\\elorberb\\Anaconda3\\envs\\DeltaPredictor\\lib\\site-packages\\langchain_core\\_api\\deprecation.py:117: LangChainDeprecationWarning: The function `__call__` was deprecated in LangChain 0.1.0 and will be removed in 0.2.0. Use invoke instead.\n",
      "  warn_deprecated(\n",
      "100it [00:52,  1.91it/s]"
     ]
    },
    {
     "name": "stdout",
     "output_type": "stream",
     "text": [
      "Predictions made.\n",
      "Accuracy: 0.61\n",
      "Precision: 0.5937087772704212\n",
      "Recall: 0.61\n"
     ]
    },
    {
     "name": "stderr",
     "output_type": "stream",
     "text": [
      "\n"
     ]
    }
   ],
   "source": [
    "\n",
    "num_records = 100\n",
    "azure_deployment_name = 'gpt-4-32k'\n",
    "input_vars = [\"comment\", \"start_task_context_prompt\", \"example_comment_pos\"]  # Replace with the input variables required by your prompt template  \n",
    "  \n",
    "input_vars_values = {\"start_task_context_prompt\": prompts.start_task_context_prompt,\n",
    "                     \"example_comment_pos\": comments.comment_1_pos}\n",
    "template_dict = {'template_type': 'single_shot_pos_example', 'template_text': prompts.template_single_shot_only_pos_comment}\n",
    "# Call the function with the specified parameters  \n",
    "results_single_shot_pos_example = run_evaluation(df, azure_deployment_name, \n",
    "                         template_dict, \n",
    "                         input_vars, \n",
    "                         input_vars_values,\n",
    "                         num_records, \n",
    "                         verbose=True)"
   ]
  },
  {
   "cell_type": "code",
   "execution_count": 16,
   "id": "ad5303539e4fc748",
   "metadata": {
    "ExecuteTime": {
     "end_time": "2024-02-20T12:33:47.618640400Z",
     "start_time": "2024-02-20T12:33:47.564932Z"
    },
    "collapsed": false
   },
   "outputs": [
    {
     "data": {
      "text/plain": [
       "dict_keys(['model', 'template_type', 'true_labels', 'predicted_labels', 'metrics'])"
      ]
     },
     "execution_count": 16,
     "metadata": {},
     "output_type": "execute_result"
    }
   ],
   "source": [
    "results.keys()"
   ]
  },
  {
   "cell_type": "code",
   "execution_count": 20,
   "id": "ace1f20530944062",
   "metadata": {
    "ExecuteTime": {
     "end_time": "2024-02-20T12:34:57.680667100Z",
     "start_time": "2024-02-20T12:34:57.250520Z"
    },
    "collapsed": false
   },
   "outputs": [
    {
     "data": {
      "image/png": "[encoded data removed]",
      "text/plain": [
       "<Figure size 600x400 with 2 Axes>"
      ]
     },
     "metadata": {},
     "output_type": "display_data"
    },
    {
     "name": "stdout",
     "output_type": "stream",
     "text": [
      "              precision    recall  f1-score   support\n",
      "\n",
      "           0       0.57      0.42      0.49        40\n",
      "           1       0.67      0.78      0.72        60\n",
      "\n",
      "    accuracy                           0.64       100\n",
      "   macro avg       0.62      0.60      0.60       100\n",
      "weighted avg       0.63      0.64      0.63       100\n"
     ]
    },
    {
     "data": {
      "image/png": "[encoded data removed]",
      "text/plain": [
       "<Figure size 640x480 with 1 Axes>"
      ]
     },
     "metadata": {},
     "output_type": "display_data"
    }
   ],
   "source": [
    "evaluate_each_results(results['true_labels'], results['predicted_labels'])"
   ]
  },
  {
   "cell_type": "code",
   "execution_count": 14,
   "id": "f7fec6de165ceb43",
   "metadata": {
    "ExecuteTime": {
     "end_time": "2024-02-20T14:59:56.441911Z",
     "start_time": "2024-02-20T14:59:56.398840800Z"
    },
    "collapsed": false
   },
   "outputs": [],
   "source": [
    "# Define the configurations for the experiments  \n",
    "configurations = [  \n",
    "    # Zero-shot  \n",
    "    {  \n",
    "        'template_type': 'zero_shot',  \n",
    "        'template_text': prompts.template_zero_shot_only_comment,  \n",
    "        'input_vars': [\"comment\", \"start_task_context_prompt\"],  \n",
    "        'input_vars_values': {\"start_task_context_prompt\": prompts.start_task_context_prompt}  \n",
    "    },  \n",
    "    # Single-shot positive example  \n",
    "    {  \n",
    "        'template_type': 'single_shot_pos_example',  \n",
    "        'template_text': prompts.template_single_shot_only_pos_comment,  \n",
    "        'input_vars': [\"comment\", \"start_task_context_prompt\", \"example_comment_pos\"],  \n",
    "        'input_vars_values': {\"start_task_context_prompt\": prompts.start_task_context_prompt,\n",
    "                                \"example_comment_pos\": comments.comment_1_pos}\n",
    "    },  \n",
    "    # Single-shot negative example  \n",
    "    {  \n",
    "        'template_type': 'single_shot_neg_example',  \n",
    "        'template_text': prompts.template_single_shot_only_neg_comment,  \n",
    "        'input_vars': [\"comment\", \"start_task_context_prompt\", \"example_comment_neg\"],  \n",
    "             'input_vars_values': {\"start_task_context_prompt\": prompts.start_task_context_prompt,\n",
    "                                \"example_comment_neg\": comments.comment_1_neg}\n",
    "    },  \n",
    "    # Single-shot both examples  \n",
    "    {  \n",
    "        'template_type': 'single_shot_both_examples',  \n",
    "        'template_text': prompts.template_single_shot_only_comment,  \n",
    "        'input_vars': [\"comment\", \"start_task_context_prompt\", \"example_comment_pos\", \"example_comment_neg\"],  \n",
    "        'input_vars_values': {\"start_task_context_prompt\": prompts.start_task_context_prompt,\n",
    "                                \"example_comment_pos\": comments.comment_1_pos,\n",
    "                                \"example_comment_neg\": comments.comment_1_neg}\n",
    "    },  \n",
    "    # Few-shot positive examples  \n",
    "    {  \n",
    "        'template_type': 'few_shot_pos_examples',  \n",
    "        'template_text': prompts.template_few_shot_only_pos_comment,  \n",
    "        'input_vars': [\"comment\", \"start_task_context_prompt\", \"example_comment_1_pos\", \"example_comment_2_pos\", 'example_comment_3_pos'],  \n",
    "        'input_vars_values': {\"start_task_context_prompt\": prompts.start_task_context_prompt,\n",
    "                                \"example_comment_1_pos\": comments.comment_1_pos,\n",
    "                                \"example_comment_2_pos\": comments.comment_2_pos,\n",
    "                                'example_comment_3_pos': comments.comment_3_pos}\n",
    "    },  \n",
    "    # Few-shot negative examples  \n",
    "     {  \n",
    "        'template_type': 'few_shot_neg_examples',  \n",
    "        'template_text': prompts.template_few_shot_only_neg_comment,  \n",
    "        'input_vars': [\"comment\", \"start_task_context_prompt\", \"example_comment_1_neg\", \"example_comment_2_neg\", 'example_comment_3_neg'],  \n",
    "        'input_vars_values': {  \n",
    "            \"start_task_context_prompt\": prompts.start_task_context_prompt,  \n",
    "            \"example_comment_1_neg\": comments.comment_1_neg,  \n",
    "            \"example_comment_2_neg\": comments.comment_2_neg,  \n",
    "            'example_comment_3_neg': comments.comment_3_neg  \n",
    "        }  \n",
    "    },  \n",
    "    # Few-shot both examples  \n",
    "  {  \n",
    "        'template_type': 'few_shot_examples',  \n",
    "        'template_text': prompts.template_few_shot_only_comment,  \n",
    "        'input_vars': [\"comment\", \"start_task_context_prompt\", \"example_comment_1_pos\", \"example_comment_2_pos\", 'example_comment_3_pos',\n",
    "                       \"example_comment_1_neg\", \"example_comment_2_neg\", 'example_comment_3_neg'],  \n",
    "        'input_vars_values': {\n",
    "            \"start_task_context_prompt\": prompts.start_task_context_prompt,\n",
    "            \"example_comment_1_pos\": comments.comment_1_pos,\n",
    "            \"example_comment_2_pos\": comments.comment_2_pos,\n",
    "            'example_comment_3_pos': comments.comment_3_pos,\n",
    "            \"example_comment_1_neg\": comments.comment_1_neg,  \n",
    "            \"example_comment_2_neg\": comments.comment_2_neg,  \n",
    "            'example_comment_3_neg': comments.comment_3_neg\n",
    "        }\n",
    "  }\n",
    "]\n"
   ]
  },
  {
   "cell_type": "code",
   "execution_count": 26,
   "id": "5d1d45fdd8ae88df",
   "metadata": {
    "ExecuteTime": {
     "end_time": "2024-02-20T15:31:12.675198600Z",
     "start_time": "2024-02-20T15:28:23.026599800Z"
    },
    "collapsed": false
   },
   "outputs": [
    {
     "name": "stdout",
     "output_type": "stream",
     "text": [
      "Running configuration: zero_shot\n",
      "Model initialized.\n"
     ]
    },
    {
     "name": "stderr",
     "output_type": "stream",
     "text": [
      "100it [00:23,  4.30it/s]\n"
     ]
    },
    {
     "name": "stdout",
     "output_type": "stream",
     "text": [
      "Predictions made.\n",
      "Accuracy: 0.57\n",
      "Precision: 0.6142207523770152\n",
      "Recall: 0.57\n",
      "Running configuration: single_shot_pos_example\n",
      "Model initialized.\n"
     ]
    },
    {
     "name": "stderr",
     "output_type": "stream",
     "text": [
      "100it [00:21,  4.63it/s]\n"
     ]
    },
    {
     "name": "stdout",
     "output_type": "stream",
     "text": [
      "Predictions made.\n",
      "Accuracy: 0.58\n",
      "Precision: 0.7197368421052631\n",
      "Recall: 0.58\n",
      "Running configuration: single_shot_neg_example\n",
      "Model initialized.\n"
     ]
    },
    {
     "name": "stderr",
     "output_type": "stream",
     "text": [
      "100it [00:22,  4.39it/s]\n"
     ]
    },
    {
     "name": "stdout",
     "output_type": "stream",
     "text": [
      "Predictions made.\n",
      "Accuracy: 0.65\n",
      "Precision: 0.6784423926134083\n",
      "Recall: 0.65\n",
      "Running configuration: single_shot_both_examples\n",
      "Model initialized.\n"
     ]
    },
    {
     "name": "stderr",
     "output_type": "stream",
     "text": [
      "100it [00:21,  4.59it/s]\n"
     ]
    },
    {
     "name": "stdout",
     "output_type": "stream",
     "text": [
      "Predictions made.\n",
      "Accuracy: 0.59\n",
      "Precision: 0.6356345597354278\n",
      "Recall: 0.59\n",
      "Running configuration: few_shot_pos_examples\n",
      "Model initialized.\n"
     ]
    },
    {
     "name": "stderr",
     "output_type": "stream",
     "text": [
      "100it [00:22,  4.51it/s]\n"
     ]
    },
    {
     "name": "stdout",
     "output_type": "stream",
     "text": [
      "Predictions made.\n",
      "Accuracy: 0.57\n",
      "Precision: 0.7139469226425749\n",
      "Recall: 0.57\n",
      "Running configuration: few_shot_neg_examples\n",
      "Model initialized.\n"
     ]
    },
    {
     "name": "stderr",
     "output_type": "stream",
     "text": [
      "100it [00:22,  4.47it/s]\n"
     ]
    },
    {
     "name": "stdout",
     "output_type": "stream",
     "text": [
      "Predictions made.\n",
      "Accuracy: 0.67\n",
      "Precision: 0.6686843211433375\n",
      "Recall: 0.67\n",
      "Running configuration: few_shot_neg_examples\n",
      "Model initialized.\n"
     ]
    },
    {
     "name": "stderr",
     "output_type": "stream",
     "text": [
      "100it [00:22,  4.36it/s]"
     ]
    },
    {
     "name": "stdout",
     "output_type": "stream",
     "text": [
      "Predictions made.\n",
      "Accuracy: 0.61\n",
      "Precision: 0.6734448734448734\n",
      "Recall: 0.61\n",
      "All evaluations are complete and results are saved to gpt-35-turbo_evaluation_results.json.\n"
     ]
    },
    {
     "name": "stderr",
     "output_type": "stream",
     "text": [
      "\n"
     ]
    }
   ],
   "source": [
    "import json\n",
    "# Assuming 'df' is the DataFrame with the data to evaluate  \n",
    "num_records = 100  # Number of records to evaluate  \n",
    "azure_deployment_name = 'gpt-35-turbo'  # Replace with your specific deployment name  \n",
    "  \n",
    "# Dictionary to store the results of all runs  \n",
    "all_results = []  \n",
    "  \n",
    "# Iterate over all configurations and run the evaluation  \n",
    "for config in configurations:  \n",
    "    print(f\"Running configuration: {config['template_type']}\") \n",
    "    template_dict = {'template_type': config['template_type'], 'template_text': config['template_text']}\n",
    "    result = run_evaluation(df, azure_deployment_name,\n",
    "                            num_records,   \n",
    "                            template_dict,   \n",
    "                            config['input_vars'],   \n",
    "                            config['input_vars_values'],  \n",
    "                            verbose=True)  \n",
    "    all_results.append(result)  \n",
    "  \n",
    "# Convert results to JSON and save to a file  \n",
    "results_json = json.dumps(all_results, indent=4)\n",
    "result_file_name = f'{azure_deployment_name}_evaluation_results.json'  \n",
    "with open(result_file_name, 'w') as outfile:  \n",
    "    outfile.write(results_json)  \n",
    "  \n",
    "print(f\"All evaluations are complete and results are saved to {result_file_name}.\")"
   ]
  },
  {
   "cell_type": "code",
   "execution_count": 18,
   "id": "8b11cb97482270ca",
   "metadata": {
    "ExecuteTime": {
     "end_time": "2024-02-20T15:12:33.138988600Z",
     "start_time": "2024-02-20T15:12:33.110673Z"
    },
    "collapsed": false
   },
   "outputs": [
    {
     "name": "stdout",
     "output_type": "stream",
     "text": [
      "7\n"
     ]
    }
   ],
   "source": [
    "print(len(all_results))"
   ]
  }
 ],
 "metadata": {
  "kernelspec": {
   "display_name": "Python (dubby)",
   "language": "python",
   "name": "deltapredictor"
  },
  "language_info": {
   "codemirror_mode": {
    "name": "ipython",
    "version": 2
   },
   "file_extension": ".py",
   "mimetype": "text/x-python",
   "name": "python",
   "nbconvert_exporter": "python",
   "pygments_lexer": "ipython2",
   "version": "2.7.6"
  }
 },
 "nbformat": 4,
 "nbformat_minor": 5
}
