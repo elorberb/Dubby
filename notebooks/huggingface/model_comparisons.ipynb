{
 "cells": [
  {
   "cell_type": "code",
   "execution_count": 2,
   "metadata": {},
   "outputs": [],
   "source": [
    "import numpy as np\n",
    "import matplotlib.pyplot as plt\n",
    "import sys\n",
    "import pandas as pd\n",
    "  \n",
    "# adding the root to the path\n",
    "path_to_add = r'/home/etaylor/code_projects/dubby'  \n",
    "  \n",
    "# Add the directory to sys.path\n",
    "\n",
    "sys.path.insert(0, path_to_add)"
   ]
  },
  {
   "cell_type": "code",
   "execution_count": 4,
   "metadata": {},
   "outputs": [],
   "source": [
    "model_names = [\n",
    "    'FacebookAI/roberta-base',\n",
    "    'google-t5/t5-small',\n",
    "    'google/gemma-2b',\n",
    "    'openai-community/openai-gpt',\n",
    "    'textattack/albert-base-v2-imdb',\n",
    "    'mistralai/Mistral-7B-v0.1',\n",
    "    'Rocketknight1/falcon-rw-1b',\n",
    "]\n",
    "\n",
    "# Define dataset paths\n",
    "train_dataset_path = '../../data/train.csv'\n",
    "test_dataset_path = '../../data/test.csv'\n",
    "\n",
    "# Output directory for the models and results\n",
    "output_dir_base = '../../results/classification'"
   ]
  },
  {
   "cell_type": "code",
   "execution_count": null,
   "metadata": {},
   "outputs": [],
   "source": [
    "from src.hg_classification_pipe import train_and_evaluate\n",
    "\n",
    "for model_name in model_names:\n",
    "    # Define model configurations\n",
    "    config = {\n",
    "        'model_name': model_name,\n",
    "        'output_dir': f'{output_dir_base}/bert',\n",
    "        'learning_rate': 2e-5,\n",
    "        'per_device_train_batch_size': 8,\n",
    "        'per_device_eval_batch_size': 8,\n",
    "        'num_train_epochs': 3,\n",
    "        'weight_decay': 0.01,\n",
    "    }\n",
    "    train_and_evaluate(\n",
    "        model_name,\n",
    "        train_dataset_path,\n",
    "        test_dataset_path,\n",
    "        output_dir_base\n",
    "    )"
   ]
  }
 ],
 "metadata": {
  "kernelspec": {
   "display_name": "dubby",
   "language": "python",
   "name": "python3"
  },
  "language_info": {
   "codemirror_mode": {
    "name": "ipython",
    "version": 3
   },
   "file_extension": ".py",
   "mimetype": "text/x-python",
   "name": "python",
   "nbconvert_exporter": "python",
   "pygments_lexer": "ipython3",
   "version": "3.12.2"
  }
 },
 "nbformat": 4,
 "nbformat_minor": 2
}
