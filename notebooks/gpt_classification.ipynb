{
 "cells": [
  {
   "cell_type": "code",
   "execution_count": 1,
   "id": "initial_id",
   "metadata": {
    "collapsed": true,
    "ExecuteTime": {
     "end_time": "2024-02-19T16:45:33.243302900Z",
     "start_time": "2024-02-19T16:45:30.797057Z"
    }
   },
   "outputs": [
    {
     "name": "stderr",
     "output_type": "stream",
     "text": [
      "C:\\Users\\elorberb\\AppData\\Local\\Temp\\ipykernel_14784\\123696342.py:1: DeprecationWarning: \n",
      "Pyarrow will become a required dependency of pandas in the next major release of pandas (pandas 3.0),\n",
      "(to allow more performant data types, such as the Arrow string type, and better interoperability with other libraries)\n",
      "but was not found to be installed on your system.\n",
      "If this would cause problems for you,\n",
      "please provide us feedback at https://github.com/pandas-dev/pandas/issues/54466\n",
      "        \n",
      "  import pandas as pd\n"
     ]
    }
   ],
   "source": [
    "import pandas as pd\n",
    "import numpy as np\n",
    "import matplotlib.pyplot as plt\n",
    "import warnings\n",
    "warnings.filterwarnings(\"ignore\")\n",
    "%matplotlib inline\n",
    "import sys  \n",
    "  \n",
    "# The path you want to add  \n",
    "path_to_add = r'C:\\Users\\elorberb\\PycharmProjects\\BGU projects\\Advanced_NLP\\DeltaPredictor'  \n",
    "  \n",
    "# Add the directory to sys.path  \n",
    "sys.path.insert(0, path_to_add)\n"
   ]
  },
  {
   "cell_type": "code",
   "execution_count": 42,
   "outputs": [
    {
     "name": "stdout",
     "output_type": "stream",
     "text": [
      "Record 0:\n",
      "Would it have been more difficult for them to stand in line, though?  I think the best solution for them would have been to call ahead, explain, and ask if they could reserve two seats, perhaps by paying a premium, or maybe hire someone to wait in line for them?  Just spit-balling.  \n",
      "\n",
      "You're correct that it's only 25% obesity, and I agree that there's some level of personal responsibility.  But especially if we start to talk about health-care costs, it's indefensible to say that the government has the right to massively subsidize corn, and then go ahead and over-tax the people whom that subsidy is directly harming., \n",
      "label: 1\n",
      "Record 1:\n",
      "That's true, it's important for people to learn how real life differs from what they can read in textbooks, and the only way to do that would be through reproducing those experiments. I see they would not have a full grasp of what they would be learning. ∆, \n",
      "label: 1\n",
      "Record 2:\n",
      "Thanks or your post, an I get where you're coming from. However I disagree the emotional impact of the game being weakened on a \"perfect\" run simply because it's perfect. If anything, for me, it's a far better feeling and emotional payoff coming from something like a sole survivor Shepard who vowed never to lose another man and seeing that through to the end. I know that's a specific RP instance, so heres a cold hard fact: if a character dies early you will totally miss out on any content involving them in the future, meaning that *you just get less content*., \n",
      "label: 0\n",
      "Record 3:\n",
      "I personally think heels, jewelry, nails, and waxing are a problem with society. I think both men and women are to blame for it.\n",
      "\n",
      "I'm an INTJ, so maybe my perspective just isn't in line with the popular opinion, but if it's so much work to keep up, perhaps women need to just stop, and men need to stop demanding it.\n",
      "\n",
      "At one time being overweight was in (dark ages), at one time tiedye was the thing to wear, at one time talking about one's mother was a guaranteed fistfight. All those things changed, perhaps it's time for society to shift into something that's more about comfort, less about timesinks like makeup.\n",
      "\n",
      "\n",
      "I give you points for the point about eye shadow and lipstick, but that still doesn't address the fact that you're changing something about yourself to impress others or make yourself feel better about yourself, which is what I'm calling out as a self-esteem issue.\n",
      "\n",
      "Edit: I extended the olive branch to her immediately, I never intended for it to be a heated discussion (nor was it in my opinion). She accused me of judging and demonizing her for every time we had hung out in the past because she was wearing makeup (I honestly had never noticed her wearing any...) and won't respond to text/email/facebook/anything.\n",
      "\n",
      "If today she decided to resume being friends I wouldn't even desire an apology, but for whatever reason I don't see it happening., \n",
      "label: 1\n",
      "Record 4:\n",
      "If he was fighting crimes for ego's sake wouldn't it make more sense for him to  not have a secret identity?\n",
      "\n",
      "Anyway, the ultimate in egotism would be to kill someone that you feel wronged you for your own selfish reasons, acting as judge, jury, and executioner for someone when the only person to appoint you to that position is yourself.\n",
      "\n",
      "Certainly it would be more pragmatic to kill someone who might reoffend, but there's a reason that super heroes don't do it just as there's a reason why we don't have have every criminal sentenced to the death penalty IRL., \n",
      "label: 0\n",
      "Record 5:\n",
      "all the comments in this thread helped, but i seemed to think about this comment chain the most\n",
      "\n",
      "&amp;#8710;, \n",
      "label: 1\n",
      "Record 6:\n",
      "&gt; The constitution is certainly flawed, but allowing amendments to be passed more easily would by no means fix it. The biggest barrier to improving our system is the social view of it as an immutable, timeless document (not at all what the Founding Fathers intended it to be).\n",
      "\n",
      "∆, \n",
      "label: 1\n",
      "Record 7:\n",
      "Speaking from a person who has bipolar II, the reality is that antidepressants do work as \"reality goggles\", but that this is not a bad thing.  Generally, they allow you to function better and experience a reality that is closer to other humans.  It's not as if they make you a perpetually peppy person, but rather they even out the effects of your legitimate psychological affliction (And please don't let anyone tell you that depression is illegitimate).\n",
      "\n",
      "Your life doesn't ever depend on the pills.  Many people go on and off depending on the state of their psyche.  Some leave depressants behind forever.  But, when depression is crippling you, your life can be enhanced by them.  Furthermore, you will be continuously visiting with a psychiatrist who can help you to warn you about addiction and monitor your health.\n",
      "\n",
      "Depression is a part of reality, but so is Cancer, AIDS, and Syphilis.  No one reasonable would suggest that you should not take pills to deal with those illnesses, and no one should suggest that you should not take pills to deal with yours.  It is ultimately up to you, but I would strongly consider at least attempting to use them before you give them up.\n",
      "\n",
      "I wish you the best in dealing with your depression.  Godspeed.\n",
      "\n",
      "Edit: changed a few words to be more accurate., \n",
      "label: 1\n",
      "Record 8:\n",
      "&gt; Democracy is a shared acknowledgement that we are all in the same boat together and we should, together, determine the path it takes.\n",
      "\n",
      "&amp;#8710; I agree with this sentiment and has changed my view, but I think it would still be nice to find a way to encourage civic engagement. Thank you for all of the responses., \n",
      "label: 1\n",
      "Record 9:\n",
      "I would argue that unless everyone is moving at a relatively uniform speed, you're going to be encouraging traffic accidents. Regardless of what you, personally, consider to be reckless, there are going to be people who consider whatever speed you think is appropriate to be painfully slow, and people who consider it to be recklessly fast. \n",
      "\n",
      "Speed limits aren't arbitrary, mostly. They take into account traffic volume, road shape, the possibility of people merging... Even though it sometimes doesn't seem like it, the roads are a complex system that must be managed as such; letting everyone do what they want is only inviting accidents., \n",
      "label: 0\n",
      "Record 10:\n",
      "Here goes a delta for the second part, but for the first one; if they do intend killing, why is it usually said as an \"accident\" on news?\n",
      "&amp;#8710;, \n",
      "label: 1\n",
      "Record 11:\n",
      "△. I've been considering all of the arguments made in response to my claim, and while I do still feel that I could physically outmatch and presumably clean and prepare a single (turkey-sized) velociraptor for a meal with my bare hands and brute strength, yours is the only response I cannot counter. I would be unable to best a velociraptor in single combat due only to there being no velociraptors., \n",
      "label: 1\n",
      "Record 12:\n",
      "It seems as though every qualm you have sited about the sport of basketball stems from the pace of the game. Every single possession in basketball must end with a missed basket, a turnover, or points all within a 24 second period; because of this fast-paced aspect of the game, the opportunities to score are greatly increased especially when taking into consideration the size of the playing field is 94' x 50', which, needless to say, doesn't even come close to the football field, baseball field, or soccer pitch. Hence, there is an urgency to score points as the window in which to score is greatly reduced per possession and the offensive team is essentially immediately placed in front of the spot where points are scored. Imagine if every football possession started on the 20-yard line of the defensive team and the offense had 1 minute to score.\n",
      "\n",
      "So, you are right, there are lots of points scored, but that is the nature of the game. If there was no shot clock and no urgency to shoot and score points it is almost guaranteed that the scores would be a lot lower. However, because of the high rate of scoring, basketball becomes more about a game of momentum. When teams string together successful possessions with 8-0 runs two aspects of the game are affected simultaneously and noticeably. From one team’s perspective, they are not making shots due to poor offense with turnovers and/or missed shots while playing poor defense and not stopping the other team. Other sports don’t necessarily have this level of perceptible momentum that readily is observed through the scoreboard. Football does have these swings in momentum, but it often takes a considerable amount of time to produce results on the scoreboard as the field is so large and scoring comes at a much slower clip as each PLAY is within 35 seconds whereas each SCORE in basketball is within 24 seconds.\n",
      "\n",
      "Many games are decided within 2 or 3 points; 2 or 3 baskets. But I hardly think that is any reason to disregard the rest of the points scored. When a score is tied 90-90 with 2 minutes left it has to be thought of as this: Each team has been able to respond to each others offensive and defensive plays and stops. In relation to baseball, every out recorded was met by the other team, and every run was met with one of one’s own. But if a game is tied 2-2 in the 8th should we erase everything that happened in innings 1-7? Your argument of the value of each score is completely valid; however, a basketball team with the ball with 10 seconds left in a tie game has just as every respective opportunity to win as a baseball team tied with its opponent with 3 outs in the bottom of the ninth. The difference undoubtedly is in the probability of scoring and thus winning, but this probability is simply, once again, a determinant of the pace and rate of scoring. The chances a basketball team scores a basket to win a game in the last 10 seconds is greater than a baseball team scoring a run in the last half of an inning. This is simply the nature of each game. Because of this, I would argue that there is more excitement in that last ten seconds of basketball than in the last half inning of baseball as I know there is a greater chance of scoring and end of the game. This probability of scoring carries over to the rest of basketball when a team is down by 10 points or more. I know there is a decent chance that the team down by 10 points will catch some form of momentum that will bring things back to even.\n",
      "\n",
      "Your sentiments that the game is too back-and-forth is part of what makes it worth watching even when a team is down by many points. Big leads in soccer, football, hockey, and baseball have varying but significantly lesser chances of once again becoming even. The uncertainty in basketball of holding a lead—especially in the playoffs when there are proven teams capable of ending the opposing team’s lead—makes the idea of a big lead less impenetrable.\n",
      "\n",
      "Your ego argument feels personally seeded. I don’t entirely know how to respond to that because a player playing for his ego often ends in a loss as a player can rarely take every shot and expect to win. Carmelo Anthony shoots a lot and scores a lot and is widely considered an \"all star,\" but his playoff record against the best teams in the league is dreadful. Rudy Gay shot 11-37 at one point this season, he subsequently was traded. Selfish play is prevalent in many sports. Just look at Dez Bryant in today’s NFL. The difference in the NBA is the impact a single player has on the game. Basketball has 10 players total on the floor at once where each one plays both defense and offense. If a player decided to take a bunch of plays off, he/she is going to get beat and the team will suffer. A left fielder in baseball may never touch the ball in live play. Successful, winning basketball has every player involved in every play save specific situations. So, when a player hogs the ball and plays only offense (which tends to be the case with ego, cause, who expresses their ego through defense??) their team will certainly suffer. Even when players do score lots of points off of lots of shots and has a good shooting percentage there is still a decent chance of losing. Just look at Kevin Love’s recent 45 point effort in a loss, or Kyrie Irving’s 40 point effort last night in a loss. This is not to say that these players have egos, as I do not think they do, but those types of efforts, which many egocentric players produce night after night, do not always end in wins. If you are saying that this ego-based style of play is what makes that game bad, you have probably been following the wrong teams. The Knicks are what I consider to be the worst team in the league currently in terms of ego. They also happen to be 9-19. Bottom line is that basketball naturally gravitates towards egos since one single player can so readily affect the game. In addition, the ego is easy to see as it is constantly on the floor and is constantly present in every play, which directly relates back to the pace of the game. With that, I would suggest watching better-rounded teams that play collectively on a high level. The Spurs and the Trailblazers are two teams that currently represent excellent team play.\n",
      "\n",
      "Fouls are a necessary evil that keep the scores at what they are. I disagree with your opinion that less fouls would lead to a better game; I assume that the source of your opinion on fouls comes from the assumption that less fouls will equal less points as it is harder to score which will make points more valuable which will make the sport more watchable as possessions mean more and the quality of shot attempts mean more. Hard fouls on shot attempts would lead to some really ridiculous situations. Getting a 24.2cm ball through a 45.72cm ring becomes increasingly difficult the further from the hoop you get. Inhibiting one’s ability to make a shot through physical grabbing and holding as a legal part of the game would be a little like kicking or holding a player’s leg as he tries to kick a soccer ball into a net. There is much variety in how a person can be fouled on a shot and because of this there needs to be a relatively simple way of policing it because as it is with most sports, the speed of the game makes it difficult for refs to get everything right at game speed. If you were referring to “touch” fouls and little stuff not involved with shots, I would say those fouls are more involved with more easily allowing players to get open and take shots and actually score points. It would be hard to catch a football if someone was holding one or both arms. \n",
      "\n",
      "In all, basketball is a fast sport. The possessions are high because the rules make it that way. The scores are high because of the size of the playing field and the way in which the game places the offenders easily, directly, and quickly within reach of the hoop. The sport attracts egos because one player can have such a big impact where one can quickly be labeled a “star”, but that doesn’t always translate to wins. I would simply recommend not watching certain “stars” that do not encapsulate both defensive and offensive aspects in attempts to win. Fouls are necessary in keeping such a break neck pace in check while not making it highly improbable to score. Basketball is a fast game. The pace dictates everything from the scores to the fouls to the importance of every player in playing on both sides of the ball.\n",
      "\n",
      "I do not agree that it is poorly designed; it just seems to be too fast for your liking. I find the scoring and speed to make the game very exciting as close games in the last 2 minutes can truly be anyone’s game.\n",
      "\n",
      "EDIT: Carmelo's playoff W-L is bad. http://content.usatoday.com/communities/gameon/post/2012/05/carmelo-anthonys-playoff-record-is-nbas-worst-in-20-years/1#.Ur4i9GQU2dM \n",
      ", \n",
      "label: 1\n",
      "Record 13:\n",
      "If you haven't been to any parties how do you know thats what people are like? The Internet? Did you just make it up? There are a fair few cunts at any party, but only in very very rare cases is it just a cunt party. ^^not ^^like ^^that\n",
      "\n",
      "The vast majority of people (in my experience) were people who **do** work and **do** have jobs etc. just blowing off some steam. I also knew a fair few people who held, what seems to be, your opinion of \"oh no, all they do is drink neat alcohol and headbutt the wall screaming YOLO at the top of their voices, and thats not for me\" Which is just plain bollocks, and they didn't really fit in great at Uni (or College) because they were shit at talking to strangers. \n",
      "\n",
      "My advice, if you care, is to go to the most questionable party you can find. Meet some people, smoke a joint (it won't kill you) and try your hardest to get your dick wet, all while seeing how much you can drink before you physically can't drink anymore (on a weekend or during the holidays preferably) and if you survive your one step closer to becoming everything you have ever wanted. \n",
      "\n",
      "**OR** (this is a stroke of genius btw) think of it as training your social skills: if you can get off with some random girl you just met, or one of the 'cool kids' says something along the lines of \"your alright actually mate\" you get an A+ and should reward yourself appropriately (with another party perhaps?), \n",
      "label: 1\n",
      "Record 14:\n",
      "Let me address this by pointing one thing out: numbers don't lie. With absolutely anything, there will always be things that people that aren't a fan of. Make major changes and instead of Person A hating the series and Person B loving it, now Person A loves it and Person B hates it. You're entirely in your right to feel that CoD is overrated, and personally it seems futile to change this view. You like what you like. I can only provide objective points to maybe calibrate your perspective.\n",
      "\n",
      "So back to numbers don't lie. Consider the goal the creators of CoD have. To make money. And they consistently perform this goal well year after year. Now, you're an executive of Activision-Blizzard. Why would you tell the developers to do a complete 180 on the series, \"for change's sake.\"? You only run risk and very little reward. If you stick to the tried and true model they've had, you're very nearly guaranteed to make a certain amount of sales. I'm sure they can graph the sales of each subsequent game and make predictions to the gradual decline with each passing year as more and more individuals grow bored of the CoD formula. \n",
      "\n",
      "Really, your view of \"overrated and overhyped\" is nothing more than an idiosyncratic reflection of your own *personal* threshold for formulaic video games. But this view is separate from the objective success of the series. If they keep selling games, it means people still enjoy the series for what it is. The idiom, \"Don't fix what isn't broken\" comes to mind. There are more people who still like the series and will buy new iterations without much change compared to the minority who do find it cliche, hackneyed, etc. I mean, be realistic here, if they promised the most radically new CoD next year, would you buy it? Probably not. You have a bias against the series. Why would their target audience be the people who *don't* like CoD? It makes no sense.\n",
      "\n",
      "The other major point is that video game development is extremely expensive. Making an entirely new engine is costly, takes years to develop, and you never have a guarantee of financial success upon release. It makes more sense to stick with the old engine and old code, which drastically reduces the time (and therefore cost) it takes to make a new game. Brand new engine CoDs likely wouldn't make sufficiently more money to offset their cost to make it. They aren't a charity, so gamers aren't entitled to it. , \n",
      "label: 1\n"
     ]
    }
   ],
   "source": [
    "df = pd.read_csv(\"../data/test.csv\")\n",
    "df.drop('meta.success', axis=1, inplace=True)\n",
    "# Iterate over the DataFrame and print the text of each record  \n",
    "for index, row in df.head(15).iterrows():  \n",
    "    print(f\"Record {index}:\\n{row['text']}, \\nlabel: {row['label']}\")  "
   ],
   "metadata": {
    "collapsed": false,
    "ExecuteTime": {
     "end_time": "2024-02-19T17:34:53.679412300Z",
     "start_time": "2024-02-19T17:34:53.617109600Z"
    }
   },
   "id": "d02aa0bd00c7c13e"
  },
  {
   "cell_type": "code",
   "execution_count": 3,
   "outputs": [
    {
     "name": "stdout",
     "output_type": "stream",
     "text": [
      "<class 'pandas.core.frame.DataFrame'>\n",
      "RangeIndex: 1972 entries, 0 to 1971\n",
      "Data columns (total 2 columns):\n",
      " #   Column  Non-Null Count  Dtype \n",
      "---  ------  --------------  ----- \n",
      " 0   text    1972 non-null   object\n",
      " 1   label   1972 non-null   int64 \n",
      "dtypes: int64(1), object(1)\n",
      "memory usage: 30.9+ KB\n"
     ]
    }
   ],
   "source": [
    "df.info()"
   ],
   "metadata": {
    "collapsed": false,
    "ExecuteTime": {
     "end_time": "2024-02-19T16:45:33.417047400Z",
     "start_time": "2024-02-19T16:45:33.346448700Z"
    }
   },
   "id": "877b2003a5ba04b3"
  },
  {
   "cell_type": "code",
   "execution_count": 33,
   "outputs": [],
   "source": [
    "from src.prompts import template_zero_shot_only_comment\n",
    "from src.langchain_utils import run_chain\n",
    "from langchain_openai import AzureChatOpenAI\n",
    "from langchain.prompts import PromptTemplate\n",
    "from langchain.chains import LLMChain\n",
    "from dotenv import load_dotenv\n",
    "load_dotenv()\n",
    "deployments = []\n",
    "zero_shot_template = template_zero_shot_only_comment()\n",
    "comment = \"Would it have been more difficult for them to stand in line, though?  I think the best solution for them would have been to call ahead, explain, and ask if they could reserve two seats, perhaps by...\"\n",
    "llm = AzureChatOpenAI(azure_deployment='gpt-4-32k')\n",
    "\n",
    "prompt = PromptTemplate(input_variables=[\"comment\"], template=zero_shot_template)\n",
    "chain = LLMChain(llm=llm, prompt=rules_prompt)\n",
    "\n",
    "resp = chain.run(comment)"
   ],
   "metadata": {
    "collapsed": false,
    "ExecuteTime": {
     "end_time": "2024-02-19T17:13:59.683422400Z",
     "start_time": "2024-02-19T17:13:56.493536Z"
    }
   },
   "id": "178c18f94356fd6d"
  },
  {
   "cell_type": "code",
   "execution_count": 34,
   "outputs": [
    {
     "data": {
      "text/plain": "0"
     },
     "execution_count": 34,
     "metadata": {},
     "output_type": "execute_result"
    }
   ],
   "source": [
    "int(resp)"
   ],
   "metadata": {
    "collapsed": false,
    "ExecuteTime": {
     "end_time": "2024-02-19T17:13:59.728610900Z",
     "start_time": "2024-02-19T17:13:59.690767300Z"
    }
   },
   "id": "844116b1be3025c4"
  },
  {
   "cell_type": "code",
   "execution_count": null,
   "outputs": [],
   "source": [],
   "metadata": {
    "collapsed": false
   },
   "id": "e3cc29549eeda9d7"
  }
 ],
 "metadata": {
  "kernelspec": {
   "name": "deltapredictor",
   "language": "python",
   "display_name": "Python (dubby)"
  },
  "language_info": {
   "codemirror_mode": {
    "name": "ipython",
    "version": 2
   },
   "file_extension": ".py",
   "mimetype": "text/x-python",
   "name": "python",
   "nbconvert_exporter": "python",
   "pygments_lexer": "ipython2",
   "version": "2.7.6"
  }
 },
 "nbformat": 4,
 "nbformat_minor": 5
}
