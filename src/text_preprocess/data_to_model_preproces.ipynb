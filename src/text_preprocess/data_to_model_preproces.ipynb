{
 "cells": [
  {
   "cell_type": "code",
   "execution_count": 6,
   "metadata": {},
   "outputs": [],
   "source": [
    "import argparse\n",
    "import logging\n",
    "from datasets import load_dataset, DatasetDict\n",
    "from transformers import AutoTokenizer, AutoModelForSequenceClassification, TrainingArguments, Trainer\n",
    "from sklearn.metrics import accuracy_score, precision_recall_fscore_support\n",
    "import numpy as np\n",
    "import torch\n",
    "import sys\n",
    "# The path you want to add  \n",
    "path_to_add = r'/home/etaylor/code_projects/dubby'  \n",
    "# Add the directory to sys.path  \n",
    "sys.path.insert(0, path_to_add)\n",
    "# Configure logging\n",
    "logging.basicConfig(level=logging.INFO, format='%(asctime)s - %(levelname)s - %(message)s')\n",
    "logger = logging.getLogger(__name__)\n",
    "import pandas as pd\n",
    "from pprint import pprint"
   ]
  },
  {
   "cell_type": "code",
   "execution_count": 19,
   "metadata": {},
   "outputs": [],
   "source": [
    "train_dataset_path = \"/home/etaylor/code_projects/dubby/data/updated_data/train_title_comment_balanced.csv\"\n",
    "test_dataset_path = \"/home/etaylor/code_projects/dubby/data/updated_data/test_title_comment_balanced.csv\"\n",
    "train_df = pd.read_csv(train_dataset_path)\n",
    "test_df = pd.read_csv(test_dataset_path)"
   ]
  },
  {
   "cell_type": "code",
   "execution_count": 20,
   "metadata": {},
   "outputs": [
    {
     "name": "stdout",
     "output_type": "stream",
     "text": [
      "('title: CMV: Engagement rings and weddings are unnecessary wastes of money '\n",
      " '[SEP] comment: &amp;#8710;')\n"
     ]
    }
   ],
   "source": [
    "pprint(train_df['text'][0])"
   ]
  },
  {
   "cell_type": "code",
   "execution_count": 17,
   "metadata": {},
   "outputs": [
    {
     "name": "stderr",
     "output_type": "stream",
     "text": [
      "Token indices sequence length is longer than the specified maximum sequence length for this model (629 > 512). Running this sequence through the model will result in indexing errors\n"
     ]
    },
    {
     "name": "stdout",
     "output_type": "stream",
     "text": [
      "629\n"
     ]
    }
   ],
   "source": [
    "model_name = \"distilbert-base-uncased\"\n",
    "tokenizer = AutoTokenizer.from_pretrained(model_name)\n",
    "sample_text = \"title: Sample Title [SEP] post: Sample Post [SEP] comment: Sample Comment [SEP] father comment: Sample Father Comment\"\n",
    "tokens = tokenizer.tokenize(train_df['text'][2])\n",
    "\n",
    "# Inspect the first few tokens to ensure correct tokenization\n",
    "print(len(tokens))"
   ]
  },
  {
   "cell_type": "code",
   "execution_count": 21,
   "metadata": {},
   "outputs": [
    {
     "name": "stderr",
     "output_type": "stream",
     "text": [
      "Token indices sequence length is longer than the specified maximum sequence length for this model (514 > 512). Running this sequence through the model will result in indexing errors\n"
     ]
    },
    {
     "name": "stdout",
     "output_type": "stream",
     "text": [
      "Average token length: 253.4333729417756\n",
      "Standard deviation of token lengths: 241.28477045049084\n"
     ]
    }
   ],
   "source": [
    "from transformers import AutoTokenizer\n",
    "import numpy as np\n",
    "\n",
    "# Assuming train_df is your training DataFrame and it has been loaded correctly\n",
    "\n",
    "# Initialize the tokenizer\n",
    "model_name = \"distilbert-base-uncased\"\n",
    "tokenizer = AutoTokenizer.from_pretrained(model_name)\n",
    "\n",
    "# Tokenize all texts and calculate lengths\n",
    "token_lengths = []\n",
    "for text in train_df['text']:\n",
    "    tokens = tokenizer.tokenize(text)\n",
    "    token_lengths.append(len(tokens))\n",
    "\n",
    "# Calculate average and standard deviation of token lengths\n",
    "average_length = np.mean(token_lengths)\n",
    "std_dev_length = np.std(token_lengths)\n",
    "\n",
    "print(f\"Average token length: {average_length}\")\n",
    "print(f\"Standard deviation of token lengths: {std_dev_length}\")\n"
   ]
  },
  {
   "cell_type": "code",
   "execution_count": null,
   "metadata": {},
   "outputs": [],
   "source": []
  }
 ],
 "metadata": {
  "kernelspec": {
   "display_name": "dubby",
   "language": "python",
   "name": "python3"
  },
  "language_info": {
   "codemirror_mode": {
    "name": "ipython",
    "version": 3
   },
   "file_extension": ".py",
   "mimetype": "text/x-python",
   "name": "python",
   "nbconvert_exporter": "python",
   "pygments_lexer": "ipython3",
   "version": "3.12.2"
  }
 },
 "nbformat": 4,
 "nbformat_minor": 2
}
