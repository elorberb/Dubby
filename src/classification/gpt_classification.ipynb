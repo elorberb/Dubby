{
 "cells": [
  {
   "cell_type": "code",
   "execution_count": 1,
   "id": "initial_id",
   "metadata": {
    "ExecuteTime": {
     "end_time": "2024-02-20T14:49:59.794672600Z",
     "start_time": "2024-02-20T14:49:57.961575200Z"
    },
    "collapsed": true
   },
   "outputs": [
    {
     "name": "stderr",
     "output_type": "stream",
     "text": [
      "C:\\Users\\elorberb\\AppData\\Local\\Temp\\ipykernel_13456\\123696342.py:1: DeprecationWarning: \n",
      "Pyarrow will become a required dependency of pandas in the next major release of pandas (pandas 3.0),\n",
      "(to allow more performant data types, such as the Arrow string type, and better interoperability with other libraries)\n",
      "but was not found to be installed on your system.\n",
      "If this would cause problems for you,\n",
      "please provide us feedback at https://github.com/pandas-dev/pandas/issues/54466\n",
      "        \n",
      "  import pandas as pd\n"
     ]
    }
   ],
   "source": [
    "import warnings\n",
    "warnings.filterwarnings(\"ignore\")\n",
    "%matplotlib inline\n",
    "import sys\n",
    "from langchain_classification_utils import run_evaluation\n",
    "import pandas as pd  \n",
    "from src import comments \n",
    "from src import prompts\n",
    "  \n",
    "# The path you want to add  \n",
    "path_to_add = r'/home/etaylor/code_projects/dubby'  \n",
    "  \n",
    "# Add the directory to sys.path  \n",
    "sys.path.insert(0, path_to_add)"
   ]
  },
  {
   "cell_type": "code",
   "execution_count": 2,
   "id": "d02aa0bd00c7c13e",
   "metadata": {
    "ExecuteTime": {
     "end_time": "2024-02-20T14:49:59.868940400Z",
     "start_time": "2024-02-20T14:49:59.797842700Z"
    },
    "collapsed": false
   },
   "outputs": [],
   "source": [
    "# take only the first 100 rows\n",
    "test_data_path = \"\"\n",
    "df = pd.read_csv(test_data_path)\n",
    "df = df[:100]"
   ]
  },
  {
   "cell_type": "code",
   "execution_count": 3,
   "id": "877b2003a5ba04b3",
   "metadata": {
    "ExecuteTime": {
     "end_time": "2024-02-20T14:49:59.882389800Z",
     "start_time": "2024-02-20T14:49:59.860411600Z"
    },
    "collapsed": false
   },
   "outputs": [
    {
     "name": "stdout",
     "output_type": "stream",
     "text": [
      "<class 'pandas.core.frame.DataFrame'>\n",
      "RangeIndex: 1972 entries, 0 to 1971\n",
      "Data columns (total 2 columns):\n",
      " #   Column  Non-Null Count  Dtype \n",
      "---  ------  --------------  ----- \n",
      " 0   text    1972 non-null   object\n",
      " 1   label   1972 non-null   int64 \n",
      "dtypes: int64(1), object(1)\n",
      "memory usage: 30.9+ KB\n"
     ]
    }
   ],
   "source": [
    "df.info()"
   ]
  },
  {
   "cell_type": "code",
   "execution_count": 14,
   "id": "f7fec6de165ceb43",
   "metadata": {
    "ExecuteTime": {
     "end_time": "2024-02-20T14:59:56.441911Z",
     "start_time": "2024-02-20T14:59:56.398840800Z"
    },
    "collapsed": false
   },
   "outputs": [],
   "source": [
    "# Define the configurations for the experiments  \n",
    "configurations = [  \n",
    "    # Zero-shot  \n",
    "    {  \n",
    "        'template_type': 'zero_shot',  \n",
    "        'template_text': prompts.template_zero_shot_only_comment,  \n",
    "        'input_vars': [\"comment\", \"start_task_context_prompt\"],  \n",
    "        'input_vars_values': {\"start_task_context_prompt\": prompts.start_task_context_prompt}  \n",
    "    },  \n",
    "    # Single-shot positive example  \n",
    "    {  \n",
    "        'template_type': 'single_shot_pos_example',  \n",
    "        'template_text': prompts.template_single_shot_only_pos_comment,  \n",
    "        'input_vars': [\"comment\", \"start_task_context_prompt\", \"example_comment_pos\"],  \n",
    "        'input_vars_values': {\"start_task_context_prompt\": prompts.start_task_context_prompt,\n",
    "                                \"example_comment_pos\": comments.comment_1_pos}\n",
    "    },  \n",
    "    # Single-shot negative example  \n",
    "    {  \n",
    "        'template_type': 'single_shot_neg_example',  \n",
    "        'template_text': prompts.template_single_shot_only_neg_comment,  \n",
    "        'input_vars': [\"comment\", \"start_task_context_prompt\", \"example_comment_neg\"],  \n",
    "             'input_vars_values': {\"start_task_context_prompt\": prompts.start_task_context_prompt,\n",
    "                                \"example_comment_neg\": comments.comment_1_neg}\n",
    "    },  \n",
    "    # Single-shot both examples  \n",
    "    {  \n",
    "        'template_type': 'single_shot_both_examples',  \n",
    "        'template_text': prompts.template_single_shot_only_comment,  \n",
    "        'input_vars': [\"comment\", \"start_task_context_prompt\", \"example_comment_pos\", \"example_comment_neg\"],  \n",
    "        'input_vars_values': {\"start_task_context_prompt\": prompts.start_task_context_prompt,\n",
    "                                \"example_comment_pos\": comments.comment_1_pos,\n",
    "                                \"example_comment_neg\": comments.comment_1_neg}\n",
    "    },  \n",
    "    # Few-shot positive examples  \n",
    "    {  \n",
    "        'template_type': 'few_shot_pos_examples',  \n",
    "        'template_text': prompts.template_few_shot_only_pos_comment,  \n",
    "        'input_vars': [\"comment\", \"start_task_context_prompt\", \"example_comment_1_pos\", \"example_comment_2_pos\", 'example_comment_3_pos'],  \n",
    "        'input_vars_values': {\"start_task_context_prompt\": prompts.start_task_context_prompt,\n",
    "                                \"example_comment_1_pos\": comments.comment_1_pos,\n",
    "                                \"example_comment_2_pos\": comments.comment_2_pos,\n",
    "                                'example_comment_3_pos': comments.comment_3_pos}\n",
    "    },  \n",
    "    # Few-shot negative examples  \n",
    "     {  \n",
    "        'template_type': 'few_shot_neg_examples',  \n",
    "        'template_text': prompts.template_few_shot_only_neg_comment,  \n",
    "        'input_vars': [\"comment\", \"start_task_context_prompt\", \"example_comment_1_neg\", \"example_comment_2_neg\", 'example_comment_3_neg'],  \n",
    "        'input_vars_values': {  \n",
    "            \"start_task_context_prompt\": prompts.start_task_context_prompt,  \n",
    "            \"example_comment_1_neg\": comments.comment_1_neg,  \n",
    "            \"example_comment_2_neg\": comments.comment_2_neg,  \n",
    "            'example_comment_3_neg': comments.comment_3_neg  \n",
    "        }  \n",
    "    },  \n",
    "    # Few-shot both examples  \n",
    "  {  \n",
    "        'template_type': 'few_shot_examples',  \n",
    "        'template_text': prompts.template_few_shot_only_comment,  \n",
    "        'input_vars': [\"comment\", \"start_task_context_prompt\", \"example_comment_1_pos\", \"example_comment_2_pos\", 'example_comment_3_pos',\n",
    "                       \"example_comment_1_neg\", \"example_comment_2_neg\", 'example_comment_3_neg'],  \n",
    "        'input_vars_values': {\n",
    "            \"start_task_context_prompt\": prompts.start_task_context_prompt,\n",
    "            \"example_comment_1_pos\": comments.comment_1_pos,\n",
    "            \"example_comment_2_pos\": comments.comment_2_pos,\n",
    "            'example_comment_3_pos': comments.comment_3_pos,\n",
    "            \"example_comment_1_neg\": comments.comment_1_neg,  \n",
    "            \"example_comment_2_neg\": comments.comment_2_neg,  \n",
    "            'example_comment_3_neg': comments.comment_3_neg\n",
    "        }\n",
    "  }\n",
    "]\n"
   ]
  },
  {
   "cell_type": "code",
   "execution_count": 26,
   "id": "5d1d45fdd8ae88df",
   "metadata": {
    "ExecuteTime": {
     "end_time": "2024-02-20T15:31:12.675198600Z",
     "start_time": "2024-02-20T15:28:23.026599800Z"
    },
    "collapsed": false
   },
   "outputs": [
    {
     "name": "stdout",
     "output_type": "stream",
     "text": [
      "Running configuration: zero_shot\n",
      "Model initialized.\n"
     ]
    },
    {
     "name": "stderr",
     "output_type": "stream",
     "text": [
      "100it [00:23,  4.30it/s]\n"
     ]
    },
    {
     "name": "stdout",
     "output_type": "stream",
     "text": [
      "Predictions made.\n",
      "Accuracy: 0.57\n",
      "Precision: 0.6142207523770152\n",
      "Recall: 0.57\n",
      "Running configuration: single_shot_pos_example\n",
      "Model initialized.\n"
     ]
    },
    {
     "name": "stderr",
     "output_type": "stream",
     "text": [
      "100it [00:21,  4.63it/s]\n"
     ]
    },
    {
     "name": "stdout",
     "output_type": "stream",
     "text": [
      "Predictions made.\n",
      "Accuracy: 0.58\n",
      "Precision: 0.7197368421052631\n",
      "Recall: 0.58\n",
      "Running configuration: single_shot_neg_example\n",
      "Model initialized.\n"
     ]
    },
    {
     "name": "stderr",
     "output_type": "stream",
     "text": [
      "100it [00:22,  4.39it/s]\n"
     ]
    },
    {
     "name": "stdout",
     "output_type": "stream",
     "text": [
      "Predictions made.\n",
      "Accuracy: 0.65\n",
      "Precision: 0.6784423926134083\n",
      "Recall: 0.65\n",
      "Running configuration: single_shot_both_examples\n",
      "Model initialized.\n"
     ]
    },
    {
     "name": "stderr",
     "output_type": "stream",
     "text": [
      "100it [00:21,  4.59it/s]\n"
     ]
    },
    {
     "name": "stdout",
     "output_type": "stream",
     "text": [
      "Predictions made.\n",
      "Accuracy: 0.59\n",
      "Precision: 0.6356345597354278\n",
      "Recall: 0.59\n",
      "Running configuration: few_shot_pos_examples\n",
      "Model initialized.\n"
     ]
    },
    {
     "name": "stderr",
     "output_type": "stream",
     "text": [
      "100it [00:22,  4.51it/s]\n"
     ]
    },
    {
     "name": "stdout",
     "output_type": "stream",
     "text": [
      "Predictions made.\n",
      "Accuracy: 0.57\n",
      "Precision: 0.7139469226425749\n",
      "Recall: 0.57\n",
      "Running configuration: few_shot_neg_examples\n",
      "Model initialized.\n"
     ]
    },
    {
     "name": "stderr",
     "output_type": "stream",
     "text": [
      "100it [00:22,  4.47it/s]\n"
     ]
    },
    {
     "name": "stdout",
     "output_type": "stream",
     "text": [
      "Predictions made.\n",
      "Accuracy: 0.67\n",
      "Precision: 0.6686843211433375\n",
      "Recall: 0.67\n",
      "Running configuration: few_shot_neg_examples\n",
      "Model initialized.\n"
     ]
    },
    {
     "name": "stderr",
     "output_type": "stream",
     "text": [
      "100it [00:22,  4.36it/s]"
     ]
    },
    {
     "name": "stdout",
     "output_type": "stream",
     "text": [
      "Predictions made.\n",
      "Accuracy: 0.61\n",
      "Precision: 0.6734448734448734\n",
      "Recall: 0.61\n",
      "All evaluations are complete and results are saved to gpt-35-turbo_evaluation_results.json.\n"
     ]
    },
    {
     "name": "stderr",
     "output_type": "stream",
     "text": [
      "\n"
     ]
    }
   ],
   "source": [
    "import json\n",
    "# Assuming 'df' is the DataFrame with the data to evaluate  \n",
    "num_records = 100  # Number of records to evaluate  \n",
    "azure_deployment_name = 'gpt-35-turbo'  # Replace with your specific deployment name  \n",
    "  \n",
    "# Dictionary to store the results of all runs  \n",
    "all_results = []  \n",
    "  \n",
    "# Iterate over all configurations and run the evaluation  \n",
    "for config in configurations:  \n",
    "    print(f\"Running configuration: {config['template_type']}\") \n",
    "    template_dict = {'template_type': config['template_type'], 'template_text': config['template_text']}\n",
    "    result = run_evaluation(df, azure_deployment_name,\n",
    "                            num_records,   \n",
    "                            template_dict,   \n",
    "                            config['input_vars'],   \n",
    "                            config['input_vars_values'],  \n",
    "                            verbose=True)  \n",
    "    all_results.append(result)  \n",
    "  \n",
    "# Convert results to JSON and save to a file  \n",
    "results_json = json.dumps(all_results, indent=4)\n",
    "result_file_name = f'{azure_deployment_name}_evaluation_results.json'  \n",
    "with open(result_file_name, 'w') as outfile:  \n",
    "    outfile.write(results_json)  \n",
    "  \n",
    "print(f\"All evaluations are complete and results are saved to {result_file_name}.\")"
   ]
  },
  {
   "cell_type": "code",
   "execution_count": 18,
   "id": "8b11cb97482270ca",
   "metadata": {
    "ExecuteTime": {
     "end_time": "2024-02-20T15:12:33.138988600Z",
     "start_time": "2024-02-20T15:12:33.110673Z"
    },
    "collapsed": false
   },
   "outputs": [
    {
     "name": "stdout",
     "output_type": "stream",
     "text": [
      "7\n"
     ]
    }
   ],
   "source": [
    "print(len(all_results))"
   ]
  }
 ],
 "metadata": {
  "kernelspec": {
   "display_name": "Python (dubby)",
   "language": "python",
   "name": "deltapredictor"
  },
  "language_info": {
   "codemirror_mode": {
    "name": "ipython",
    "version": 2
   },
   "file_extension": ".py",
   "mimetype": "text/x-python",
   "name": "python",
   "nbconvert_exporter": "python",
   "pygments_lexer": "ipython2",
   "version": "2.7.6"
  }
 },
 "nbformat": 4,
 "nbformat_minor": 5
}
