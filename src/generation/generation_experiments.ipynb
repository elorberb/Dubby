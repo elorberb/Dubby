{
 "cells": [
  {
   "cell_type": "code",
   "execution_count": 1,
   "metadata": {},
   "outputs": [],
   "source": [
    "from transformers import AutoModelForCausalLM, AutoTokenizer\n",
    "\n",
    "class HuggingFaceLLMEngine:\n",
    "    def __init__(self, model_name: str):\n",
    "        \"\"\"\n",
    "        Initializes the model and tokenizer based on the specified model name.\n",
    "        \"\"\"\n",
    "        self.tokenizer = AutoTokenizer.from_pretrained(model_name)\n",
    "        # Ensure that the tokenizer has a pad token\n",
    "        if self.tokenizer.pad_token is None:\n",
    "            if self.tokenizer.eos_token is not None:\n",
    "                self.tokenizer.pad_token = self.tokenizer.eos_token\n",
    "            else:\n",
    "                # Default to the most common pad token if eos_token is also not set\n",
    "                self.tokenizer.pad_token = '<pad>'\n",
    "                \n",
    "        self.model = AutoModelForCausalLM.from_pretrained(model_name, pad_token_id=self.tokenizer.pad_token_id)\n",
    "    \n",
    "    def generate_text(self, prompt: str, **generation_kwargs):\n",
    "        \"\"\"\n",
    "        Generates text based on a prompt.\n",
    "        \"\"\"\n",
    "        # Encode input and generate attention_mask\n",
    "        encoding = self.tokenizer(prompt, return_tensors=\"pt\", padding=True, truncation=True, max_length=generation_kwargs.get('max_length', 512))\n",
    "        # Generate text using both input_ids and attention_mask\n",
    "        output = self.model.generate(**encoding, **generation_kwargs)\n",
    "        return self.tokenizer.decode(output[0], skip_special_tokens=True)"
   ]
  },
  {
   "cell_type": "code",
   "execution_count": 2,
   "metadata": {},
   "outputs": [],
   "source": [
    "# Example usage\n",
    "model_name = \"Rocketknight1/falcon-rw-1b\"\n",
    "engine = HuggingFaceLLMEngine(model_name=model_name)"
   ]
  },
  {
   "cell_type": "code",
   "execution_count": 3,
   "metadata": {},
   "outputs": [
    {
     "name": "stderr",
     "output_type": "stream",
     "text": [
      "Setting `pad_token_id` to `eos_token_id`:2 for open-end generation.\n"
     ]
    }
   ],
   "source": [
    "prompt = \"rewrite this text: i think eating ice cream is the best thing ever\"\n",
    "generated_text = engine.generate_text(prompt, max_length=50)"
   ]
  },
  {
   "cell_type": "code",
   "execution_count": 4,
   "metadata": {},
   "outputs": [
    {
     "data": {
      "text/plain": [
       "'rewrite this text: i think eating ice cream is the best thing ever.\\n- I think eating ice cream is the best thing ever.\\n- I think eating ice cream is the best thing ever.\\n- I think eating ice cream is'"
      ]
     },
     "execution_count": 4,
     "metadata": {},
     "output_type": "execute_result"
    }
   ],
   "source": [
    "generated_text"
   ]
  },
  {
   "cell_type": "code",
   "execution_count": 8,
   "metadata": {},
   "outputs": [
    {
     "data": {
      "application/vnd.jupyter.widget-view+json": {
       "model_id": "f330e4c8f80a4fe7a66858ce5e66d418",
       "version_major": 2,
       "version_minor": 0
      },
      "text/plain": [
       "generation_config.json:   0%|          | 0.00/116 [00:00<?, ?B/s]"
      ]
     },
     "metadata": {},
     "output_type": "display_data"
    }
   ],
   "source": [
    "# Example usage\n",
    "model_name_falcon = \"Rocketknight1/falcon-rw-1b\"\n",
    "engine = HuggingFaceLLMEngine(model_name=model_name_falcon)"
   ]
  },
  {
   "cell_type": "code",
   "execution_count": 9,
   "metadata": {},
   "outputs": [
    {
     "name": "stderr",
     "output_type": "stream",
     "text": [
      "Setting `pad_token_id` to `eos_token_id`:2 for open-end generation.\n"
     ]
    }
   ],
   "source": [
    "prompt = \"rewrite this text: i think eating ice cream is the best thing ever\"\n",
    "generated_text = engine.generate_text(prompt, max_length=50)"
   ]
  },
  {
   "cell_type": "code",
   "execution_count": 10,
   "metadata": {},
   "outputs": [
    {
     "data": {
      "text/plain": [
       "'rewrite this text: i think eating ice cream is the best thing ever.\\n- I think eating ice cream is the best thing ever.\\n- I think eating ice cream is the best thing ever.\\n- I think eating ice cream is'"
      ]
     },
     "execution_count": 10,
     "metadata": {},
     "output_type": "execute_result"
    }
   ],
   "source": [
    "generated_text"
   ]
  },
  {
   "cell_type": "code",
   "execution_count": null,
   "metadata": {},
   "outputs": [],
   "source": []
  }
 ],
 "metadata": {
  "kernelspec": {
   "display_name": "dubby",
   "language": "python",
   "name": "python3"
  },
  "language_info": {
   "codemirror_mode": {
    "name": "ipython",
    "version": 3
   },
   "file_extension": ".py",
   "mimetype": "text/x-python",
   "name": "python",
   "nbconvert_exporter": "python",
   "pygments_lexer": "ipython3",
   "version": "3.12.2"
  }
 },
 "nbformat": 4,
 "nbformat_minor": 2
}
