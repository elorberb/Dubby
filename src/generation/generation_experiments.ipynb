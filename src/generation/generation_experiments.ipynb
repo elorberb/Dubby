{
 "cells": [
  {
   "cell_type": "markdown",
   "source": [],
   "metadata": {
    "collapsed": false
   }
  },
  {
   "cell_type": "code",
   "execution_count": 1,
   "metadata": {
    "ExecuteTime": {
     "end_time": "2024-03-13T08:09:27.262174300Z",
     "start_time": "2024-03-13T08:09:19.766547Z"
    }
   },
   "outputs": [
    {
     "name": "stderr",
     "output_type": "stream",
     "text": [
      "C:\\Users\\elorberb\\AppData\\Local\\Temp\\ipykernel_24932\\4189502703.py:8: DeprecationWarning: \n",
      "Pyarrow will become a required dependency of pandas in the next major release of pandas (pandas 3.0),\n",
      "(to allow more performant data types, such as the Arrow string type, and better interoperability with other libraries)\n",
      "but was not found to be installed on your system.\n",
      "If this would cause problems for you,\n",
      "please provide us feedback at https://github.com/pandas-dev/pandas/issues/54466\n",
      "        \n",
      "  import pandas as pd\n"
     ]
    }
   ],
   "source": [
    "import sys\n",
    "# The path you want to add  \n",
    "path_to_add = r'/home/etaylor/code_projects/dubby'  \n",
    "# Add the directory to sys.path  \n",
    "sys.path.insert(0, path_to_add)\n",
    "from src.langchain_utils import initialize_model\n",
    "from src.prompts import generation_prompts as gp\n",
    "import pandas as pd"
   ]
  },
  {
   "cell_type": "code",
   "execution_count": 3,
   "outputs": [
    {
     "data": {
      "text/plain": "                                                text  label\n0  comment: Look at the definition you provided, ...      1\n1  comment: ∆.  Yours was the first comment I rea...      1\n2  comment: Maybe a new word is needed? Making su...      1\n3  comment: You're using natural to mean definiti...      0\n4  comment: Making a political statement is not t...      1",
      "text/html": "<div>\n<style scoped>\n    .dataframe tbody tr th:only-of-type {\n        vertical-align: middle;\n    }\n\n    .dataframe tbody tr th {\n        vertical-align: top;\n    }\n\n    .dataframe thead th {\n        text-align: right;\n    }\n</style>\n<table border=\"1\" class=\"dataframe\">\n  <thead>\n    <tr style=\"text-align: right;\">\n      <th></th>\n      <th>text</th>\n      <th>label</th>\n    </tr>\n  </thead>\n  <tbody>\n    <tr>\n      <th>0</th>\n      <td>comment: Look at the definition you provided, ...</td>\n      <td>1</td>\n    </tr>\n    <tr>\n      <th>1</th>\n      <td>comment: ∆.  Yours was the first comment I rea...</td>\n      <td>1</td>\n    </tr>\n    <tr>\n      <th>2</th>\n      <td>comment: Maybe a new word is needed? Making su...</td>\n      <td>1</td>\n    </tr>\n    <tr>\n      <th>3</th>\n      <td>comment: You're using natural to mean definiti...</td>\n      <td>0</td>\n    </tr>\n    <tr>\n      <th>4</th>\n      <td>comment: Making a political statement is not t...</td>\n      <td>1</td>\n    </tr>\n  </tbody>\n</table>\n</div>"
     },
     "execution_count": 3,
     "metadata": {},
     "output_type": "execute_result"
    }
   ],
   "source": [
    "df = pd.read_csv(r\"C:\\Users\\elorberb\\PycharmProjects\\BGU projects\\Advanced_NLP\\DeltaPredictor\\data\\updated_data\\test_comment.csv\")\n",
    "df.head()"
   ],
   "metadata": {
    "collapsed": false,
    "ExecuteTime": {
     "end_time": "2024-03-13T08:09:50.367506300Z",
     "start_time": "2024-03-13T08:09:50.226208200Z"
    }
   }
  },
  {
   "cell_type": "code",
   "execution_count": 6,
   "outputs": [],
   "source": [
    "from langchain_openai import AzureChatOpenAI\n",
    "from langchain.prompts import PromptTemplate\n",
    "from langchain.chains import LLMChain\n",
    "from dotenv import load_dotenv\n",
    "import re\n",
    "from tqdm import tqdm\n",
    "import pandas as pd\n",
    "from sklearn.metrics import accuracy_score, precision_score, recall_score"
   ],
   "metadata": {
    "collapsed": false,
    "ExecuteTime": {
     "end_time": "2024-03-13T08:34:06.556064700Z",
     "start_time": "2024-03-13T08:34:06.532967300Z"
    }
   }
  },
  {
   "cell_type": "code",
   "execution_count": 5,
   "outputs": [
    {
     "data": {
      "text/plain": "                                                 text  label\n3   comment: You're using natural to mean definiti...      0\n10  comment: A lot (dunno %) vegetarians/vegans se...      0\n11  comment: sure, but as i've mentioned several t...      0\n12  comment: Another strong pro-veg point is that ...      0\n13  comment: It is bad analogy and derails discuss...      0",
      "text/html": "<div>\n<style scoped>\n    .dataframe tbody tr th:only-of-type {\n        vertical-align: middle;\n    }\n\n    .dataframe tbody tr th {\n        vertical-align: top;\n    }\n\n    .dataframe thead th {\n        text-align: right;\n    }\n</style>\n<table border=\"1\" class=\"dataframe\">\n  <thead>\n    <tr style=\"text-align: right;\">\n      <th></th>\n      <th>text</th>\n      <th>label</th>\n    </tr>\n  </thead>\n  <tbody>\n    <tr>\n      <th>3</th>\n      <td>comment: You're using natural to mean definiti...</td>\n      <td>0</td>\n    </tr>\n    <tr>\n      <th>10</th>\n      <td>comment: A lot (dunno %) vegetarians/vegans se...</td>\n      <td>0</td>\n    </tr>\n    <tr>\n      <th>11</th>\n      <td>comment: sure, but as i've mentioned several t...</td>\n      <td>0</td>\n    </tr>\n    <tr>\n      <th>12</th>\n      <td>comment: Another strong pro-veg point is that ...</td>\n      <td>0</td>\n    </tr>\n    <tr>\n      <th>13</th>\n      <td>comment: It is bad analogy and derails discuss...</td>\n      <td>0</td>\n    </tr>\n  </tbody>\n</table>\n</div>"
     },
     "execution_count": 5,
     "metadata": {},
     "output_type": "execute_result"
    }
   ],
   "source": [
    "filtered_df = df[df['label'] == 0]\n",
    "\n",
    "# Select the first 25 records from the filtered DataFrame\n",
    "exp_df = filtered_df.head(25)\n",
    "exp_df.head()"
   ],
   "metadata": {
    "collapsed": false,
    "ExecuteTime": {
     "end_time": "2024-03-13T08:33:19.843738300Z",
     "start_time": "2024-03-13T08:33:19.765573900Z"
    }
   }
  },
  {
   "cell_type": "code",
   "execution_count": null,
   "outputs": [],
   "source": [
    "def generate_comments(chain, df, n):\n",
    "    df_copy = df.copy()\n",
    "    df_copy['generated_comment'] = None\n",
    "\n",
    "    for i, row in tqdm(df.head(n).iterrows(), total=n):\n",
    "        comment = row['text']\n",
    "        input_vars_values = {'comment': comment}  # Assuming 'comment' is defined in your prompt template\n",
    "\n",
    "        # Generate the response using the language model\n",
    "        resp = chain(input_vars_values)\n",
    "        generated_comment = resp['text']  # Adjust based on the actual key in the response\n",
    "        df_copy.at[i, 'generated_comment'] = generated_comment\n",
    "\n",
    "    return df_copy\n",
    "\n",
    "\n",
    "def run_comment_generation(df, azure_deployment_name, num_records, template_dict, input_vars):\n",
    "    # Initialize the model with the specified parameters\n",
    "    chain = initialize_model(azure_deployment_name, template_dict['template_text'], input_vars)\n",
    "    print(\"Model initialized.\")\n",
    "\n",
    "    # Generate comments for the specified number of records\n",
    "    df_copy = generate_comments(chain, df, num_records)\n",
    "\n",
    "    # Here you can add any post-generation processing, such as saving the results or analyzing the generated comments\n",
    "    return df_copy"
   ],
   "metadata": {
    "collapsed": false
   }
  }
 ],
 "metadata": {
  "kernelspec": {
   "name": "deltapredictor",
   "language": "python",
   "display_name": "Python (dubby)"
  },
  "language_info": {
   "codemirror_mode": {
    "name": "ipython",
    "version": 3
   },
   "file_extension": ".py",
   "mimetype": "text/x-python",
   "name": "python",
   "nbconvert_exporter": "python",
   "pygments_lexer": "ipython3",
   "version": "3.12.2"
  }
 },
 "nbformat": 4,
 "nbformat_minor": 2
}
