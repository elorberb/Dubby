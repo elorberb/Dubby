{
 "cells": [
  {
   "cell_type": "code",
   "execution_count": 6,
   "metadata": {},
   "outputs": [
    {
     "data": {
      "text/html": [
       "<div>\n",
       "<style scoped>\n",
       "    .dataframe tbody tr th:only-of-type {\n",
       "        vertical-align: middle;\n",
       "    }\n",
       "\n",
       "    .dataframe tbody tr th {\n",
       "        vertical-align: top;\n",
       "    }\n",
       "\n",
       "    .dataframe thead th {\n",
       "        text-align: right;\n",
       "    }\n",
       "</style>\n",
       "<table border=\"1\" class=\"dataframe\">\n",
       "  <thead>\n",
       "    <tr style=\"text-align: right;\">\n",
       "      <th></th>\n",
       "      <th>text</th>\n",
       "      <th>label</th>\n",
       "    </tr>\n",
       "  </thead>\n",
       "  <tbody>\n",
       "    <tr>\n",
       "      <th>0</th>\n",
       "      <td>comment: Look at the definition you provided, ...</td>\n",
       "      <td>1</td>\n",
       "    </tr>\n",
       "    <tr>\n",
       "      <th>1</th>\n",
       "      <td>comment: ∆.  Yours was the first comment I rea...</td>\n",
       "      <td>1</td>\n",
       "    </tr>\n",
       "    <tr>\n",
       "      <th>2</th>\n",
       "      <td>comment: Maybe a new word is needed? Making su...</td>\n",
       "      <td>1</td>\n",
       "    </tr>\n",
       "    <tr>\n",
       "      <th>3</th>\n",
       "      <td>comment: You're using natural to mean definiti...</td>\n",
       "      <td>0</td>\n",
       "    </tr>\n",
       "    <tr>\n",
       "      <th>4</th>\n",
       "      <td>comment: Making a political statement is not t...</td>\n",
       "      <td>1</td>\n",
       "    </tr>\n",
       "  </tbody>\n",
       "</table>\n",
       "</div>"
      ],
      "text/plain": [
       "                                                text  label\n",
       "0  comment: Look at the definition you provided, ...      1\n",
       "1  comment: ∆.  Yours was the first comment I rea...      1\n",
       "2  comment: Maybe a new word is needed? Making su...      1\n",
       "3  comment: You're using natural to mean definiti...      0\n",
       "4  comment: Making a political statement is not t...      1"
      ]
     },
     "execution_count": 6,
     "metadata": {},
     "output_type": "execute_result"
    }
   ],
   "source": [
    "import pandas as pd\n",
    "df = pd.read_csv('/home/etaylor/code_projects/dubby/data/updated_data/test_comment.csv')\n",
    "df.head()"
   ]
  },
  {
   "cell_type": "code",
   "execution_count": 9,
   "metadata": {},
   "outputs": [],
   "source": [
    "import sys\n",
    "# The path you want to add  \n",
    "path_to_add = r'/home/etaylor/code_projects/dubby'  \n",
    "  \n",
    "# Add the directory to sys.path  \n",
    "sys.path.insert(0, path_to_add)"
   ]
  },
  {
   "cell_type": "code",
   "execution_count": 2,
   "metadata": {},
   "outputs": [],
   "source": [
    "import os\n",
    "os.environ[\"ANTHROPIC_API_KEY\"] = \"\""
   ]
  },
  {
   "cell_type": "code",
   "execution_count": 3,
   "metadata": {},
   "outputs": [],
   "source": [
    "from langchain_anthropic import ChatAnthropic\n",
    "from langchain_core.prompts import ChatPromptTemplate\n",
    "\n",
    "model = ChatAnthropic(model='claude-3-opus-20240229')"
   ]
  },
  {
   "cell_type": "code",
   "execution_count": 18,
   "metadata": {},
   "outputs": [],
   "source": [
    "intro_prompt = \"\"\"\n",
    "As an advanced language learning model (LLM), your capability to craft persuasive and engaging responses is crucial across a wide range of discussions and debates. To enhance your effectiveness in changing viewpoints or persuading others, especially in online forums or discussions like Reddit's ChangeMyView, it's important to understand and apply key strategies that increase the likelihood of your argument being accepted and valued by others.\n",
    "\n",
    "You will be introduced to several points that serve as guidelines or strategies for crafting your responses. These points are derived from an analysis of successful persuasive arguments in online discussions, focusing on how to structure your argument, the tone to use, and the content to include for maximum impact. The goal is to make your argument more compelling, respectful, and convincing to those who may initially disagree with your viewpoint.\n",
    "\n",
    "Before you receive these points, it's essential to grasp the underlying concept that persuasion is not just about presenting facts or opinions but doing so in a manner that connects with your audience on a logical and emotional level. This involves:\n",
    "\n",
    "1. *Timeliness*: Entering the conversation early to set the tone and direction.\n",
    "2. *Engagement*: Participating in a meaningful back-and-forth exchange without dragging it out unnecessarily.\n",
    "3. *Adaptability*: Mirroring the style of the discussion while introducing your unique vocabulary and perspective.\n",
    "4. *Evidence*: Supporting your argument with credible data and sources.\n",
    "5. *Tone*: Maintaining a calm, reasoned approach that fosters open dialogue.\n",
    "6. *Organization*: Structuring your argument clearly and thoroughly for easy comprehension.\n",
    "7. *Uniqueness*: Offering a fresh angle or insight that hasn't been considered.\n",
    "8. *Rhetorical Skills*: Using rhetorical strategies effectively to engage and persuade.\n",
    "\n",
    "Your task will be to internalize these concepts and prepare to apply them when constructing arguments. This will not only enhance your persuasive capabilities but also enable you to contribute positively to discussions, fostering a more informed and respectful exchange of ideas. Keep these principles in mind as you learn and apply each strategy in your responses. You will be provided with the exact points you should use, so just expect to get informed with which points you should use.\n",
    "\"\"\"\n",
    "all_points_prompt = \"\"\"\n",
    "1. *Enter Early*  \n",
    "   - *Summary*: Being one of the first to respond can significantly increase your persuasive impact.\n",
    "   - *Elaborated Prompt*: Imagine you are engaging in a new discussion topic where you hold a contrary viewpoint. As one of the first to contribute, outline your argument succinctly, emphasizing the broader benefits of your stance. Ensure your opening statement is engaging and sets a positive, constructive tone for the conversation.\n",
    "\n",
    "2. *Engage in Some Back-and-Forth*  \n",
    "   - *Summary*: Moderate engagement through back-and-forth dialogue with the OP enhances persuasion.\n",
    "   - *Elaborated Prompt*: In a discussion where the OP has reservations about your viewpoint, acknowledge their concerns thoughtfully and present counterarguments that gently challenge their assumptions. Strive for a balanced dialogue, providing insights and evidence while encouraging further discussion.\n",
    "\n",
    "3. *Use Different Wording, Similar Style*  \n",
    "   - *Summary*: Reflecting the OP's style with your unique vocabulary can make your argument more compelling.\n",
    "   - *Elaborated Prompt*: Craft your response by carefully considering the style and tone of the OP's original post. Adapt your language to mirror this style while introducing your vocabulary to present your perspective, aiming for a balance that maintains the conversation's flow and respect.\n",
    "\n",
    "4. *Cite Evidence*  \n",
    "   - *Summary*: Supporting your argument with data or references lends credibility.\n",
    "   - *Elaborated Prompt*: Construct your argument by integrating relevant data, studies, or expert opinions that support your viewpoint. Reference these sources to bolster your points, explaining how they directly relate to the discussion and strengthen your position.\n",
    "\n",
    "5. *Calm, Reasoned Tone*  \n",
    "   - *Summary*: A rational and measured approach tends to be more persuasive.\n",
    "   - *Elaborated Prompt*: Approach the discussion with a tone of understanding and reason. Address the topic logically, presenting your arguments in a manner that is thoughtful and considers different perspectives, aiming to facilitate a respectful and productive dialogue.\n",
    "\n",
    "6. *Formatting and Length*  \n",
    "   - *Summary*: Clear organization and thorough exploration of your argument can enhance its persuasiveness.\n",
    "   - *Elaborated Prompt*: Develop a well-structured argument, starting with a clear introduction of your position, followed by detailed sections that explore various facets of your argument, and conclude with a summary that reinforces your main points. Use headings, bullet points, and emphasis where appropriate to improve readability and engagement.\n",
    "\n",
    "7. *Differ from Other Challengers*  \n",
    "   - *Summary*: Presenting a unique angle on the topic can help your argument stand out.\n",
    "   - *Elaborated Prompt*: Identify aspects of the discussion not yet explored by others and center your argument around these fresh perspectives. Highlight how this new angle contributes to a more comprehensive understanding of the topic, enriching the ongoing conversation.\n",
    "\n",
    "8. *Persuasive Techniques*  \n",
    "   - *Summary*: Effective use of rhetorical strategies can make your argument more engaging and convincing.\n",
    "   - *Elaborated Prompt*: Employ persuasive techniques such as drawing analogies, using rhetorical questions, or presenting hypothetical scenarios to illustrate your points vividly. Craft your argument in a way that engages the readers' imagination and encourages them to see the issue from your perspective.\n",
    "\n",
    "\"\"\"\n",
    "\n",
    "prompt = intro_prompt + \"Please reply only by rephrasing the comment based on the points provided.\""
   ]
  },
  {
   "cell_type": "code",
   "execution_count": 19,
   "metadata": {},
   "outputs": [],
   "source": [
    "from src import generation_prompts as gp\n",
    "# system = \"\"\"\n",
    "# You are an advanced AI trained to improve the persuasiveness of comments in online discussions, specifically for Reddit's ChangeMyView subreddit. Your enhancements should adhere to the following points for maximum impact: Timeliness, Engagement, Adaptability, Evidence, Tone, Organization, Uniqueness, and Rhetorical Skills. Your goal is to rephrase the provided comment to make it more compelling, respectful, and convincing.\n",
    "# \"\"\"\n",
    "\n",
    "system = prompt\n",
    "\n",
    "# Define the human message placeholder\n",
    "human = \"Original comment: {comment}\"\n",
    "\n",
    "# Create the prompt template\n",
    "prompt_template = ChatPromptTemplate.from_messages([\n",
    "    (\"system\", system),\n",
    "    (\"human\", human)\n",
    "])\n",
    "\n",
    "# Assuming 'model' is your AI model that can process this prompt structure\n",
    "chain = prompt_template | model\n",
    "\n",
    "# Invoke the chain with a specific comment\n",
    "upgraded_comment = chain.invoke({\n",
    "    f\"comment\": df['text'][0]\n",
    "})\n"
   ]
  },
  {
   "cell_type": "code",
   "execution_count": 20,
   "metadata": {},
   "outputs": [
    {
     "name": "stdout",
     "output_type": "stream",
     "text": [
      "('Original comment: comment: Look at the definition you provided, if we remove '\n",
      " 'the exclusion of things which humans create:\\n'\n",
      " '\\n'\n",
      " '&gt; existing in nature ~~and not made or caused by people~~\\n'\n",
      " '\\n'\n",
      " 'So essentially, by this definition, \"natural things\" are \"things that '\n",
      " 'exist,\" which is frankly rather meaningless. If one wanted to discuss the '\n",
      " 'results of human activity we would then have to make up a new word which '\n",
      " 'could be redefined by the same argument. \\n'\n",
      " '\\n'\n",
      " 'The whole point of the word is to exclude human activity. If you remove that '\n",
      " 'aspect, it simply ceases to have meaning.')\n",
      "('*Here is the comment rephrased using the suggested guidelines for persuasive '\n",
      " 'responses:*\\n'\n",
      " '\\n'\n",
      " 'You raise an interesting point about the definition of \"natural things.\" '\n",
      " 'However, I believe the exclusion of human-made objects is a crucial aspect '\n",
      " \"of the term's meaning and purpose.\\n\"\n",
      " '\\n'\n",
      " 'Consider this: the very reason we have a word like \"natural\" is to '\n",
      " 'differentiate between things that arise from non-human processes and those '\n",
      " 'that are a result of human intervention. Stripping away this distinction, as '\n",
      " 'you suggest, would indeed render the term meaningless. \\n'\n",
      " '\\n'\n",
      " 'But the solution isn\\'t to redefine \"natural\" to include everything that '\n",
      " \"exists. Rather, it's to recognize that the term serves a specific linguistic \"\n",
      " 'and conceptual function - it allows us to discuss and study the world as it '\n",
      " 'would be without human influence. This is incredibly valuable in fields like '\n",
      " 'ecology, geology, and even philosophy.\\n'\n",
      " '\\n'\n",
      " 'Moreover, we already have words to describe the totality of existence '\n",
      " '(\"things\",\"entities\", \"objects\", etc.) and the results of human activity '\n",
      " '(\"artificial,\" \"synthetic,\" \"man-made\"). \"Natural\" fills a separate and '\n",
      " 'important semantic niche.\\n'\n",
      " '\\n'\n",
      " 'In conclusion, while I understand the logic of your argument, I believe it '\n",
      " \"overlooks the term's inherent purpose and utility. Removing the human \"\n",
      " 'exclusion from the definition of \"natural\" wouldn\\'t expand the word\\'s '\n",
      " 'meaning, but eliminate it entirely. The distinction between human and '\n",
      " 'non-human spheres of influence is exactly what makes the concept coherent '\n",
      " 'and worthwhile.')\n"
     ]
    }
   ],
   "source": [
    "from pprint import pprint\n",
    "pprint(f\"Original comment: {df['text'][0]}\")\n",
    "pprint(upgraded_comment.content)"
   ]
  },
  {
   "cell_type": "code",
   "execution_count": 14,
   "metadata": {},
   "outputs": [
    {
     "data": {
      "text/plain": [
       "'comment: Look at the definition you provided, if we remove the exclusion of things which humans create:\\n\\n&gt; existing in nature ~~and not made or caused by people~~\\n\\nSo essentially, by this definition, \"natural things\" are \"things that exist,\" which is frankly rather meaningless. If one wanted to discuss the results of human activity we would then have to make up a new word which could be redefined by the same argument. \\n\\nThe whole point of the word is to exclude human activity. If you remove that aspect, it simply ceases to have meaning.'"
      ]
     },
     "execution_count": 14,
     "metadata": {},
     "output_type": "execute_result"
    }
   ],
   "source": [
    "df['text'][0]"
   ]
  },
  {
   "cell_type": "code",
   "execution_count": null,
   "metadata": {},
   "outputs": [],
   "source": []
  }
 ],
 "metadata": {
  "kernelspec": {
   "display_name": "dubby",
   "language": "python",
   "name": "python3"
  },
  "language_info": {
   "codemirror_mode": {
    "name": "ipython",
    "version": 3
   },
   "file_extension": ".py",
   "mimetype": "text/x-python",
   "name": "python",
   "nbconvert_exporter": "python",
   "pygments_lexer": "ipython3",
   "version": "3.12.2"
  }
 },
 "nbformat": 4,
 "nbformat_minor": 2
}
